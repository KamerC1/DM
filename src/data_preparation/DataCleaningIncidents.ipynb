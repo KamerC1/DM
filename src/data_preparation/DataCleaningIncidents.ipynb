{
 "cells": [
  {
   "cell_type": "code",
   "execution_count": 2,
   "metadata": {},
   "outputs": [],
   "source": [
    "import pandas as pd\n",
    "import seaborn as sn\n",
    "import sys\n",
    "sys.path.append('../')\n",
    "from data_understanding.data_type import get_converted_incidents_df"
   ]
  },
  {
   "cell_type": "markdown",
   "metadata": {},
   "source": [
    "Rimozione duplicati"
   ]
  },
  {
   "cell_type": "code",
   "execution_count": 14,
   "metadata": {},
   "outputs": [
    {
     "name": "stdout",
     "output_type": "stream",
     "text": [
      "Prima della rimozione:  (239677, 28)\n",
      "Dopo la rimozione:  (239381, 28)\n",
      "Lost rows:  0.12349954313513604 %\n",
      "Lost rows percentage: \n"
     ]
    }
   ],
   "source": [
    "df = get_converted_incidents_df()\n",
    "before = df.shape\n",
    "df.drop_duplicates(inplace=True)\n",
    "after = df.shape\n",
    "\n",
    "print(\"Prima della rimozione: \", before)\n",
    "print(\"Dopo la rimozione: \", after)\n",
    "print(\"Lost rows: \", (before[0]-after[0])/before[0]*100, \"%\")"
   ]
  }
 ],
 "metadata": {
  "kernelspec": {
   "display_name": "Python 3",
   "language": "python",
   "name": "python3"
  },
  "language_info": {
   "codemirror_mode": {
    "name": "ipython",
    "version": 3
   },
   "file_extension": ".py",
   "mimetype": "text/x-python",
   "name": "python",
   "nbconvert_exporter": "python",
   "pygments_lexer": "ipython3",
   "version": "3.6.9"
  }
 },
 "nbformat": 4,
 "nbformat_minor": 2
}
