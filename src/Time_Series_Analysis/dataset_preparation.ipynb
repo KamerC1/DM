{
 "cells": [
  {
   "cell_type": "code",
   "execution_count": 2,
   "metadata": {},
   "outputs": [],
   "source": [
    "import pandas as pd\n",
    "DATA_PATH = '../../data' #Insert path to data here\n",
    "from sklearn.model_selection import train_test_split"
   ]
  },
  {
   "cell_type": "markdown",
   "metadata": {},
   "source": [
    "**Si recuperano tutti i valori nel campo ‘city_or_county’ per i quali non è possibile determinare se si riferiscono a una ‘city’ o a una ‘county’.**"
   ]
  },
  {
   "cell_type": "code",
   "execution_count": 3,
   "metadata": {},
   "outputs": [],
   "source": [
    "cities = pd.read_csv(\"../../data/uscities.csv\")\n",
    "county = pd.read_csv(\"../../data/county.csv\")\n",
    "df = pd.read_csv(f\"{DATA_PATH}/cluster.csv\")\n",
    "df['date'] = pd.to_datetime(df['date'], format='%Y-%m-%d')\n",
    "df['year'] = df.date.dt.year\n",
    "df = df[(df.year >= 2014) & (df.year <= 2017) ]\n",
    "\n",
    "county_entries = df[df['city_or_county'].str.contains('county', case=False, na=False)]['city_or_county']\n",
    "not_recognized = df[(~df.city_or_county.isin(cities.city)) & (~df.city_or_county.isin(county.name)) & (~df.city_or_county.isin(county_entries))].drop_duplicates(subset=['city_or_county'])"
   ]
  },
  {
   "cell_type": "markdown",
   "metadata": {},
   "source": [
    "**Tramite latitude e longitude recuperiamo la relativa città**"
   ]
  },
  {
   "cell_type": "code",
   "execution_count": null,
   "metadata": {},
   "outputs": [],
   "source": [
    "from geopy.geocoders import Nominatim\n",
    "\n",
    "geolocator = Nominatim(user_agent=\"prova\")\n",
    "def get_city(row):\n",
    "    location = geolocator.reverse([row['latitude'], row['longitude']], exactly_one=True).raw['address']\n",
    "    return location.get('city', None) #Restituisce null se la posizione non si riferisce ad una città\n",
    "\n",
    "not_recognized['city'] = not_recognized.apply(get_city, axis=1)\n",
    "not_recognized.to_csv(f\"../data/not_recognized.csv\", index=False)"
   ]
  },
  {
   "cell_type": "markdown",
   "metadata": {},
   "source": [
    "**Recuperiamo solo le entry che contengono le città**"
   ]
  },
  {
   "cell_type": "code",
   "execution_count": 7,
   "metadata": {},
   "outputs": [],
   "source": [
    "additional_cities = pd.read_csv(\"data/not_recognized.csv\")[[\"city_or_county\", \"city\"]].dropna()\n",
    "dict_temp = additional_cities.set_index('city_or_county')['city'].to_dict()\n",
    "dict_additional_cities = additional_cities.set_index('city_or_county')['city'].to_dict()\n",
    "\n",
    "# Tutte le entry di df['city_or_county'] che sono presenti \n",
    "# in additional_cities['city_or_county'] verranno sostituite con il corrispondente valore di additional_cities['city']\n",
    "df['city_or_county'] = df['city_or_county'].map(dict_additional_cities).fillna(df['city_or_county'])\n",
    "df.rename(columns={'city_or_county': 'city'}, inplace=True)"
   ]
  },
  {
   "cell_type": "code",
   "execution_count": 8,
   "metadata": {},
   "outputs": [],
   "source": [
    "df.to_csv(f\"data/time_Series_Data.csv\", index=False)"
   ]
  }
 ],
 "metadata": {
  "kernelspec": {
   "display_name": ".venv",
   "language": "python",
   "name": "python3"
  },
  "language_info": {
   "codemirror_mode": {
    "name": "ipython",
    "version": 3
   },
   "file_extension": ".py",
   "mimetype": "text/x-python",
   "name": "python",
   "nbconvert_exporter": "python",
   "pygments_lexer": "ipython3",
   "version": "3.9.16"
  }
 },
 "nbformat": 4,
 "nbformat_minor": 2
}
