{
 "cells": [
  {
   "cell_type": "code",
   "execution_count": 1,
   "metadata": {},
   "outputs": [],
   "source": [
    "import pandas as pd\n",
    "DATA_PATH = '../../data' #Insert path to data here\n",
    "from sklearn.model_selection import train_test_split"
   ]
  },
  {
   "cell_type": "markdown",
   "metadata": {},
   "source": [
    "Dataset suddiviso con Hold out (Training + validation set: 80%, Test set: 20%)"
   ]
  },
  {
   "cell_type": "code",
   "execution_count": 2,
   "metadata": {},
   "outputs": [],
   "source": [
    "df = pd.read_csv(f\"{DATA_PATH}/cluster.csv\")\n",
    "df['killed'] = df['n_killed'].apply(lambda x: 1 if x > 0 else 0)\n",
    "df = df.drop('n_killed', axis=1)\n",
    "\n",
    "X = df.drop('killed', axis=1)\n",
    "y = df['killed']\n",
    "\n",
    "X_train, X_test, y_train, y_test = train_test_split(X, y, test_size=0.2, stratify=y, random_state=42)"
   ]
  },
  {
   "cell_type": "code",
   "execution_count": 3,
   "metadata": {},
   "outputs": [],
   "source": [
    "X_train.to_csv(f\"data/training/input.csv\", index=False)\n",
    "y_train.to_csv(f\"data/training/output.csv\", index=False)\n",
    "\n",
    "X_test.to_csv(f\"data/testing/input.csv\", index=False)\n",
    "y_test.to_csv(f\"data/testing/output.csv\", index=False)"
   ]
  }
 ],
 "metadata": {
  "kernelspec": {
   "display_name": ".venv",
   "language": "python",
   "name": "python3"
  },
  "language_info": {
   "codemirror_mode": {
    "name": "ipython",
    "version": 3
   },
   "file_extension": ".py",
   "mimetype": "text/x-python",
   "name": "python",
   "nbconvert_exporter": "python",
   "pygments_lexer": "ipython3",
   "version": "3.9.16"
  }
 },
 "nbformat": 4,
 "nbformat_minor": 2
}
