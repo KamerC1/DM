{
 "cells": [
  {
   "cell_type": "code",
   "execution_count": 1,
   "id": "b13c786a-e895-42cc-9ca5-d7d2db208c3f",
   "metadata": {},
   "outputs": [],
   "source": [
    "import pandas as pd\n",
    "from sklearn.discriminant_analysis import StandardScaler\n",
    "from sklearn.model_selection import cross_val_predict\n",
    "from sklearn.metrics import classification_report\n",
    "from sklearn.metrics import confusion_matrix\n",
    "from sklearn.svm import SVC"
   ]
  },
  {
   "cell_type": "code",
   "execution_count": 2,
   "id": "c9a4b34f-d5ad-4856-aed7-46f6bf593d01",
   "metadata": {},
   "outputs": [],
   "source": [
    "def get_SVM_dataset(input_dir: str, output_dir: str):\n",
    "    input = pd.read_csv(input_dir)\n",
    "    output = pd.read_csv(output_dir)\n",
    "    df = pd.merge(input, output, left_index=True, right_index=True)\n",
    "\n",
    "    selected_collumns = ['n_injured', 'n_arrested', 'n_unharmed', 'n_participants']\n",
    "\n",
    "    df = df[selected_collumns + ['killed']]\n",
    "    df.dropna(inplace=True)\n",
    "\n",
    "    input = df[selected_collumns].values\n",
    "    output = df['killed'].values\n",
    "\n",
    "    # Normalizza i dati\n",
    "    scaler = StandardScaler()\n",
    "    input = scaler.fit_transform(input)\n",
    "    \n",
    "    return input, output\n",
    "\n",
    "input, output = get_SVM_dataset('data/training/input.csv', 'data/training/output.csv')"
   ]
  },
  {
   "cell_type": "markdown",
   "id": "e6b77f46-db77-465b-b2f9-f85756190052",
   "metadata": {},
   "source": [
    "**Cross validation**"
   ]
  },
  {
   "cell_type": "code",
   "execution_count": 3,
   "id": "571c6c29-6998-4e17-9606-acc2ba888546",
   "metadata": {},
   "outputs": [
    {
     "name": "stdout",
     "output_type": "stream",
     "text": [
      "Classification Report:\n",
      "               precision    recall  f1-score   support\n",
      "\n",
      "           0       1.00      0.99      0.99     93154\n",
      "           1       0.98      0.99      0.98     34671\n",
      "\n",
      "    accuracy                           0.99    127825\n",
      "   macro avg       0.99      0.99      0.99    127825\n",
      "weighted avg       0.99      0.99      0.99    127825\n",
      "\n"
     ]
    }
   ],
   "source": [
    "clf = SVC(kernel='rbf', C=0.5, gamma='scale', probability=True, decision_function_shape='ovo')\n",
    "\n",
    "# Ottenere le previsioni di cross-validation\n",
    "predictions = cross_val_predict(clf, input, output, cv=5)\n",
    "\n",
    "# Calcolare e stampare il classification report\n",
    "report = classification_report(output, predictions)\n",
    "print(\"Classification Report:\\n\", report)"
   ]
  },
  {
   "cell_type": "markdown",
   "id": "da9d120e-e729-415c-832e-2eb55cc7fce5",
   "metadata": {},
   "source": [
    "**Training del miglior modello individuato su tutto il dataset e testing**"
   ]
  },
  {
   "cell_type": "code",
   "execution_count": 4,
   "id": "33fb96a9-3c95-4b8b-b1ce-6d0b68139aad",
   "metadata": {},
   "outputs": [],
   "source": [
    "input, output = get_SVM_dataset('data/training/input.csv', 'data/training/output.csv')\n",
    "input_test, output_test = get_SVM_dataset('data/testing/input.csv', 'data/testing/output.csv')"
   ]
  },
  {
   "cell_type": "code",
   "execution_count": 5,
   "id": "a7305fc0-a245-4f41-9fa1-0515b14cccfe",
   "metadata": {
    "tags": []
   },
   "outputs": [
    {
     "name": "stdout",
     "output_type": "stream",
     "text": [
      "Classification Report:\n",
      "               precision    recall  f1-score   support\n",
      "\n",
      "           0       1.00      0.99      0.99     23305\n",
      "           1       0.98      0.99      0.98      8656\n",
      "\n",
      "    accuracy                           0.99     31961\n",
      "   macro avg       0.99      0.99      0.99     31961\n",
      "weighted avg       0.99      0.99      0.99     31961\n",
      "\n",
      "Confusion Matrix:\n",
      " [[23101   204]\n",
      " [  105  8551]]\n"
     ]
    }
   ],
   "source": [
    "# Creare un classificatore SVM\n",
    "clf = SVC(kernel='rbf', C=0.5, gamma='scale', probability=True, decision_function_shape='ovo')\n",
    "\n",
    "# Addestrare il classificatore\n",
    "clf.fit(input, output)\n",
    "\n",
    "# Fare previsioni sui dati di test\n",
    "output_pred = clf.predict(input_test)\n",
    "\n",
    "# Calcolare e stampare il classification report\n",
    "report = classification_report(output_test, output_pred)\n",
    "print(\"Classification Report:\\n\", report)\n",
    "\n",
    "cm = confusion_matrix(output_test, output_pred)\n",
    "print(\"Confusion Matrix:\\n\", cm)"
   ]
  }
 ],
 "metadata": {
  "kernelspec": {
   "display_name": "Python 3 (ipykernel)",
   "language": "python",
   "name": "python3"
  },
  "language_info": {
   "codemirror_mode": {
    "name": "ipython",
    "version": 3
   },
   "file_extension": ".py",
   "mimetype": "text/x-python",
   "name": "python",
   "nbconvert_exporter": "python",
   "pygments_lexer": "ipython3",
   "version": "3.11.5"
  }
 },
 "nbformat": 4,
 "nbformat_minor": 5
}
