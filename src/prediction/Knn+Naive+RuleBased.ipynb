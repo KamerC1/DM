{
 "cells": [
  {
   "cell_type": "code",
   "execution_count": 2,
   "id": "b5153df3-c43f-46c0-bae4-a1d851796024",
   "metadata": {},
   "outputs": [],
   "source": [
    "import pandas as pd\n",
    "import math\n",
    "from sklearn.model_selection import KFold\n",
    "import numpy as np\n",
    "from sklearn.preprocessing import StandardScaler\n",
    "from sklearn.model_selection import cross_val_score\n",
    "import matplotlib.pyplot as plt"
   ]
  },
  {
   "cell_type": "code",
   "execution_count": 9,
   "id": "e6aece09-38cd-4648-bf16-8b62e8726a3c",
   "metadata": {},
   "outputs": [],
   "source": [
    "#metrics computed on the test set\n",
    "from sklearn.metrics import classification_report\n",
    "def report_scores(test_label, test_pred):\n",
    "    print(classification_report(test_label, \n",
    "                            test_pred, \n",
    "                            labels=[0,1]))"
   ]
  },
  {
   "cell_type": "markdown",
   "id": "93f490bc-be75-4e40-bdce-a2d6db4b66a9",
   "metadata": {},
   "source": [
    "### Pre-processing dati\n",
    "Leggo e normalizzo i dati dal training set (80% del dataset di partenza), inoltre isolo solo le feature che potrebbero essere utili per la previsione del numero di morti"
   ]
  },
  {
   "cell_type": "code",
   "execution_count": 5,
   "id": "222d02d8-db12-430b-96e9-d53dcdf24b2e",
   "metadata": {},
   "outputs": [],
   "source": [
    "def get_normalized_dataset(input: str, output: str,scale=True):\n",
    "    input = pd.read_csv(input)\n",
    "    output = pd.read_csv(output)\n",
    "    df = pd.merge(input, output, left_index=True, right_index=True)\n",
    "\n",
    "    selected_collumns = ['n_injured', 'n_arrested', 'n_unharmed', 'n_participants']\n",
    "\n",
    "    df = df[selected_collumns + ['killed']]\n",
    "    df.dropna(inplace=True)\n",
    "\n",
    "    input = df[selected_collumns].values\n",
    "    output = df['killed'].values\n",
    "    if scale:\n",
    "        # Normalizza i dati\n",
    "        scaler = StandardScaler()\n",
    "        input = scaler.fit_transform(input) \n",
    "    \n",
    "    \n",
    "    return input, output\n",
    "\n",
    "input, output = get_normalized_dataset(\"training/input.csv\",\"training/output.csv\")\n"
   ]
  },
  {
   "cell_type": "code",
   "execution_count": 15,
   "id": "8122ad46-e863-4055-aeab-3e18b387951f",
   "metadata": {},
   "outputs": [],
   "source": [
    "Testinput, Testoutput = get_normalized_dataset(\"testing/input.csv\",\"testing/output.csv\")\n",
    "scaler = StandardScaler()"
   ]
  },
  {
   "cell_type": "markdown",
   "id": "1097443b-a745-489a-a982-d25418c026c9",
   "metadata": {
    "jp-MarkdownHeadingCollapsed": true,
    "tags": []
   },
   "source": [
    "# K-nn\n",
    "Uso k-fold cross validation per trovare il miglior parametro k per l'algoritmo e perchè i dati non sono equamente distribuiti tra le diverse classi\n",
    "Come rule of thumb si prende:\n",
    "$$\n",
    "K = \\sqrt{N}\n",
    "$$\n",
    "N è la cardinalità del training set."
   ]
  },
  {
   "cell_type": "code",
   "execution_count": 23,
   "id": "479afdb8-26b9-45bd-a288-6184813f1506",
   "metadata": {},
   "outputs": [],
   "source": [
    "from sklearn.neighbors import KNeighborsClassifier\n",
    "kfold = KFold(n_splits=5, shuffle=True, random_state=42)\n"
   ]
  },
  {
   "cell_type": "code",
   "execution_count": 26,
   "id": "c370c67d-6a7a-40c3-acf8-a6f3d7be9275",
   "metadata": {},
   "outputs": [
    {
     "name": "stdout",
     "output_type": "stream",
     "text": [
      "10/11\r"
     ]
    },
    {
     "ename": "AttributeError",
     "evalue": "module 'matplotlib' has no attribute 'plot'",
     "output_type": "error",
     "traceback": [
      "\u001b[1;31m---------------------------------------------------------------------------\u001b[0m",
      "\u001b[1;31mAttributeError\u001b[0m                            Traceback (most recent call last)",
      "Cell \u001b[1;32mIn[26], line 11\u001b[0m\n\u001b[0;32m      8\u001b[0m     Y_print\u001b[38;5;241m.\u001b[39mappend(cross_val_score(knn,\u001b[38;5;28minput\u001b[39m,output,cv\u001b[38;5;241m=\u001b[39mkfold)\u001b[38;5;241m.\u001b[39mmean())\n\u001b[0;32m      9\u001b[0m     \u001b[38;5;28mprint\u001b[39m(\u001b[38;5;124mf\u001b[39m\u001b[38;5;124m\"\u001b[39m\u001b[38;5;132;01m{\u001b[39;00mi\u001b[38;5;132;01m}\u001b[39;00m\u001b[38;5;124m/11\u001b[39m\u001b[38;5;124m\"\u001b[39m,end\u001b[38;5;241m=\u001b[39m\u001b[38;5;124m\"\u001b[39m\u001b[38;5;130;01m\\r\u001b[39;00m\u001b[38;5;124m\"\u001b[39m)\n\u001b[1;32m---> 11\u001b[0m \u001b[43mplt\u001b[49m\u001b[38;5;241;43m.\u001b[39;49m\u001b[43mplot\u001b[49m(X_print,Y_print)\n",
      "File \u001b[1;32m~\\anaconda3\\lib\\site-packages\\matplotlib\\_api\\__init__.py:226\u001b[0m, in \u001b[0;36mcaching_module_getattr.<locals>.__getattr__\u001b[1;34m(name)\u001b[0m\n\u001b[0;32m    224\u001b[0m \u001b[38;5;28;01mif\u001b[39;00m name \u001b[38;5;129;01min\u001b[39;00m props:\n\u001b[0;32m    225\u001b[0m     \u001b[38;5;28;01mreturn\u001b[39;00m props[name]\u001b[38;5;241m.\u001b[39m\u001b[38;5;21m__get__\u001b[39m(instance)\n\u001b[1;32m--> 226\u001b[0m \u001b[38;5;28;01mraise\u001b[39;00m \u001b[38;5;167;01mAttributeError\u001b[39;00m(\n\u001b[0;32m    227\u001b[0m     \u001b[38;5;124mf\u001b[39m\u001b[38;5;124m\"\u001b[39m\u001b[38;5;124mmodule \u001b[39m\u001b[38;5;132;01m{\u001b[39;00m\u001b[38;5;28mcls\u001b[39m\u001b[38;5;241m.\u001b[39m\u001b[38;5;18m__module__\u001b[39m\u001b[38;5;132;01m!r}\u001b[39;00m\u001b[38;5;124m has no attribute \u001b[39m\u001b[38;5;132;01m{\u001b[39;00mname\u001b[38;5;132;01m!r}\u001b[39;00m\u001b[38;5;124m\"\u001b[39m)\n",
      "\u001b[1;31mAttributeError\u001b[0m: module 'matplotlib' has no attribute 'plot'"
     ]
    }
   ],
   "source": [
    "temp= int(math.sqrt(len(input)))\n",
    "X_print=[]\n",
    "Y_print=[]\n",
    "for i in (np.arange(11)):\n",
    "    N= int(temp *(0.5+0.1*i))\n",
    "    X_print.append(N)\n",
    "    knn = KNeighborsClassifier(n_neighbors=N, algorithm='ball_tree', metric='minkowski')\n",
    "    Y_print.append(cross_val_score(knn,input,output,cv=kfold).mean())\n",
    "    print(f\"{i+1}/11\",end=\"\\r\")\n",
    "\n",
    "plt.plot(X_print,Y_print)\n",
    "plt.show()"
   ]
  },
  {
   "cell_type": "markdown",
   "id": "b645e0b0-367f-4e76-a09a-9685717b92fc",
   "metadata": {},
   "source": [
    "All'aumentare di N, il modello risulta essere meno sensibile al noise ma anche meno capace di generalizzare."
   ]
  },
  {
   "cell_type": "code",
   "execution_count": 30,
   "id": "0b37ee10-3418-497f-9bda-925fb87908a3",
   "metadata": {},
   "outputs": [
    {
     "name": "stdout",
     "output_type": "stream",
     "text": [
      "201\r"
     ]
    },
    {
     "data": {
      "image/png": "[encoded data removed]",
      "text/plain": [
       "<Figure size 640x480 with 1 Axes>"
      ]
     },
     "metadata": {},
     "output_type": "display_data"
    }
   ],
   "source": [
    "#prvo a ridurre ancora N\n",
    "temp= int(math.sqrt(len(input)))\n",
    "X_print=[]\n",
    "Y_print=[]\n",
    "for i in np.arange(10,201,10):\n",
    "    N= i\n",
    "    X_print.append(N)\n",
    "    knn = KNeighborsClassifier(n_neighbors=N, algorithm='ball_tree', metric='minkowski')\n",
    "    Y_print.append(cross_val_score(knn,input,output,cv=kfold).mean())\n",
    "    print(f\"{i+1}\",end=\"\\r\")\n",
    "\n",
    "plt.plot(X_print,Y_print,label=\"accuracy\")\n",
    "plt.show()"
   ]
  },
  {
   "cell_type": "code",
   "execution_count": 35,
   "id": "0c452c0f-e105-4ff8-b7ed-bc5083890dcb",
   "metadata": {},
   "outputs": [
    {
     "name": "stdout",
     "output_type": "stream",
     "text": [
      "21\r"
     ]
    },
    {
     "data": {
      "image/png": "[encoded data removed]",
      "text/plain": [
       "<Figure size 640x480 with 1 Axes>"
      ]
     },
     "metadata": {},
     "output_type": "display_data"
    }
   ],
   "source": [
    "#prvo a ridurre ancora N\n",
    "temp= int(math.sqrt(len(input)))\n",
    "X_print=[]\n",
    "Y_print=[]\n",
    "for i in np.arange(5, 21,1):\n",
    "    N= i\n",
    "    X_print.append(N)\n",
    "    knn = KNeighborsClassifier(n_neighbors=N, algorithm='ball_tree', metric='minkowski')\n",
    "    Y_print.append(cross_val_score(knn,input,output,cv=kfold).mean())\n",
    "    print(f\"{i+1}\",end=\"\\r\")\n",
    "\n",
    "plt.plot(X_print,Y_print)\n",
    "plt.xlabel('Accuracy')\n",
    "plt.ylabel('N')\n",
    "plt.show()"
   ]
  },
  {
   "cell_type": "markdown",
   "id": "ba6389d9-b73b-4ed8-95d4-4a1cb431dddd",
   "metadata": {
    "tags": []
   },
   "source": [
    "Da evidenze grafiche si sceglie K = 50 in quanto mantiene buon livello di accuracy e buona restistenza da noise data.\n",
    "Valori minori per K avrebbero mlta meno tolleranza di noise data, mantenendo praticamente la stessa accuracy.\n",
    "Di seguito si esegue training e testing sul miglior modello trovato"
   ]
  },
  {
   "cell_type": "code",
   "execution_count": 36,
   "id": "185189fc-7707-45ad-b5cd-6d562c131e5f",
   "metadata": {},
   "outputs": [
    {
     "name": "stdout",
     "output_type": "stream",
     "text": [
      "              precision    recall  f1-score   support\n",
      "\n",
      "        <=50       0.99      0.99      0.99     23305\n",
      "         >50       0.97      0.98      0.98      8656\n",
      "\n",
      "    accuracy                           0.99     31961\n",
      "   macro avg       0.98      0.99      0.99     31961\n",
      "weighted avg       0.99      0.99      0.99     31961\n",
      "\n"
     ]
    }
   ],
   "source": [
    "K= 50\n",
    "knn= KNeighborsClassifier(n_neighbors=N, algorithm='ball_tree', metric='minkowski').fit(input,output)\n",
    "test_pred_knn = knn.predict(scaler.fit_transform(Testinput))\n",
    "report_scores(Testoutput,test_pred_knn)"
   ]
  },
  {
   "cell_type": "markdown",
   "id": "9e2847be-a8bb-447c-b1bc-dbe4e1f583df",
   "metadata": {
    "tags": []
   },
   "source": [
    "# Naive Bayesian Classification\n",
    "Non ha senso in questo caso normalizzare o usare k-fold"
   ]
  },
  {
   "cell_type": "code",
   "execution_count": 10,
   "id": "bb404f75-6756-4982-9cbc-217490b79155",
   "metadata": {},
   "outputs": [
    {
     "name": "stdout",
     "output_type": "stream",
     "text": [
      "              precision    recall  f1-score   support\n",
      "\n",
      "           0       0.90      1.00      0.95     23305\n",
      "           1       1.00      0.69      0.82      8656\n",
      "\n",
      "    accuracy                           0.92     31961\n",
      "   macro avg       0.95      0.84      0.88     31961\n",
      "weighted avg       0.92      0.92      0.91     31961\n",
      "\n"
     ]
    }
   ],
   "source": [
    "#import, define and fit the model\n",
    "from sklearn.naive_bayes import GaussianNB\n",
    "trInput,trOutput = get_normalized_dataset(\"training/input.csv\",\"training/output.csv\",scale=False)\n",
    "testInput,testOutput = get_normalized_dataset(\"testing/input.csv\",\"testing/output.csv\",scale=False)\n",
    "gnb = GaussianNB()\n",
    "gnb.fit(trInput,trOutput)\n",
    "\n",
    "#predict on the test set\n",
    "test_pred_gnb = gnb.predict(testInput)\n",
    "#compute the performance of the model\n",
    "report_scores(testOutput,test_pred_gnb)"
   ]
  },
  {
   "cell_type": "markdown",
   "id": "df127bd9-4e02-41d5-a25e-ea984588bc7f",
   "metadata": {},
   "source": [
    "Dal **Recall** sembrerebbe che il classificatore non riesca a cogliere le caratteristiche della classe 1, non classificando il 30% delle istanze di classe 1 nella classe 1."
   ]
  },
  {
   "cell_type": "markdown",
   "id": "62bf2dc5-0f39-45f5-b4ee-a2e733627fb4",
   "metadata": {},
   "source": [
    "# Classification with rule based\n",
    "Verifichiamo la migliore coppia **(K, prune_size)** attraverso gridSearch.<br>\n",
    "Ricordiamo che sia per k e pruneSize, valori minori a parità di prestazioni, sono da preferire, perchè nè corrispondono modelli più semplici.\n"
   ]
  },
  {
   "cell_type": "code",
   "execution_count": 13,
   "id": "208b8f75-5d62-401f-ae50-7b055cbd3798",
   "metadata": {},
   "outputs": [
    {
     "name": "stdout",
     "output_type": "stream",
     "text": [
      "Fitting 5 folds for each of 6 candidates, totalling 30 fits\n",
      "[CV] END ................................k=1, prune_size=0.5; total time=  52.7s\n",
      "[CV] END ................................k=1, prune_size=0.5; total time=  57.6s\n",
      "[CV] END ................................k=1, prune_size=0.5; total time=  55.5s\n",
      "[CV] END ................................k=1, prune_size=0.5; total time=  56.0s\n",
      "[CV] END ................................k=1, prune_size=0.5; total time=  56.0s\n",
      "[CV] END ................................k=1, prune_size=0.6; total time=  55.9s\n",
      "[CV] END ................................k=1, prune_size=0.6; total time=  52.6s\n",
      "[CV] END ................................k=1, prune_size=0.6; total time=  52.0s\n",
      "[CV] END ................................k=1, prune_size=0.6; total time=  55.4s\n",
      "[CV] END ................................k=1, prune_size=0.6; total time=  59.3s\n",
      "[CV] END ................................k=3, prune_size=0.5; total time=  54.8s\n",
      "[CV] END ................................k=3, prune_size=0.5; total time=  52.2s\n",
      "[CV] END ................................k=3, prune_size=0.5; total time=  51.3s\n",
      "[CV] END ................................k=3, prune_size=0.5; total time=  56.0s\n",
      "[CV] END ................................k=3, prune_size=0.5; total time=  55.0s\n",
      "[CV] END ................................k=3, prune_size=0.6; total time=  55.3s\n",
      "[CV] END ................................k=3, prune_size=0.6; total time=  51.3s\n",
      "[CV] END ................................k=3, prune_size=0.6; total time=  55.4s\n",
      "[CV] END ................................k=3, prune_size=0.6; total time=  55.0s\n",
      "[CV] END ................................k=3, prune_size=0.6; total time=  51.0s\n",
      "[CV] END ................................k=5, prune_size=0.5; total time=  51.4s\n",
      "[CV] END ................................k=5, prune_size=0.5; total time=  51.6s\n",
      "[CV] END ................................k=5, prune_size=0.5; total time= 1.0min\n",
      "[CV] END ................................k=5, prune_size=0.5; total time= 1.1min\n",
      "[CV] END ................................k=5, prune_size=0.5; total time=  55.4s\n",
      "[CV] END ................................k=5, prune_size=0.6; total time=  55.3s\n",
      "[CV] END ................................k=5, prune_size=0.6; total time=  52.2s\n",
      "[CV] END ................................k=5, prune_size=0.6; total time= 1.0min\n",
      "[CV] END ................................k=5, prune_size=0.6; total time=  55.7s\n",
      "[CV] END ................................k=5, prune_size=0.6; total time=  55.5s\n",
      "Best parameters setting  {'k': 1, 'prune_size': 0.5}\n"
     ]
    }
   ],
   "source": [
    "from sklearn.model_selection import GridSearchCV\n",
    "import wittgenstein as lw\n",
    "trInput,trOutput = get_normalized_dataset(\"training/input.csv\",\"training/output.csv\",scale=False)\n",
    "testInput,testOutput = get_normalized_dataset(\"testing/input.csv\",\"testing/output.csv\",scale=False)\n",
    "ripper = lw.RIPPER()\n",
    "param_grid = {\"prune_size\": [0.5, 0.6], \"k\": [1, 3, 5]}\n",
    "grid_search = GridSearchCV(estimator=ripper, param_grid=param_grid,verbose=2)\n",
    "grid_search.fit(trInput,trOutput)\n",
    "print('Best parameters setting ', grid_search.cv_results_['params'][0])"
   ]
  },
  {
   "cell_type": "code",
   "execution_count": 23,
   "id": "b98b4281-bbcc-4935-a817-6ee4ebe88366",
   "metadata": {},
   "outputs": [
    {
     "data": {
      "text/plain": [
       "{'mean_fit_time': array([55.52221646, 55.01625986, 53.83497529, 53.58290458, 56.46879244,\n",
       "        55.77721615]),\n",
       " 'std_fit_time': array([1.58921749, 2.61476977, 1.79734279, 2.0139219 , 4.78508458,\n",
       "        2.61158497]),\n",
       " 'mean_score_time': array([0.12417822, 0.12001534, 0.12279935, 0.12188721, 0.12417016,\n",
       "        0.12033553]),\n",
       " 'std_score_time': array([0.0043384 , 0.00331021, 0.00074864, 0.00389007, 0.00526043,\n",
       "        0.00288787]),\n",
       " 'param_k': masked_array(data=[1, 1, 3, 3, 5, 5],\n",
       "              mask=[False, False, False, False, False, False],\n",
       "        fill_value='?',\n",
       "             dtype=object),\n",
       " 'param_prune_size': masked_array(data=[0.5, 0.6, 0.5, 0.6, 0.5, 0.6],\n",
       "              mask=[False, False, False, False, False, False],\n",
       "        fill_value='?',\n",
       "             dtype=object),\n",
       " 'params': [{'k': 1, 'prune_size': 0.5},\n",
       "  {'k': 1, 'prune_size': 0.6},\n",
       "  {'k': 3, 'prune_size': 0.5},\n",
       "  {'k': 3, 'prune_size': 0.6},\n",
       "  {'k': 5, 'prune_size': 0.5},\n",
       "  {'k': 5, 'prune_size': 0.6}],\n",
       " 'split0_test_score': array([0.68390377, 0.68378643, 0.68378643, 0.68378643, 0.68378643,\n",
       "        0.68378643]),\n",
       " 'split1_test_score': array([0.68675924, 0.68675924, 0.68675924, 0.68675924, 0.68675924,\n",
       "        0.68675924]),\n",
       " 'split2_test_score': array([0.70533933, 0.68605515, 0.68605515, 0.68605515, 0.68605515,\n",
       "        0.68605515]),\n",
       " 'split3_test_score': array([0.68433405, 0.68433405, 0.68433405, 0.68433405, 0.68433405,\n",
       "        0.68433405]),\n",
       " 'split4_test_score': array([0.6881283 , 0.6881283 , 0.6881283 , 0.68824565, 0.6881283 ,\n",
       "        0.6881283 ]),\n",
       " 'mean_test_score': array([0.68969294, 0.68581263, 0.68581263, 0.6858361 , 0.68581263,\n",
       "        0.68581263]),\n",
       " 'std_test_score': array([0.00797617, 0.00158801, 0.00158801, 0.00162255, 0.00158801,\n",
       "        0.00158801]),\n",
       " 'rank_test_score': array([1, 3, 3, 2, 3, 3])}"
      ]
     },
     "execution_count": 23,
     "metadata": {},
     "output_type": "execute_result"
    }
   ],
   "source": [
    "grid_search.cv_results_"
   ]
  },
  {
   "cell_type": "code",
   "execution_count": 21,
   "id": "c4ed9893-bec1-4304-96aa-acdced4e1334",
   "metadata": {},
   "outputs": [
    {
     "data": {
      "text/plain": [
       "{'k': 1, 'prune_size': 0.5}"
      ]
     },
     "execution_count": 21,
     "metadata": {},
     "output_type": "execute_result"
    }
   ],
   "source": [
    "grid_search.best_params_"
   ]
  },
  {
   "cell_type": "markdown",
   "id": "b1df3c5e-a91b-4d78-b3c3-390efc183c12",
   "metadata": {},
   "source": [
    "Training modello sugli hyperparametri ottimali che abbiamo trovato con gridSearch"
   ]
  },
  {
   "cell_type": "code",
   "execution_count": 46,
   "id": "65be1b2e-a0d3-44ab-8b8c-8663509393c6",
   "metadata": {},
   "outputs": [],
   "source": [
    "#define and fit the rule-based model\n",
    "#this function requires only one dataset with the labels. \n",
    "#To do so, we concatenate the train_set and the train_label\n",
    "\n",
    "ripper = lw.RIPPER(k=1, prune_size=0.5)\n",
    "datas = pd.concat([pd.DataFrame(trInput,columns= ['n_injured', 'n_arrested', 'n_unharmed', 'n_participants']),pd.DataFrame(trOutput,columns= ['killed'])], axis=1)\n",
    "ripper.fit(datas,class_feat='killed', pos_class=1)"
   ]
  },
  {
   "cell_type": "code",
   "execution_count": 47,
   "id": "ab35bbc8-def7-4e5c-afb1-2a2e7aefdf52",
   "metadata": {},
   "outputs": [
    {
     "name": "stdout",
     "output_type": "stream",
     "text": [
      "              precision    recall  f1-score   support\n",
      "\n",
      "           0       0.74      0.87      0.80     23305\n",
      "           1       0.34      0.18      0.24      8656\n",
      "\n",
      "    accuracy                           0.68     31961\n",
      "   macro avg       0.54      0.53      0.52     31961\n",
      "weighted avg       0.63      0.68      0.65     31961\n",
      "\n"
     ]
    }
   ],
   "source": [
    "test_pred_gnb = ripper.predict(pd.DataFrame(testInput,columns= ['n_injured', 'n_arrested', 'n_unharmed', 'n_participants']))\n",
    "#compute the performance of the model\n",
    "report_scores(testOutput,test_pred_gnb)"
   ]
  },
  {
   "cell_type": "code",
   "execution_count": 48,
   "id": "ac311072-5440-4ea7-9cad-7bdb4dff0589",
   "metadata": {},
   "outputs": [
    {
     "name": "stdout",
     "output_type": "stream",
     "text": [
      "[[n_unharmed=<1.0 ^ n_participants=2.0-3.0 ^ n_injured=<1.0 ^ n_arrested=<1.0] V\n",
      "[n_unharmed=<1.0 ^ n_injured=<1.0 ^ n_participants=>3.0 ^ n_arrested=<1.0] V\n",
      "[n_participants=>3.0 ^ n_unharmed=<1.0 ^ n_arrested=<1.0] V\n",
      "[n_participants=>3.0 ^ n_unharmed=<1.0 ^ n_injured=<1.0] V\n",
      "[n_participants=2.0-3.0 ^ n_arrested=>1.0 ^ n_injured=<1.0] V\n",
      "[n_participants=2.0-3.0 ^ n_injured=>1.0 ^ n_arrested=<1.0] V\n",
      "[n_participants=>3.0 ^ n_unharmed=<1.0] V\n",
      "[n_participants=>3.0 ^ n_injured=<1.0 ^ n_arrested=<1.0] V\n",
      "[n_participants=2.0-3.0 ^ n_injured=<1.0] V\n",
      "[n_participants=>3.0 ^ n_arrested=<1.0] V\n",
      "[n_participants=>3.0 ^ n_injured=<1.0] V\n",
      "[n_participants=>3.0]]\n"
     ]
    }
   ],
   "source": [
    "#in this case the model is a set of rules\n",
    "ripper.out_model()"
   ]
  },
  {
   "cell_type": "markdown",
   "id": "56359306-fb74-4196-9219-a21c23120b4d",
   "metadata": {},
   "source": []
  },
  {
   "cell_type": "code",
   "execution_count": null,
   "id": "7e3c92df-67a8-430d-9170-611de9a3b859",
   "metadata": {},
   "outputs": [],
   "source": []
  }
 ],
 "metadata": {
  "kernelspec": {
   "display_name": "Python 3 (ipykernel)",
   "language": "python",
   "name": "python3"
  },
  "language_info": {
   "codemirror_mode": {
    "name": "ipython",
    "version": 3
   },
   "file_extension": ".py",
   "mimetype": "text/x-python",
   "name": "python",
   "nbconvert_exporter": "python",
   "pygments_lexer": "ipython3",
   "version": "3.10.9"
  }
 },
 "nbformat": 4,
 "nbformat_minor": 5
}
