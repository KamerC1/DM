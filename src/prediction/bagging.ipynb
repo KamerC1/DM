{
 "cells": [
  {
   "cell_type": "code",
   "execution_count": 20,
   "metadata": {},
   "outputs": [],
   "source": [
    "from sklearn.ensemble import BaggingClassifier\n",
    "from sklearn.discriminant_analysis import StandardScaler\n",
    "import pandas as pd\n",
    "from sklearn.tree import DecisionTreeClassifier\n",
    "from sklearn.model_selection import cross_val_predict\n",
    "from sklearn.metrics import classification_report\n",
    "from sklearn.metrics import confusion_matrix"
   ]
  },
  {
   "cell_type": "code",
   "execution_count": 21,
   "metadata": {},
   "outputs": [],
   "source": [
    "def get_neuralNetwork_dataset(input_dir: str, output_dir: str):\n",
    "    input = pd.read_csv(input_dir)\n",
    "    output = pd.read_csv(output_dir)\n",
    "    df = pd.merge(input, output, left_index=True, right_index=True)\n",
    "\n",
    "    selected_collumns = ['n_injured', 'n_arrested', 'n_unharmed', 'n_participants']\n",
    "\n",
    "    df = df[selected_collumns + ['killed']]\n",
    "    df.dropna(inplace=True)\n",
    "\n",
    "    input = df[selected_collumns].values\n",
    "    output = df['killed'].values\n",
    "\n",
    "    # Normalizza i dati\n",
    "    scaler = StandardScaler()\n",
    "    input = scaler.fit_transform(input)\n",
    "    \n",
    "    return input, output\n",
    "\n",
    "input, output = get_neuralNetwork_dataset('data/training/input.csv', 'data/training/output.csv')\n"
   ]
  },
  {
   "cell_type": "markdown",
   "metadata": {},
   "source": [
    "**Cross validation**"
   ]
  },
  {
   "cell_type": "code",
   "execution_count": 22,
   "metadata": {},
   "outputs": [
    {
     "name": "stdout",
     "output_type": "stream",
     "text": [
      "Classification Report:\n",
      "               precision    recall  f1-score   support\n",
      "\n",
      "           0       1.00      0.99      0.99     93154\n",
      "           1       0.98      0.99      0.98     34671\n",
      "\n",
      "    accuracy                           0.99    127825\n",
      "   macro avg       0.99      0.99      0.99    127825\n",
      "weighted avg       0.99      0.99      0.99    127825\n",
      "\n"
     ]
    }
   ],
   "source": [
    "\n",
    "# Creare un classificatore Bagging\n",
    "base_estimator = DecisionTreeClassifier(max_depth=12)\n",
    "clf = BaggingClassifier(estimator=base_estimator, n_estimators=100, random_state=0)\n",
    "\n",
    "# Ottenere le previsioni di cross-validation\n",
    "predictions = cross_val_predict(clf, input, output, cv=2)\n",
    "\n",
    "# Calcolare e stampare il classification report\n",
    "report = classification_report(output, predictions)\n",
    "print(\"Classification Report:\\n\", report)"
   ]
  },
  {
   "cell_type": "markdown",
   "metadata": {},
   "source": [
    "**Training del miglior modello individuato su tutto il dataset e testing**"
   ]
  },
  {
   "cell_type": "code",
   "execution_count": 23,
   "metadata": {},
   "outputs": [
    {
     "name": "stdout",
     "output_type": "stream",
     "text": [
      "Classification Report:\n",
      "               precision    recall  f1-score   support\n",
      "\n",
      "           0       1.00      0.99      0.99     23305\n",
      "           1       0.98      0.99      0.98      8656\n",
      "\n",
      "    accuracy                           0.99     31961\n",
      "   macro avg       0.99      0.99      0.99     31961\n",
      "weighted avg       0.99      0.99      0.99     31961\n",
      "\n",
      "Confusion Matrix:\n",
      " [[23087   218]\n",
      " [  115  8541]]\n"
     ]
    }
   ],
   "source": [
    "input, output = get_neuralNetwork_dataset('data/training/input.csv', 'data/training/output.csv')\n",
    "input_test, output_test = get_neuralNetwork_dataset('data/testing/input.csv', 'data/testing/output.csv')\n",
    "\n",
    "# Creare un classificatore Bagging\n",
    "base_estimator = DecisionTreeClassifier(max_depth=12)\n",
    "clf = BaggingClassifier(estimator=base_estimator, n_estimators=100, random_state=0)\n",
    "\n",
    "# Addestrare il classificatore\n",
    "clf.fit(input, output)\n",
    "\n",
    "# Fare previsioni sui dati di test\n",
    "output_pred = clf.predict(input_test)\n",
    "\n",
    "# Calcolare e stampare il classification report\n",
    "report = classification_report(output_test, output_pred)\n",
    "print(\"Classification Report:\\n\", report)\n",
    "\n",
    "cm = confusion_matrix(output_test, output_pred)\n",
    "print(\"Confusion Matrix:\\n\", cm)"
   ]
  }
 ],
 "metadata": {
  "kernelspec": {
   "display_name": ".venv",
   "language": "python",
   "name": "python3"
  },
  "language_info": {
   "codemirror_mode": {
    "name": "ipython",
    "version": 3
   },
   "file_extension": ".py",
   "mimetype": "text/x-python",
   "name": "python",
   "nbconvert_exporter": "python",
   "pygments_lexer": "ipython3",
   "version": "3.9.16"
  }
 },
 "nbformat": 4,
 "nbformat_minor": 2
}
