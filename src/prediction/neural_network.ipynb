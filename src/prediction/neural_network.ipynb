{
 "cells": [
  {
   "cell_type": "code",
   "execution_count": 3,
   "metadata": {},
   "outputs": [],
   "source": [
    "import pandas as pd\n",
    "pd.set_option('display.max_columns', None)"
   ]
  },
  {
   "cell_type": "code",
   "execution_count": 7,
   "metadata": {},
   "outputs": [
    {
     "name": "stdout",
     "output_type": "stream",
     "text": [
      "<class 'pandas.core.frame.DataFrame'>\n",
      "RangeIndex: 146532 entries, 0 to 146531\n",
      "Data columns (total 32 columns):\n",
      " #   Column                     Non-Null Count   Dtype  \n",
      "---  ------                     --------------   -----  \n",
      " 0   date                       146532 non-null  object \n",
      " 1   state                      146532 non-null  object \n",
      " 2   city_or_county             146532 non-null  object \n",
      " 3   address                    136245 non-null  object \n",
      " 4   latitude                   146532 non-null  float64\n",
      " 5   longitude                  146532 non-null  float64\n",
      " 6   congressional_district     143942 non-null  float64\n",
      " 7   state_house_district       127740 non-null  float64\n",
      " 8   state_senate_district      132002 non-null  float64\n",
      " 9   participant_age1           112187 non-null  float64\n",
      " 10  participant_age_group1     133183 non-null  object \n",
      " 11  participant_gender1        137680 non-null  object \n",
      " 12  min_age_participants       112197 non-null  float64\n",
      " 13  avg_age_participants       112219 non-null  float64\n",
      " 14  max_age_participants       111110 non-null  float64\n",
      " 15  n_participants_child       120061 non-null  float64\n",
      " 16  n_participants_teen        120063 non-null  float64\n",
      " 17  n_participants_adult       120024 non-null  float64\n",
      " 18  n_males                    133090 non-null  float64\n",
      " 19  n_females                  133090 non-null  float64\n",
      " 20  n_killed                   146532 non-null  float64\n",
      " 21  n_injured                  146532 non-null  float64\n",
      " 22  n_arrested                 144378 non-null  float64\n",
      " 23  n_unharmed                 144378 non-null  float64\n",
      " 24  n_participants             129835 non-null  float64\n",
      " 25  notes                      97497 non-null   object \n",
      " 26  incident_characteristics1  146344 non-null  object \n",
      " 27  incident_characteristics2  90460 non-null   object \n",
      " 28  povertyPercentage          146532 non-null  float64\n",
      " 29  party                      70618 non-null   object \n",
      " 30  candidatevotes             70473 non-null   float64\n",
      " 31  totalvotes                 70473 non-null   float64\n",
      "dtypes: float64(22), object(10)\n",
      "memory usage: 35.8+ MB\n"
     ]
    }
   ],
   "source": [
    "df = pd.read_csv('data/training/input.csv')\n",
    "df.info()"
   ]
  },
  {
   "cell_type": "code",
   "execution_count": null,
   "metadata": {},
   "outputs": [],
   "source": []
  }
 ],
 "metadata": {
  "kernelspec": {
   "display_name": ".venv",
   "language": "python",
   "name": "python3"
  },
  "language_info": {
   "codemirror_mode": {
    "name": "ipython",
    "version": 3
   },
   "file_extension": ".py",
   "mimetype": "text/x-python",
   "name": "python",
   "nbconvert_exporter": "python",
   "pygments_lexer": "ipython3",
   "version": "3.9.16"
  }
 },
 "nbformat": 4,
 "nbformat_minor": 2
}
