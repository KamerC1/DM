{
 "cells": [
  {
   "cell_type": "code",
   "execution_count": 1,
   "id": "7d0971c1-d5d4-4d0d-8c7f-89a96934de50",
   "metadata": {
    "tags": []
   },
   "outputs": [
    {
     "name": "stdout",
     "output_type": "stream",
     "text": [
      "<class 'pandas.core.frame.DataFrame'>\n",
      "RangeIndex: 146532 entries, 0 to 146531\n",
      "Data columns (total 31 columns):\n",
      " #   Column                     Non-Null Count   Dtype  \n",
      "---  ------                     --------------   -----  \n",
      " 0   date                       146532 non-null  object \n",
      " 1   state                      146532 non-null  object \n",
      " 2   city_or_county             146532 non-null  object \n",
      " 3   address                    136245 non-null  object \n",
      " 4   latitude                   146532 non-null  float64\n",
      " 5   longitude                  146532 non-null  float64\n",
      " 6   congressional_district     143942 non-null  float64\n",
      " 7   state_house_district       127740 non-null  float64\n",
      " 8   state_senate_district      132002 non-null  float64\n",
      " 9   participant_age1           112187 non-null  float64\n",
      " 10  participant_age_group1     133183 non-null  object \n",
      " 11  participant_gender1        137680 non-null  object \n",
      " 12  min_age_participants       112197 non-null  float64\n",
      " 13  avg_age_participants       112219 non-null  float64\n",
      " 14  max_age_participants       111110 non-null  float64\n",
      " 15  n_participants_child       120061 non-null  float64\n",
      " 16  n_participants_teen        120063 non-null  float64\n",
      " 17  n_participants_adult       120024 non-null  float64\n",
      " 18  n_males                    133090 non-null  float64\n",
      " 19  n_females                  133090 non-null  float64\n",
      " 20  n_injured                  146532 non-null  float64\n",
      " 21  n_arrested                 144378 non-null  float64\n",
      " 22  n_unharmed                 144378 non-null  float64\n",
      " 23  n_participants             129835 non-null  float64\n",
      " 24  notes                      97497 non-null   object \n",
      " 25  incident_characteristics1  146344 non-null  object \n",
      " 26  incident_characteristics2  90460 non-null   object \n",
      " 27  povertyPercentage          146532 non-null  float64\n",
      " 28  party                      70618 non-null   object \n",
      " 29  candidatevotes             70473 non-null   float64\n",
      " 30  totalvotes                 70473 non-null   float64\n",
      "dtypes: float64(21), object(10)\n",
      "memory usage: 34.7+ MB\n"
     ]
    }
   ],
   "source": [
    "import pandas as pd\n",
    "from sklearn.discriminant_analysis import StandardScaler\n",
    "from sklearn.tree import DecisionTreeClassifier\n",
    "from sklearn.ensemble import RandomForestClassifier\n",
    "\n",
    "from sklearn.model_selection import cross_val_predict\n",
    "from sklearn.metrics import classification_report\n",
    "from sklearn.metrics import confusion_matrix\n",
    "\n",
    "df = pd.read_csv('data/training/input.csv')\n",
    "df.info()"
   ]
  },
  {
   "cell_type": "code",
   "execution_count": 2,
   "id": "599b5cce-2dbb-45d1-ae80-bcc464de07c3",
   "metadata": {},
   "outputs": [],
   "source": [
    "def get_randomForest_dataset(input_dir: str, output_dir: str):\n",
    "    input = pd.read_csv(input_dir)\n",
    "    output = pd.read_csv(output_dir)\n",
    "    df = pd.merge(input, output, left_index=True, right_index=True)\n",
    "\n",
    "    selected_collumns = ['n_injured', 'n_arrested', 'n_unharmed', 'n_participants']\n",
    "\n",
    "    df = df[selected_collumns + ['killed']]\n",
    "    df.dropna(inplace=True)\n",
    "\n",
    "    input = df[selected_collumns].values\n",
    "    output = df['killed'].values\n",
    "\n",
    "    # Normalizza i dati\n",
    "    scaler = StandardScaler()\n",
    "    input = scaler.fit_transform(input)\n",
    "    \n",
    "    return input, output\n",
    "\n",
    "input, output = get_randomForest_dataset('data/training/input.csv', 'data/training/output.csv')"
   ]
  },
  {
   "cell_type": "markdown",
   "id": "5b80d6c8-9c5d-48d9-b37a-22accf4af748",
   "metadata": {
    "tags": []
   },
   "source": [
    "**Cross validation**"
   ]
  },
  {
   "cell_type": "code",
   "execution_count": 3,
   "id": "ec033249-5bcc-49bb-80fb-8a5f4216dbe5",
   "metadata": {
    "tags": []
   },
   "outputs": [
    {
     "name": "stdout",
     "output_type": "stream",
     "text": [
      "Classification Report:\n",
      "               precision    recall  f1-score   support\n",
      "\n",
      "           0       0.84      1.00      0.91     93154\n",
      "           1       1.00      0.50      0.67     34671\n",
      "\n",
      "    accuracy                           0.86    127825\n",
      "   macro avg       0.92      0.75      0.79    127825\n",
      "weighted avg       0.89      0.86      0.85    127825\n",
      "\n"
     ]
    }
   ],
   "source": [
    "base_estimator = DecisionTreeClassifier(max_depth=4)\n",
    "clf = RandomForestClassifier(n_estimators=30,  # The number of trees in the forest\n",
    "                             criterion='entropy',\n",
    "                             max_features='log2', \n",
    "                             min_samples_split=40,\n",
    "                             min_samples_leaf=14,\n",
    "                             max_depth = 3,\n",
    "                             bootstrap=False)\n",
    "\n",
    "# Ottenere le previsioni di cross-validation\n",
    "predictions = cross_val_predict(clf, input, output, cv=5)\n",
    "\n",
    "# Calcolare e stampare il classification report\n",
    "report = classification_report(output, predictions)\n",
    "print(\"Classification Report:\\n\", report)"
   ]
  },
  {
   "cell_type": "markdown",
   "id": "91fad21a-de84-4797-825e-1b3c022aa732",
   "metadata": {
    "tags": []
   },
   "source": [
    "**Training del miglior modello individuato su tutto il dataset e testing**"
   ]
  },
  {
   "cell_type": "code",
   "execution_count": 4,
   "id": "4a8b09c8-e9f3-434a-8d09-b8fed4fe5b8e",
   "metadata": {
    "tags": []
   },
   "outputs": [],
   "source": [
    "input, output = get_randomForest_dataset('data/training/input.csv', 'data/training/output.csv')\n",
    "input_test, output_test = get_randomForest_dataset('data/testing/input.csv', 'data/testing/output.csv')"
   ]
  },
  {
   "cell_type": "code",
   "execution_count": 5,
   "id": "30137548-f15c-497b-9045-a8a9880a5385",
   "metadata": {
    "tags": []
   },
   "outputs": [
    {
     "name": "stdout",
     "output_type": "stream",
     "text": [
      "Classification Report:\n",
      "               precision    recall  f1-score   support\n",
      "\n",
      "           0       0.84      1.00      0.92     23305\n",
      "           1       1.00      0.50      0.67      8656\n",
      "\n",
      "    accuracy                           0.86     31961\n",
      "   macro avg       0.92      0.75      0.79     31961\n",
      "weighted avg       0.89      0.86      0.85     31961\n",
      "\n",
      "Confusion Matrix:\n",
      " [[23305     0]\n",
      " [ 4327  4329]]\n"
     ]
    }
   ],
   "source": [
    "# Creare un classificatore Random Forest\n",
    "base_estimator = DecisionTreeClassifier(max_depth=4)\n",
    "clf = RandomForestClassifier(n_estimators=30,  # The number of trees in the forest\n",
    "                             criterion='entropy',\n",
    "                             max_features='log2', \n",
    "                             min_samples_split=40,\n",
    "                             min_samples_leaf=14,\n",
    "                             max_depth = 3,\n",
    "                             bootstrap=False)\n",
    "\n",
    "# Addestrare il classificatore\n",
    "clf.fit(input, output)\n",
    "\n",
    "# Fare previsioni sui dati di test\n",
    "output_pred = clf.predict(input_test)\n",
    "\n",
    "# Calcolare e stampare il classification report\n",
    "report = classification_report(output_test, output_pred)\n",
    "print(\"Classification Report:\\n\", report)\n",
    "\n",
    "cm = confusion_matrix(output_test, output_pred)\n",
    "print(\"Confusion Matrix:\\n\", cm)"
   ]
  },
  {
   "cell_type": "code",
   "execution_count": null,
   "id": "f98b570e-2554-46d2-8045-c421ad6a1c35",
   "metadata": {},
   "outputs": [],
   "source": []
  }
 ],
 "metadata": {
  "kernelspec": {
   "display_name": "Python 3 (ipykernel)",
   "language": "python",
   "name": "python3"
  },
  "language_info": {
   "codemirror_mode": {
    "name": "ipython",
    "version": 3
   },
   "file_extension": ".py",
   "mimetype": "text/x-python",
   "name": "python",
   "nbconvert_exporter": "python",
   "pygments_lexer": "ipython3",
   "version": "3.11.5"
  }
 },
 "nbformat": 4,
 "nbformat_minor": 5
}
