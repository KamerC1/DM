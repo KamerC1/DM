{
 "cells": [
  {
   "cell_type": "code",
   "execution_count": 129,
   "metadata": {},
   "outputs": [],
   "source": [
    "import pandas as pd\n",
    "import matplotlib.pyplot as plt"
   ]
  },
  {
   "cell_type": "markdown",
   "metadata": {},
   "source": [
    "Lettura e conversione per plotting del data understanding"
   ]
  },
  {
   "cell_type": "code",
   "execution_count": 132,
   "metadata": {},
   "outputs": [],
   "source": [
    "#ATTENZIONE: non è possibile convertire campo float in int se ci sono valori NaN\n",
    "dtype={\n",
    "    'state': 'string',\n",
    "    'city_or_county': 'string',\n",
    "    'address': 'string',\n",
    "    'latitude': 'float64',\n",
    "    'longitude': 'float64',\n",
    "    'congressional_district': 'Int64',\n",
    "    'state_house_district': 'Int64',\n",
    "    'state_senate_district': 'Int64',\n",
    "    'participant_age1': 'Int64',\n",
    "    'participant_age_group1': 'string',\n",
    "    'participant_gender1': 'string',\n",
    "    'n_males': 'float64',\n",
    "    'n_females': 'float64',\n",
    "    'n_killed': 'int64',\n",
    "    'n_injured': 'int64',\n",
    "    'n_arrested': 'float64',\n",
    "    'n_unharmed': 'float64',\n",
    "    'n_participants': 'float64',\n",
    "    'n_arrested': 'float64',\n",
    "    'notes': 'string',\n",
    "    'incident_characteristics1': 'string',\n",
    "    'incident_characteristics2': 'string'}\n",
    "\n",
    "df = pd.read_csv('../../data/incidents.csv', sep=',', low_memory=False, dtype=dtype)\n",
    "\n",
    "df['date'] = pd.to_datetime(df['date'], format='%Y-%m-%d')\n",
    "#Eliminazione dati con tipo string e conversione in float64\n",
    "df['min_age_participants'] = pd.to_numeric(df['min_age_participants'], errors='coerce')\n",
    "df['avg_age_participants'] = pd.to_numeric(df['avg_age_participants'], errors='coerce')\n",
    "df['max_age_participants'] = pd.to_numeric(df['max_age_participants'], errors='coerce')\n",
    "df['n_participants_child'] = pd.to_numeric(df['n_participants_child'], errors='coerce')\n",
    "df['n_participants_teen'] = pd.to_numeric(df['n_participants_teen'], errors='coerce')\n",
    "df['n_participants_adult'] = pd.to_numeric(df['n_participants_teen'], errors='coerce')"
   ]
  }
 ],
 "metadata": {
  "kernelspec": {
   "display_name": "Python 3",
   "language": "python",
   "name": "python3"
  },
  "language_info": {
   "codemirror_mode": {
    "name": "ipython",
    "version": 3
   },
   "file_extension": ".py",
   "mimetype": "text/x-python",
   "name": "python",
   "nbconvert_exporter": "python",
   "pygments_lexer": "ipython3",
   "version": "3.6.9"
  }
 },
 "nbformat": 4,
 "nbformat_minor": 2
}
