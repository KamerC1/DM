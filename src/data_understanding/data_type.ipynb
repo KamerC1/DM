{
 "cells": [
  {
   "cell_type": "code",
   "execution_count": 97,
   "metadata": {},
   "outputs": [],
   "source": [
    "import pandas as pd\n",
    "import matplotlib.pyplot as plt"
   ]
  },
  {
   "cell_type": "code",
   "execution_count": 98,
   "metadata": {},
   "outputs": [],
   "source": [
    "dtype={\n",
    "    'state': 'string',\n",
    "    'city_or_county': 'string',\n",
    "    'address': 'string',\n",
    "    'latitude': 'float64',\n",
    "    'longitude': 'float64',\n",
    "    'congressional_district': 'Int64',\n",
    "    'state_house_district': 'Int64',\n",
    "    'state_senate_district': 'Int64',\n",
    "    'participant_age1': 'Int64',\n",
    "    'participant_age_group1': 'string',\n",
    "    'participant_gender1': 'string',\n",
    "    'min_age_participants': 'Int64',\n",
    "    'avg_age_participants': 'float64',\n",
    "    'max_age_participants': 'Int64',\n",
    "    'n_partecipants_child': 'Int64',\n",
    "    'n_participants_teen': 'Int64',\n",
    "    'n_participants_adult': 'Int64',\n",
    "    'n_males': 'Int64',\n",
    "    'n_females': 'Int64',\n",
    "    'n_killed': 'Int64',\n",
    "    'n_injured': 'Int64',\n",
    "    'n_arrested': 'Int64',\n",
    "    'n_unharmed': 'Int64',\n",
    "    'n_participants': 'Int64',\n",
    "    'notes': 'string',\n",
    "    'incident_characteristics1': 'string',\n",
    "    'incident_characteristics2': 'string'}"
   ]
  },
  {
   "cell_type": "code",
   "execution_count": 115,
   "metadata": {},
   "outputs": [],
   "source": [
    "dtype={\n",
    "    'state': 'string',\n",
    "    'city_or_county': 'string',\n",
    "    'address': 'string',\n",
    "    'latitude': 'float64',\n",
    "    'longitude': 'float64',\n",
    "    'congressional_district': 'Int64',\n",
    "    'state_house_district': 'Int64',\n",
    "    'state_senate_district': 'Int64',\n",
    "    'participant_age1': 'Int64',\n",
    "    'participant_age_group1': 'string',\n",
    "    'participant_gender1': 'string',\n",
    "    'n_arrested': 'float64'}\n",
    "\n",
    "df = pd.read_csv('../../data/incidents.csv', sep=',', low_memory=False, dtype=dtype)"
   ]
  },
  {
   "cell_type": "code",
   "execution_count": 112,
   "metadata": {},
   "outputs": [
    {
     "name": "stdout",
     "output_type": "stream",
     "text": [
      "<class 'pandas.core.frame.DataFrame'>\n",
      "RangeIndex: 239677 entries, 0 to 239676\n",
      "Data columns (total 28 columns):\n",
      " #   Column                     Non-Null Count   Dtype  \n",
      "---  ------                     --------------   -----  \n",
      " 0   date                       239677 non-null  object \n",
      " 1   state                      239677 non-null  string \n",
      " 2   city_or_county             239677 non-null  string \n",
      " 3   address                    223180 non-null  string \n",
      " 4   latitude                   231754 non-null  float64\n",
      " 5   longitude                  231754 non-null  float64\n",
      " 6   congressional_district     227733 non-null  Int64  \n",
      " 7   state_house_district       200905 non-null  Int64  \n",
      " 8   state_senate_district      207342 non-null  Int64  \n",
      " 9   participant_age1           147379 non-null  Int64  \n",
      " 10  participant_age_group1     197558 non-null  string \n",
      " 11  participant_gender1        203315 non-null  string \n",
      " 12  min_age_participants       164879 non-null  object \n",
      " 13  avg_age_participants       165057 non-null  object \n",
      " 14  max_age_participants       164969 non-null  object \n",
      " 15  n_participants_child       197573 non-null  object \n",
      " 16  n_participants_teen        197578 non-null  object \n",
      " 17  n_participants_adult       197575 non-null  object \n",
      " 18  n_males                    203315 non-null  float64\n",
      " 19  n_females                  203315 non-null  float64\n",
      " 20  n_killed                   239677 non-null  int64  \n",
      " 21  n_injured                  239677 non-null  int64  \n",
      " 22  n_arrested                 212051 non-null  float64\n",
      " 23  n_unharmed                 212051 non-null  float64\n",
      " 24  n_participants             239677 non-null  float64\n",
      " 25  notes                      158660 non-null  object \n",
      " 26  incident_characteristics1  239351 non-null  object \n",
      " 27  incident_characteristics2  141931 non-null  object \n",
      "dtypes: Int64(4), float64(7), int64(2), object(10), string(5)\n",
      "memory usage: 52.1+ MB\n"
     ]
    }
   ],
   "source": [
    "df.info()"
   ]
  },
  {
   "cell_type": "code",
   "execution_count": 103,
   "metadata": {},
   "outputs": [],
   "source": [
    "df['date'] = pd.to_datetime(df['date'], format='%Y-%m-%d')\n",
    "df['min_age_participants'] = pd.to_numeric(df['min_age_participants'], errors='coerce')\n",
    "df['avg_age_participants'] = pd.to_numeric(df['avg_age_participants'], errors='coerce')\n",
    "df['max_age_participants'] = pd.to_numeric(df['max_age_participants'], errors='coerce')\n",
    "df['n_participants_child'] = pd.to_numeric(df['n_participants_child'], errors='coerce')\n",
    "df['n_participants_teen'] = pd.to_numeric(df['n_participants_teen'], errors='coerce')\n",
    "df['n_participants_adult'] = pd.to_numeric(df['n_participants_teen'], errors='coerce')\n"
   ]
  },
  {
   "cell_type": "code",
   "execution_count": null,
   "metadata": {},
   "outputs": [],
   "source": []
  }
 ],
 "metadata": {
  "kernelspec": {
   "display_name": "Python 3",
   "language": "python",
   "name": "python3"
  },
  "language_info": {
   "codemirror_mode": {
    "name": "ipython",
    "version": 3
   },
   "file_extension": ".py",
   "mimetype": "text/x-python",
   "name": "python",
   "nbconvert_exporter": "python",
   "pygments_lexer": "ipython3",
   "version": "3.6.9"
  }
 },
 "nbformat": 4,
 "nbformat_minor": 2
}
