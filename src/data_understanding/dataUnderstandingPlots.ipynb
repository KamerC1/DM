{
 "cells": [
  {
   "cell_type": "markdown",
   "id": "e5b2c265",
   "metadata": {},
   "source": [
    "# Plots degli attributi"
   ]
  },
  {
   "cell_type": "markdown",
   "id": "f553dea4",
   "metadata": {},
   "source": [
    "1. Per ogni attributo categorico sarà plottato un grafico a barre.\n",
    "2. Per ogni attributo numerico sarà plottato un istogramma ed un boxplot\n",
    "3. Alcuni attributi categorici saranno esclusi perchè la distribuzione non risulta essere interessante\n",
    "4. In tutti i plot di attributi numerici non sarà presente mediana e media perchè i plot interessanti saranno forniti nelle sezioni successive\n",
    "5. Per gli attributi numerici i valori string sono trasformati in missing value\n",
    "6. Tutti i missing value non vengono plottati <br>\n",
    "Anche se molti grafici risulteranno essere poco espressivi, non è importante in quanto si tratta solo di grafici pre-data cleaning, che serviranno appunto per eseguire al meglio quest'operazione"
   ]
  },
  {
   "cell_type": "code",
   "execution_count": null,
   "id": "1ed0ce8b",
   "metadata": {},
   "outputs": [],
   "source": [
    "import pandas as pd\n",
    "import matplotlib.pyplot as plt\n",
    "import numpy as np\n",
    "data=pd.read_csv(\"data/incidents.csv\", parse_dates=[\"date\"], low_memory=False)\n",
    "color = \"#6200EE\"\n",
    "edgecolor= \"#03DAC5\""
   ]
  },
  {
   "cell_type": "markdown",
   "id": "89b32f64",
   "metadata": {},
   "source": [
    "### Date\n",
    "Nell'attributo in questione non sono presenti valori non corrispondenti date, per avere un plot interessante, viene stampato il grafico a barre della distribuzione delle date degli incidenti, raggruppati per anno e per mese dell'anno e giorno della settimana."
   ]
  },
  {
   "cell_type": "code",
   "execution_count": null,
   "id": "71ed0e8d",
   "metadata": {},
   "outputs": [],
   "source": [
    "dateYear=data[\"date\"].apply(lambda x: x.year)\n",
    "dateMonth = data[\"date\"].apply(lambda x: x.month)\n",
    "dateDay = data[\"date\"].apply(lambda x: x.weekday() + 1)\n",
    "dateYear= dateYear.value_counts().sort_index()\n",
    "dateMonth= dateMonth.value_counts().sort_index()\n",
    "dateDay= dateDay.value_counts().sort_index()\n",
    "\n",
    "dim=(1,3)\n",
    "plt.figure(figsize=(25,5))\n",
    "\n",
    "plt.subplot2grid(dim,(0,0))\n",
    "dateYear.plot(kind=\"bar\",title=\"Date of incidents_Year\", color=color, edgecolor=edgecolor,fontsize=16, xlabel= \"anno\").title.set_size(18)\n",
    "\n",
    "plt.subplot2grid(dim,(0,1))\n",
    "dateMonth.plot(kind=\"bar\",title=\"Date of incidents_MonthOfYear\", color=color, edgecolor=edgecolor,fontsize=16,xlabel = \"mese dell'anno\").title.set_size(18)\n",
    "\n",
    "#monday == \"1\"\n",
    "plt.subplot2grid(dim,(0,2))\n",
    "dateDay.plot(kind=\"bar\",title=\"Date of incidents_DayofWeek\", color=color, edgecolor=edgecolor,fontsize=16, xlabel=\"giorno della settimana\").title.set_size(18)"
   ]
  },
  {
   "cell_type": "markdown",
   "id": "53c8a70c",
   "metadata": {},
   "source": [
    "### State\n",
    "dato di tipo categorico, plottiamo la distribuzione.\n",
    "District of columbia non è uno stato ma fa parte di washington, nel data cleaning verrà effettuata la correzione.\n"
   ]
  },
  {
   "cell_type": "code",
   "execution_count": null,
   "id": "fc9793bd",
   "metadata": {},
   "outputs": [],
   "source": [
    "state=data[\"state\"].value_counts()\n",
    "\n",
    "plt.figure(figsize=(25,5))\n",
    "ax=state.plot(kind=\"bar\",title=\"State of incidents\", color=color, edgecolor=edgecolor,fontsize=16)\n",
    "ax.title.set_size(18)\n",
    "ax.set_ylabel(\"frequency\",fontsize= 16)\n",
    "ax.set_xlabel(\"State\",fontsize=16)\n",
    "print(state)"
   ]
  },
  {
   "cell_type": "markdown",
   "id": "4148ab50",
   "metadata": {},
   "source": [
    "### Latitude and Longitude\n",
    "Gli attributi state, city_or_county, address, congressional_district, state_house_district e state_senate_district si possono inferire dalla coppia (latitude, longitude) quindi per la distribuzione, basta plottare lo scatter della coppia.\n",
    "In una sezione successiva del progetto va fatta la cluster analysis di del seguente scatter, individuati i centroidi e poi utilizzati assieme alla grandezza dei relativi cluster come dati per un mapbox plot."
   ]
  },
  {
   "cell_type": "markdown",
   "id": "fd2140cd",
   "metadata": {},
   "source": [
    "Lo scatter plot è molto esaustivo dato che ci sono molti dati a disposizione e per avere buona precisione nella locazione servirebbe considerare 3 cifre decimali. Questo problema verrà risolto riducendo i dati durente la cluster analysis."
   ]
  },
  {
   "cell_type": "code",
   "execution_count": null,
   "id": "fc1e3f95",
   "metadata": {},
   "outputs": [],
   "source": [
    "a=plt.scatter(data[\"latitude\"],data[\"longitude\"],alpha = 0.1, edgecolors=color)\n",
    "plt.show()\n"
   ]
  },
  {
   "cell_type": "markdown",
   "id": "a0213d9a",
   "metadata": {},
   "source": [
    "#### Luogo dell'incidente\n",
    "Il luogo dell'incidente viene individuato attraverso la coppia <latitude, longitude>"
   ]
  },
  {
   "cell_type": "code",
   "execution_count": null,
   "id": "af6fd25f",
   "metadata": {},
   "outputs": [],
   "source": [
    "import geopandas as gpd\n",
    "import matplotlib.pyplot as plt\n",
    "\n",
    "# Carica la mappa del North America\n",
    "world = gpd.read_file(gpd.datasets.get_path('naturalearth_lowres'))\n",
    "usa = world[world.continent == \"North America\"]\n",
    "\n",
    "gdf = gpd.GeoDataFrame(data, geometry=gpd.points_from_xy(data.longitude, data.latitude))\n",
    "\n",
    "fig, ax = plt.subplots(figsize=(30, 30))\n",
    "\n",
    "# Disegna la mappa degli Stati Uniti\n",
    "usa.plot(ax=ax, color='white', edgecolor='black')\n",
    "\n",
    "gdf.plot(ax=ax, marker='o', color='red', markersize=0.01)\n",
    "plt.show()\n"
   ]
  },
  {
   "cell_type": "markdown",
   "id": "b27c84de",
   "metadata": {},
   "source": [
    "### participant_age1\n",
    "Random partecipant's age, non sono presenti stringhe "
   ]
  },
  {
   "cell_type": "code",
   "execution_count": null,
   "id": "3b029cb6",
   "metadata": {},
   "outputs": [],
   "source": [
    "dim = (1,2)\n",
    "plt.figure(figsize=(25,10))\n",
    "\n",
    "plt.subplot2grid(dim,(0,0))\n",
    "ax=data[\"participant_age1\"].plot(bins=50,kind=\"hist\",title=\"participant_age1 distribution\", \n",
    "                              color=color,edgecolor=edgecolor,fontsize=16)\n",
    "ax.title.set_size(18)\n",
    "ax.set_yscale(\"log\")\n",
    "#.set_xscale(\"log\")\n",
    "ax.set_yticks([1,10,100,1000,10000,50000])\n",
    "ax.set_yticklabels([1,10,100,1000,10000,50000])\n",
    "ax.set_xticks([0,10,25,50,75,100])\n",
    "ax.set_xticklabels([0,10,25,50,75,100])\n",
    "ax.set_ylabel(\"frequency\",fontsize=18)\n",
    "ax.set_xlabel(\"age\",fontsize=18)\n",
    "\n",
    "plt.subplot2grid(dim,(0,1))\n",
    "ax2 = data[\"participant_age1\"].plot(kind=\"box\",fontsize=16)\n",
    "ax2.set_title(\"partecipant_age1 boxplot\")\n",
    "ax2.title.set_size(18)\n",
    "ax2.set_ylabel(\"age\", fontsize=18)\n",
    "\n",
    "\n",
    "plt.show()"
   ]
  },
  {
   "cell_type": "markdown",
   "id": "8c28607f",
   "metadata": {},
   "source": [
    "### participant_age_group1\n",
    "Random partecipant age group, non sono presenti valori oltre quelli rappresentati"
   ]
  },
  {
   "cell_type": "code",
   "execution_count": null,
   "id": "6fde373c",
   "metadata": {},
   "outputs": [],
   "source": [
    "ageGroup= data[\"participant_age_group1\"].value_counts()\n",
    "ax=ageGroup.plot(kind=\"bar\", color=color,edgecolor=edgecolor,fontsize=10,title=\"partecipants age group distribution\")\n",
    "ax.title.set_size(14)\n",
    "ax.set_yscale(\"log\")\n",
    "ax.set_ylabel(\"frequency\",fontsize=12)\n",
    "ax.set_yticks([1000,5000,10000,10000,100000,200000])\n",
    "ax.set_yticklabels([1000,5000,10000,10000,100000,200000])\n",
    "plt.show()"
   ]
  },
  {
   "cell_type": "markdown",
   "id": "8858b128",
   "metadata": {},
   "source": [
    "### participant_gender1\n",
    "Attributo binario, è presente unica istanza dell'attributo con valore \"Male, female\".<br>\n",
    "Dato che l'occorrenza è unica, il valore viene sostituito dalla moda ovvero \"Male\"; inoltre il fatto che semanticamente contenga entrambi i due valori possibili per l'attributo, separati da una virgola, fa supporre che ci sia prima stato un qualche tipo di errore, fatto dopo aver dato valore \"Male\" all'attributo in questione.<br>\n",
    "Nella sezione successiva, dopo aver ripulito i dati, ha senso plottare assieme partecipant age group1 e questo attributo."
   ]
  },
  {
   "cell_type": "code",
   "execution_count": null,
   "id": "1f77c7b4",
   "metadata": {},
   "outputs": [],
   "source": [
    "partGender=data[\"participant_gender1\"]\n",
    "partGender= partGender.replace(\"Male, female\", \"Male\")\n",
    "ax= partGender.value_counts().plot(kind=\"bar\",stacked=False, color=color,edgecolor=edgecolor,fontsize=10,title=\"participant gender distribution\")\n",
    "ax.title.set_size(12)\n",
    "ax.set_ylabel(\"frequency\")"
   ]
  },
  {
   "cell_type": "markdown",
   "id": "95e2766b",
   "metadata": {},
   "source": [
    "### min_age_participants\n",
    "minimum age of the participants in the incident. Si tratta di un attributo numerico, perciò prima di plottare boxplot e distribution bisogna rimuovere tutti i valori non numerici.\n",
    "Il box plot con scala logaritmica su asse delle y è molto utile dato che ci sono quasi 4000 valori di età maggiori di 120 anni (outliers)"
   ]
  },
  {
   "cell_type": "code",
   "execution_count": null,
   "id": "7d1084be",
   "metadata": {},
   "outputs": [],
   "source": [
    "minAgePart= data[\"min_age_participants\"]\n",
    "minAgePart = pd.to_numeric(minAgePart, errors=\"coerce\")\n",
    "\n",
    "dim = (1,2)\n",
    "plt.figure(figsize=(25,10))\n",
    "\n",
    "plt.subplot2grid(dim,(0,0))\n",
    "ax=minAgePart.plot(kind=\"hist\",title=\"min_age_participants distribution\", \n",
    "                              color=color,edgecolor=edgecolor,fontsize=16)\n",
    "ax.title.set_size(18)\n",
    "ax.set_yscale(\"log\")\n",
    "ax.set_xscale(\"log\")\n",
    "ax.set_ylabel(\"frequency\",fontsize=18)\n",
    "ax.set_xlabel(\"age\",fontsize=18)\n",
    "plt.subplot2grid(dim,(0,1))\n",
    "\n",
    "ax2=minAgePart.plot(kind=\"box\",fontsize=16)\n",
    "ax2.set_title(\"min_age_participants boxplot\")\n",
    "# ax2.set_yscale(\"log\")\n",
    "ax2.set_ylabel(\"age\",fontsize=18)\n",
    "ax2.title.set_size(18)\n",
    "\n",
    "\n",
    "plt.show()"
   ]
  },
  {
   "cell_type": "markdown",
   "id": "74278101",
   "metadata": {},
   "source": [
    "### avg_age_participants\n",
    "average age of the participants in the incident. L'attributo va trattato in questa fase esattamente come il precedente.\n"
   ]
  },
  {
   "cell_type": "code",
   "execution_count": null,
   "id": "cac264db",
   "metadata": {},
   "outputs": [],
   "source": [
    "avgAgePart= data[\"avg_age_participants\"]\n",
    "avgAgePart = pd.to_numeric(avgAgePart, errors=\"coerce\")\n",
    "\n",
    "dim = (1,2)\n",
    "plt.figure(figsize=(25,10))\n",
    "\n",
    "plt.subplot2grid(dim,(0,0))\n",
    "ax=avgAgePart.plot(kind=\"hist\",title=\"avg_age_participants distribution\", \n",
    "                              color=color,edgecolor=edgecolor,fontsize=16)\n",
    "ax.title.set_size(18)\n",
    "ax.set_yscale(\"log\")\n",
    "ax.set_xscale(\"log\")\n",
    "ax.set_ylabel(\"frequency\",fontsize=18)\n",
    "ax.set_xlabel(\"age\",fontsize=18)\n",
    "plt.subplot2grid(dim,(0,1))\n",
    "\n",
    "ax2=minAgePart.plot(kind=\"box\",fontsize=16)\n",
    "ax2.set_title(\"avg_age_participants boxplot\")\n",
    "ax2.set_yscale(\"log\")\n",
    "ax2.set_ylabel(\"age\",fontsize=18)\n",
    "ax2.title.set_size(18)\n",
    "\n",
    "\n",
    "plt.show()"
   ]
  },
  {
   "cell_type": "markdown",
   "id": "a45ff744",
   "metadata": {},
   "source": [
    "### max_age_partecipants\n",
    "maximum age of the participants in the incident. L'attributo va trattato in questa fase esattamente come il precedente.<br>\n",
    "Ci sono circa 12k valori semanticamente scorretti.\n",
    "## max-min-avg_age participants post datacleaning andrebbero plottati tutti e 3 assieme con un triplo box plot"
   ]
  },
  {
   "cell_type": "code",
   "execution_count": null,
   "id": "4a9f405d",
   "metadata": {},
   "outputs": [],
   "source": [
    "maxAgePart= data[\"max_age_participants\"]\n",
    "maxAgePart = pd.to_numeric(maxAgePart, errors=\"coerce\")\n",
    "\n",
    "dim = (1,2)\n",
    "plt.figure(figsize=(25,10))\n",
    "\n",
    "plt.subplot2grid(dim,(0,0))\n",
    "ax=maxAgePart.plot(kind=\"hist\",title=\"max_age_participants distribution\", \n",
    "                              color=color,edgecolor=edgecolor,fontsize=16)\n",
    "ax.title.set_size(18)\n",
    "ax.set_yscale(\"log\")\n",
    "ax.set_xscale(\"log\")\n",
    "ax.set_ylabel(\"frequency\",fontsize=18)\n",
    "ax.set_xlabel(\"age\",fontsize=18)\n",
    "plt.subplot2grid(dim,(0,1))\n",
    "\n",
    "ax2=maxAgePart.plot(kind=\"box\",fontsize=16)\n",
    "ax2.set_title(\"max_age_participants boxplot\")\n",
    "ax2.set_yscale(\"log\")\n",
    "ax2.set_ylabel(\"age\",fontsize=18)\n",
    "ax2.title.set_size(18)\n",
    "\n",
    "\n",
    "plt.show()\n",
    "k=0\n",
    "for age in maxAgePart:\n",
    "    if age > 120 or age <0:\n",
    "        k+=1\n",
    "print(k)"
   ]
  },
  {
   "cell_type": "markdown",
   "id": "2f89c5bc",
   "metadata": {},
   "source": [
    "### n_participants_child\n",
    "number of child participants 0-11. L'attributo va trattato in questa fase esattamente come il precedente.\n",
    "In questo caso abbiamo solo una decina di valori outliers, che possono essere rimossi tranquillamente in quanto in bassa quantità rispetto al numero di dati che abbiamo a disposozione. Per il momento non li rimuoviamo e ciò rende i grafici pressocche inutili a meno di suddividere l'istogramma in 200k bins.\n",
    "Il box plot permette di individuare outliers.\n",
    "## Dopo il data cleaning ha senso stampare in un grafico i 3 box plot di n_participants_child-teen-adult ed utilizzare un grafico a barre per confrontare le distribuzioni dei tre attributi"
   ]
  },
  {
   "cell_type": "code",
   "execution_count": null,
   "id": "bc7cbc4a",
   "metadata": {},
   "outputs": [],
   "source": [
    "npartChild= data[\"n_participants_child\"]\n",
    "npartChild = pd.to_numeric(npartChild, errors=\"coerce\")\n",
    "\n",
    "dim = (1,2)\n",
    "plt.figure(figsize=(25,10))\n",
    "\n",
    "plt.subplot2grid(dim,(0,0))\n",
    "ax=npartChild.plot(kind=\"hist\",title=\"n_participants_child distribution\", \n",
    "                              color=color,edgecolor=edgecolor,fontsize=16)\n",
    "ax.title.set_size(18)\n",
    "ax.set_yscale(\"log\")\n",
    "ax.set_ylabel(\"frequency\",fontsize=18)\n",
    "ax.set_xlabel(\"number of child\",fontsize=18)\n",
    "plt.subplot2grid(dim,(0,1))\n",
    "\n",
    "ax2=npartChild.plot(kind=\"box\",fontsize=16)\n",
    "ax2.set_title(\"n_participants_child boxplot\")\n",
    "ax2.set_yscale(\"log\")\n",
    "ax2.set_ylabel(\"number of child\",fontsize=18)\n",
    "ax2.title.set_size(18)\n",
    "\n",
    "\n",
    "plt.show()\n"
   ]
  },
  {
   "cell_type": "markdown",
   "id": "06fa1b73",
   "metadata": {},
   "source": [
    "### n_participants_teen\n",
    "number of teen participants 12-17. Valgono le cose scritte per l'attributo precedente."
   ]
  },
  {
   "cell_type": "code",
   "execution_count": null,
   "id": "d88da403",
   "metadata": {},
   "outputs": [],
   "source": [
    "npartTeen= data[\"n_participants_teen\"]\n",
    "npartTeen = pd.to_numeric(npartTeen, errors=\"coerce\")\n",
    "\n",
    "dim = (1,2)\n",
    "plt.figure(figsize=(25,10))\n",
    "\n",
    "plt.subplot2grid(dim,(0,0))\n",
    "ax=npartTeen.plot(kind=\"hist\",title= \"n_participants_teen distribution\", \n",
    "                              color=color,edgecolor=edgecolor,fontsize=16)\n",
    "ax.title.set_size(18)\n",
    "ax.set_yscale(\"log\")\n",
    "ax.set_ylabel(\"frequency\",fontsize=18)\n",
    "ax.set_xlabel(\"number of teen\",fontsize=18)\n",
    "plt.subplot2grid(dim,(0,1))\n",
    "\n",
    "ax2=npartTeen.plot(kind=\"box\",fontsize=16)\n",
    "ax2.set_title(\"n_participants_teen boxplot\")\n",
    "ax2.set_yscale(\"log\")\n",
    "ax2.set_ylabel(\"number of teen\",fontsize=18)\n",
    "ax2.title.set_size(18)\n",
    "\n",
    "\n",
    "plt.show()"
   ]
  },
  {
   "cell_type": "markdown",
   "id": "ff7c3caf",
   "metadata": {},
   "source": [
    "### n_participants_adult\n",
    "number of adult participants (18 +).  Valgono le cose scritte per l'attributo precedente. l'unico tra gli ultimi tre attributi per il quale ha senso il boxplot"
   ]
  },
  {
   "cell_type": "code",
   "execution_count": null,
   "id": "735cfff4",
   "metadata": {},
   "outputs": [],
   "source": [
    "npartAdult= data[\"n_participants_adult\"]\n",
    "npartAdult = pd.to_numeric(npartAdult, errors=\"coerce\")\n",
    "\n",
    "dim = (1,2)\n",
    "plt.figure(figsize=(25,10))\n",
    "\n",
    "plt.subplot2grid(dim,(0,0))\n",
    "ax=npartAdult.plot(kind=\"hist\",title= \"n_participants_adult distribution\", \n",
    "                              color=color,edgecolor=edgecolor,fontsize=16)\n",
    "ax.title.set_size(18)\n",
    "ax.set_yscale(\"log\")\n",
    "ax.set_ylabel(\"frequency\",fontsize=18)\n",
    "ax.set_xlabel(\"number of adult\",fontsize=18)\n",
    "plt.subplot2grid(dim,(0,1))\n",
    "\n",
    "ax2=npartAdult.plot(kind=\"box\",fontsize=16)\n",
    "ax2.set_title(\"n_participants_adult boxplot\")\n",
    "ax2.set_yscale(\"log\")\n",
    "ax2.set_ylabel(\"number of adult\",fontsize=18)\n",
    "ax2.title.set_size(18)\n",
    "\n",
    "\n",
    "plt.show()"
   ]
  },
  {
   "cell_type": "markdown",
   "id": "741dd0dc",
   "metadata": {},
   "source": [
    "### n_males.\n",
    "number of males participants. Non sono presenti valori stringhe.\n",
    "## va ovviamente plotatto assieme a n_females post-data cleaning"
   ]
  },
  {
   "cell_type": "code",
   "execution_count": null,
   "id": "0ea93651",
   "metadata": {},
   "outputs": [],
   "source": [
    "nMales= data[\"n_males\"]\n",
    "\n",
    "dim = (1,2)\n",
    "plt.figure(figsize=(25,10))\n",
    "\n",
    "plt.subplot2grid(dim,(0,0))\n",
    "ax=nMales.plot(bins= 60,kind=\"hist\",title= \"n_males distribution\", \n",
    "                              color=color,edgecolor=edgecolor,fontsize=16)\n",
    "ax.title.set_size(18)\n",
    "ax.set_yscale(\"log\")\n",
    "ax.set_ylabel(\"frequency\",fontsize=18)\n",
    "ax.set_xlabel(\"number of males\",fontsize=18)\n",
    "plt.subplot2grid(dim,(0,1))\n",
    "\n",
    "ax2=nMales.plot(kind=\"box\",fontsize=16)\n",
    "ax2.set_title(\"n_males boxplot\")\n",
    "ax2.set_yscale(\"log\")\n",
    "ax2.set_yticks([1,2,3,4,5,6,10])\n",
    "ax2.set_yticklabels([1,2,3,4,5,6,10])\n",
    "ax2.set_ylabel(\"number of males\",fontsize=18)\n",
    "ax2.title.set_size(18)\n",
    "print(nMales.describe())\n",
    "\n",
    "plt.show()"
   ]
  },
  {
   "cell_type": "markdown",
   "id": "25f2aca9",
   "metadata": {},
   "source": [
    " ### n_females\n",
    " number of females participants. Non sono presenti valori stringhe."
   ]
  },
  {
   "cell_type": "code",
   "execution_count": null,
   "id": "8875ba01",
   "metadata": {},
   "outputs": [],
   "source": [
    "nFemales= data[\"n_females\"]\n",
    "\n",
    "dim = (1,2)\n",
    "plt.figure(figsize=(25,10))\n",
    "\n",
    "plt.subplot2grid(dim,(0,0))\n",
    "ax=nFemales.plot(bins= 23, kind=\"hist\",title= \"n_females distribution\", \n",
    "                              color=color,edgecolor=edgecolor,fontsize=16)\n",
    "ax.title.set_size(18)\n",
    "ax.set_yscale(\"log\")\n",
    "ax.set_ylabel(\"frequency\",fontsize=18)\n",
    "ax.set_xlabel(\"number of females\",fontsize=18)\n",
    "plt.subplot2grid(dim,(0,1))\n",
    "\n",
    "ax2=nFemales.plot(kind=\"box\",fontsize=16)\n",
    "ax2.set_title(\"n_females boxplot\")\n",
    "ax2.set_yticks([1,2,3,4,5,6,10])\n",
    "ax2.set_yticklabels([1,2,3,4,5,6,10])\n",
    "ax2.set_ylabel(\"number of females\",fontsize=18)\n",
    "ax2.title.set_size(18)\n",
    "\n",
    "print(nFemales.describe())\n",
    "\n",
    "plt.show()"
   ]
  },
  {
   "cell_type": "markdown",
   "id": "db65dd47",
   "metadata": {},
   "source": [
    "### n_killed\n",
    "number of people killed. Non sono presenti stringhe."
   ]
  },
  {
   "cell_type": "code",
   "execution_count": null,
   "id": "9eaa20c6",
   "metadata": {},
   "outputs": [],
   "source": [
    "nKilled= data[\"n_killed\"]\n",
    "\n",
    "dim = (1,2)\n",
    "plt.figure(figsize=(25,10))\n",
    "\n",
    "plt.subplot2grid(dim,(0,0))\n",
    "ax=nKilled.plot(bins=50,kind=\"hist\",title= \"n_killed distribution\", \n",
    "                              color=color,edgecolor=edgecolor,fontsize=16)\n",
    "ax.title.set_size(18)\n",
    "ax.set_yscale(\"log\")\n",
    "ax.set_ylabel(\"frequency\",fontsize=18)\n",
    "ax.set_xlabel(\"number of people killed\",fontsize=18)\n",
    "plt.subplot2grid(dim,(0,1))\n",
    "\n",
    "ax2=nKilled.plot(kind=\"box\",fontsize=16)\n",
    "ax2.set_title(\"n_killed boxplot\")\n",
    "\n",
    "ax2.set_ylabel(\"number of people killed\",fontsize=18)\n",
    "ax2.title.set_size(18)\n",
    "print(nKilled.describe())\n",
    "\n",
    "plt.show()"
   ]
  },
  {
   "cell_type": "markdown",
   "id": "c9c495f1",
   "metadata": {},
   "source": [
    "### n_injured\n",
    "number of people injured. Sono presenti solo numeri."
   ]
  },
  {
   "cell_type": "code",
   "execution_count": null,
   "id": "b67db12e",
   "metadata": {},
   "outputs": [],
   "source": [
    "nInjured= data[\"n_injured\"]\n",
    "\n",
    "dim = (1,2)\n",
    "plt.figure(figsize=(25,10))\n",
    "\n",
    "plt.subplot2grid(dim,(0,0))\n",
    "ax=nInjured.plot(bins=53,kind=\"hist\",title= \"n_killed distribution\", \n",
    "                              color=color,edgecolor=edgecolor,fontsize=16)\n",
    "ax.title.set_size(18)\n",
    "ax.set_yscale(\"log\")\n",
    "ax.set_ylabel(\"frequency\",fontsize=18)\n",
    "ax.set_xlabel(\"number of people injured\",fontsize=18)\n",
    "plt.subplot2grid(dim,(0,1))\n",
    "\n",
    "ax2=nInjured.plot(kind=\"box\",fontsize=16)\n",
    "ax2.set_title(\"n_injured boxplot\")\n",
    "ax2.set_ylabel(\"number of people injured\",fontsize=18)\n",
    "ax2.title.set_size(18)\n",
    "print(nInjured.describe())\n",
    "\n",
    "plt.show()"
   ]
  },
  {
   "cell_type": "markdown",
   "id": "385d3c02",
   "metadata": {},
   "source": [
    "###  n_arrested\n",
    "number of arrested participants. Non sono presenti valori stringhe."
   ]
  },
  {
   "cell_type": "code",
   "execution_count": null,
   "id": "c016362b",
   "metadata": {},
   "outputs": [],
   "source": [
    "nArrested= data[\"n_arrested\"]\n",
    "\n",
    "dim = (1,2)\n",
    "plt.figure(figsize=(25,10))\n",
    "\n",
    "plt.subplot2grid(dim,(0,0))\n",
    "ax=nArrested.plot(bins=63,kind=\"hist\",title= \"n_killed distribution\", \n",
    "                              color=color,edgecolor=edgecolor,fontsize=16)\n",
    "ax.title.set_size(18)\n",
    "ax.set_yscale(\"log\")\n",
    "ax.set_ylabel(\"frequency\",fontsize=18)\n",
    "ax.set_xlabel(\"number of people arrested\",fontsize=18)\n",
    "plt.subplot2grid(dim,(0,1))\n",
    "\n",
    "ax2=nArrested.plot(kind=\"box\",fontsize=16)\n",
    "ax2.set_title(\"n_arrested boxplot\")\n",
    "ax2.set_ylabel(\"number of people arrested\",fontsize=18)\n",
    "ax2.title.set_size(18)\n",
    "print(nArrested.describe())\n",
    "\n",
    "plt.show()"
   ]
  },
  {
   "cell_type": "markdown",
   "id": "01dce89d",
   "metadata": {},
   "source": [
    "### n_unharmed\n",
    "number of unharmed participants. Non sono presenti valori string."
   ]
  },
  {
   "cell_type": "code",
   "execution_count": null,
   "id": "a1976a79",
   "metadata": {},
   "outputs": [],
   "source": [
    "nUnharmed= data[\"n_unharmed\"]\n",
    "\n",
    "dim = (1,2)\n",
    "plt.figure(figsize=(25,10))\n",
    "\n",
    "plt.subplot2grid(dim,(0,0))\n",
    "ax=nUnharmed.plot(bins=20,kind=\"hist\",title= \"n_unharmed distribution\", \n",
    "                              color=color,edgecolor=edgecolor,fontsize=16)\n",
    "ax.title.set_size(18)\n",
    "ax.set_yscale(\"log\")\n",
    "ax.set_ylabel(\"frequency\",fontsize=18)\n",
    "ax.set_xlabel(\"number of people unharmed\",fontsize=18)\n",
    "plt.subplot2grid(dim,(0,1))\n",
    "\n",
    "ax2=nUnharmed.plot(kind=\"box\",fontsize=16)\n",
    "ax2.set_title(\"n_unharmed boxplot\")\n",
    "ax2.set_ylabel(\"number of people unharmed\",fontsize=18)\n",
    "ax2.title.set_size(18)\n",
    "print(nUnharmed.describe())\n",
    "\n",
    "plt.show()"
   ]
  },
  {
   "cell_type": "markdown",
   "id": "9be96125",
   "metadata": {},
   "source": [
    "### n_participants\n",
    "number of participants in the incident. Non sono presenti valori string."
   ]
  },
  {
   "cell_type": "code",
   "execution_count": null,
   "id": "c7997bb4",
   "metadata": {},
   "outputs": [],
   "source": [
    "nParticipants= data[\"n_participants\"]\n",
    "\n",
    "dim = (1,2)\n",
    "plt.figure(figsize=(25,10))\n",
    "\n",
    "plt.subplot2grid(dim,(0,0))\n",
    "ax=nParticipants.plot(bins=103,kind=\"hist\",title= \"n_participants distribution\", \n",
    "                              color=color,edgecolor=edgecolor,fontsize=16)\n",
    "ax.title.set_size(18)\n",
    "ax.set_yscale(\"log\")\n",
    "ax.set_ylabel(\"frequency\",fontsize=18)\n",
    "ax.set_xlabel(\"number of people participants\",fontsize=18)\n",
    "plt.subplot2grid(dim,(0,1))\n",
    "\n",
    "ax2=nParticipants.plot(kind=\"box\",fontsize=16)\n",
    "ax2.set_title(\"n_participants boxplot\")\n",
    "ax2.set_ylabel(\"number of people participants\",fontsize=18)\n",
    "ax2.title.set_size(18)\n",
    "print(nParticipants.describe())\n",
    "\n",
    "plt.show()"
   ]
  },
  {
   "cell_type": "markdown",
   "id": "9a89a689",
   "metadata": {},
   "source": [
    "### incidents characteristic1 e 2\n",
    "dato categorico. Incidents caracteristc2 è stato analizzato ma i dati più frequenti non sono ritenuti interessanti ai fini dell'analisi quindi l'attributo viene droppato."
   ]
  },
  {
   "cell_type": "code",
   "execution_count": null,
   "id": "17ac7ad3",
   "metadata": {},
   "outputs": [],
   "source": [
    "inc1=data[\"incident_characteristics1\"].value_counts()\n",
    "plt.figure(figsize=(25,5))\n",
    "ax=inc1.plot(kind=\"bar\",title=\"incident_characteristic1\", color=color, edgecolor=edgecolor,fontsize=16)\n",
    "ax.title.set_size(18)\n",
    "ax.set_ylabel(\"frequency\",fontsize= 16)\n",
    "ax.set_xlabel(\"incident characteristic\",fontsize=16)\n",
    "ax.set_yscale(\"log\")"
   ]
  },
  {
   "cell_type": "code",
   "execution_count": null,
   "id": "880da692",
   "metadata": {},
   "outputs": [],
   "source": []
  }
 ],
 "metadata": {
  "kernelspec": {
   "display_name": "Python 3 (ipykernel)",
   "language": "python",
   "name": "python3"
  },
  "language_info": {
   "codemirror_mode": {
    "name": "ipython",
    "version": 3
   },
   "file_extension": ".py",
   "mimetype": "text/x-python",
   "name": "python",
   "nbconvert_exporter": "python",
   "pygments_lexer": "ipython3",
   "version": "3.9.2"
  }
 },
 "nbformat": 4,
 "nbformat_minor": 5
}
