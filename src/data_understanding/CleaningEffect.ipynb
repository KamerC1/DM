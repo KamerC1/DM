{
 "cells": [
  {
   "cell_type": "code",
   "execution_count": 8,
   "metadata": {},
   "outputs": [],
   "source": [
    "import matplotlib.pyplot as plt\n",
    "from data_type import get_converted_incidents_df\n",
    "import numpy as np\n",
    "import matplotlib.pyplot as plt"
   ]
  },
  {
   "cell_type": "markdown",
   "metadata": {},
   "source": [
    "### In questo notebook vengono poste a null gli attributi che sono inconsistenti della tabella incidents.csv"
   ]
  },
  {
   "cell_type": "code",
   "execution_count": 9,
   "metadata": {},
   "outputs": [],
   "source": [
    "df = get_converted_incidents_df()\n",
    "nullCount_beforeProcessing = df.isnull().sum()"
   ]
  },
  {
   "cell_type": "code",
   "execution_count": 10,
   "metadata": {},
   "outputs": [],
   "source": [
    "### Rimozione duplicati"
   ]
  },
  {
   "cell_type": "code",
   "execution_count": 11,
   "metadata": {},
   "outputs": [
    {
     "name": "stdout",
     "output_type": "stream",
     "text": [
      "Prima della rimozione:  (239677, 28)\n",
      "Dopo la rimozione:  (239381, 28)\n",
      "Lost rows:  0.12349954313513604 %\n"
     ]
    }
   ],
   "source": [
    "before = df.shape\n",
    "df.drop_duplicates(inplace=True)\n",
    "after = df.shape\n",
    "\n",
    "print(\"Prima della rimozione: \", before)\n",
    "print(\"Dopo la rimozione: \", after)\n",
    "print(\"Lost rows: \", (before[0]-after[0])/before[0]*100, \"%\")"
   ]
  },
  {
   "cell_type": "markdown",
   "metadata": {},
   "source": [
    "#### Controllo consistenza dei valori numerici"
   ]
  },
  {
   "cell_type": "code",
   "execution_count": 12,
   "metadata": {},
   "outputs": [
    {
     "name": "stdout",
     "output_type": "stream",
     "text": [
      "Percentuale valori eliminati: \n",
      "date                             0\n",
      "state                            0\n",
      "city_or_county                   0\n",
      "address                        -50\n",
      "latitude                         0\n",
      "longitude                        0\n",
      "congressional_district          -1\n",
      "state_house_district           -39\n",
      "state_senate_district          -29\n",
      "participant_age1              -277\n",
      "participant_age_group1        -246\n",
      "participant_gender1           -247\n",
      "min_age_participants         11468\n",
      "avg_age_participants         11514\n",
      "max_age_participants         11429\n",
      "n_participants_child          -236\n",
      "n_participants_teen           -233\n",
      "n_participants_adult          -232\n",
      "n_males                       -247\n",
      "n_females                     -247\n",
      "n_killed                         0\n",
      "n_injured                        0\n",
      "n_arrested                    -233\n",
      "n_unharmed                    -233\n",
      "n_participants                   0\n",
      "notes                         -194\n",
      "incident_characteristics1        0\n",
      "incident_characteristics2     -140\n",
      "dtype: int64\n"
     ]
    }
   ],
   "source": [
    "df.loc[(df['min_age_participants'] < 0) | (df['min_age_participants'] > 122), 'min_age_participants'] = np.nan\n",
    "df.loc[(df['max_age_participants'] < 0) | (df['max_age_participants'] > 122), 'max_age_participants'] = np.nan\n",
    "df.loc[(df['avg_age_participants'] < 0) | (df['avg_age_participants'] > 122), 'avg_age_participants'] = np.nan\n",
    "\n",
    "cols = ['n_participants_adult', 'n_participants_child', 'n_participants_teen', 'n_males', 'n_females', 'n_killed', 'n_injured', 'n_arrested', 'n_unharmed', 'n_participants']\n",
    "for col in cols:\n",
    "    df.loc[(df[col] < 0) | (df[col] > 103), col] = np.nan\n",
    "\n",
    "\n",
    "after = df.isnull().sum()\n",
    "print(\"Percentuale valori eliminati: \")\n",
    "print(after-nullCount_beforeProcessing)"
   ]
  },
  {
   "cell_type": "code",
   "execution_count": 13,
   "metadata": {},
   "outputs": [
    {
     "name": "stdout",
     "output_type": "stream",
     "text": [
      "23261\n",
      "4        2030-06-14\n",
      "15       2030-07-03\n",
      "16       2029-07-11\n",
      "32       2030-05-02\n",
      "35       2029-11-02\n",
      "            ...    \n",
      "239625   2029-06-21\n",
      "239642   2030-02-24\n",
      "239643   2030-05-26\n",
      "239662   2030-04-14\n",
      "239673   2029-01-01\n",
      "Name: date, Length: 23261, dtype: datetime64[ns]\n"
     ]
    }
   ],
   "source": [
    "inconsistent_entry = df.loc[df['date'].dt.year.isin([2013,2028, 2029, 2030]), 'date']\n",
    "print(len(inconsistent_entry))\n",
    "print(inconsistent_entry)\n",
    "df.loc[df['date'].dt.year.isin([2013,2028, 2029, 2030]), 'date'] = np.nan"
   ]
  },
  {
   "cell_type": "code",
   "execution_count": 14,
   "metadata": {},
   "outputs": [
    {
     "name": "stdout",
     "output_type": "stream",
     "text": [
      "0\n"
     ]
    }
   ],
   "source": [
    "# min_age_participants ≤ participant_age1 ≤ max_age_participants\n",
    "mask = (df['participant_age1'] < df['min_age_participants']) | (df['participant_age1'] > df['max_age_participants'])\n",
    "inconsistent_entry = df.loc[mask, ['min_age_participants', 'participant_age1', 'max_age_participants']]\n",
    "print(len(inconsistent_entry))"
   ]
  },
  {
   "cell_type": "code",
   "execution_count": 15,
   "metadata": {},
   "outputs": [
    {
     "name": "stdout",
     "output_type": "stream",
     "text": [
      "0\n"
     ]
    }
   ],
   "source": [
    "# min_age_participants ≤ avg_age_participants ≤ max_age_participants\n",
    "mask = (df['avg_age_participants'] < df['min_age_participants']) | (df['avg_age_participants'] > df['max_age_participants'])\n",
    "inconsistent_entry = df.loc[mask, ['min_age_participants', 'avg_age_participants', 'max_age_participants']]\n",
    "print(len(inconsistent_entry))"
   ]
  },
  {
   "cell_type": "code",
   "execution_count": 16,
   "metadata": {},
   "outputs": [
    {
     "name": "stdout",
     "output_type": "stream",
     "text": [
      "5\n",
      "        n_participants_child  min_age_participants\n",
      "17410                    0.0                   2.0\n",
      "89334                    0.0                   2.0\n",
      "146657                   0.0                   2.0\n",
      "148598                   0.0                   0.0\n",
      "211597                   0.0                   5.0\n"
     ]
    }
   ],
   "source": [
    "# min_age_participants < 12 <=> n_participants_child > 0\n",
    "mask = (df['min_age_participants'] < 12) & (df['n_participants_child'] == 0)\n",
    "inconsistent_entry = df.loc[mask, ['n_participants_child', 'min_age_participants']]\n",
    "print(len(inconsistent_entry))\n",
    "print(inconsistent_entry)\n",
    "\n",
    "#Dato che i valori sono pochi ed è impossibile determinare quale dei due campi è sbagliato => poniamo a null tutti gli attributi interessati (molto probabilmente verrano eliminati nelle fasi successive)\n",
    "df.loc[mask, ['n_participants_child', 'min_age_participants']] = np.nan"
   ]
  },
  {
   "cell_type": "code",
   "execution_count": 17,
   "metadata": {},
   "outputs": [
    {
     "name": "stdout",
     "output_type": "stream",
     "text": [
      "30\n",
      "       n_participants_adult  max_age_participants\n",
      "7885                    0.0                  24.0\n",
      "9233                    0.0                  18.0\n",
      "9298                    0.0                  40.0\n",
      "12944                   0.0                  20.0\n",
      "15655                   0.0                  30.0\n"
     ]
    }
   ],
   "source": [
    "# max_age_participants ≥ 18 <=> n_participants_adult > 0\n",
    "mask = (df['max_age_participants'] >= 18) & (df['n_participants_adult'] == 0)\n",
    "inconsistent_entry = df.loc[mask, ['n_participants_adult', 'max_age_participants']]\n",
    "print(len(inconsistent_entry))\n",
    "print(inconsistent_entry.head())\n",
    "\n",
    "#Dato che i valori sono pochi ed è impossibile determinare quale dei due campi è sbagliato => poniamo a null tutti gli attributi interessati (molto probabilmente verrano eliminati nelle fasi successive)\n",
    "df.loc[mask, ['n_participants_adult', 'max_age_participants']] = np.nan"
   ]
  },
  {
   "cell_type": "code",
   "execution_count": 18,
   "metadata": {},
   "outputs": [
    {
     "name": "stdout",
     "output_type": "stream",
     "text": [
      "1430\n",
      "      max_age_participants  n_participants_teen  n_participants_child  \\\n",
      "76                     2.0                  0.0                   1.0   \n",
      "768                   17.0                  0.0                   0.0   \n",
      "1246                  16.0                  1.0                   0.0   \n",
      "1414                  16.0                  3.0                   0.0   \n",
      "1467                  11.0                  0.0                   1.0   \n",
      "\n",
      "      n_participants_adult  \n",
      "76                     1.0  \n",
      "768                    2.0  \n",
      "1246                   1.0  \n",
      "1414                   1.0  \n",
      "1467                   1.0  \n"
     ]
    }
   ],
   "source": [
    "# max_age_participants < 18 <=> [(n_participants_teen > 0 || n_participants_child > 0) && n_participants_adult = 0]\n",
    "mask1 = df['max_age_participants'] < 18\n",
    "mask2 = (df['n_participants_teen'] == 0) | (df['n_participants_child'] == 0)\n",
    "mask3 = df['n_participants_adult'] != 0\n",
    "final_mask = mask1 & mask2 & mask3\n",
    "inconsistent_entry = df.loc[final_mask, ['max_age_participants', 'n_participants_teen', 'n_participants_child', 'n_participants_adult']]\n",
    "print(len(inconsistent_entry.dropna()))\n",
    "print(inconsistent_entry.head())\n",
    "\n",
    "#Impossibile determinare quale dei due campi è sbagliato => poniamo a null tutti gli attributi interessati (molto probabilmente verrano eliminati nelle fasi successive)\n",
    "df.loc[final_mask, ['max_age_participants', 'n_participants_teen', 'n_participants_child', 'n_participants_adult']] = np.nan"
   ]
  },
  {
   "cell_type": "code",
   "execution_count": 19,
   "metadata": {},
   "outputs": [
    {
     "name": "stdout",
     "output_type": "stream",
     "text": [
      "0\n"
     ]
    }
   ],
   "source": [
    "# min_age_participants == avg_age_participants == max_age_participants <=> n_participants = 1\n",
    "mask1 = df['n_participants'] == 1\n",
    "mask2 = df['min_age_participants'] == df['avg_age_participants']\n",
    "mask3 = df['avg_age_participants'] == df['max_age_participants']\n",
    "mask4 = df['max_age_participants'] == df['min_age_participants']\n",
    "final_mask = mask1 & ~(mask2 & mask3 & mask4)\n",
    "inconsistent_entry = df.loc[final_mask, ['min_age_participants', 'avg_age_participants', 'max_age_participants', 'n_participants']]\n",
    "print(len(inconsistent_entry.dropna()))"
   ]
  },
  {
   "cell_type": "code",
   "execution_count": 20,
   "metadata": {},
   "outputs": [
    {
     "name": "stdout",
     "output_type": "stream",
     "text": [
      "1\n",
      "       n_participants_child  n_participants  min_age_participants\n",
      "79824                   1.0             1.0                  15.0\n",
      "1\n",
      "       n_participants_child  n_participants  max_age_participants\n",
      "79824                   1.0             1.0                  15.0\n",
      "1\n",
      "       n_participants_child  n_participants  avg_age_participants\n",
      "79824                   1.0             1.0                  15.0\n"
     ]
    }
   ],
   "source": [
    "# n_participants_child = n_participants => min_age_participants ≤ 11\n",
    "mask1 = df['n_participants_child'] == df['n_participants']\n",
    "mask2 = df['min_age_participants'] > 11\n",
    "final_mask = mask1 & mask2\n",
    "inconsistent_entry = df.loc[final_mask, ['n_participants_child', 'n_participants', 'min_age_participants']]\n",
    "print(len(inconsistent_entry.dropna()))\n",
    "print(inconsistent_entry)\n",
    "\n",
    "# n_participants_child = n_participants => max_age_participants ≤ 11\n",
    "mask1 = df['n_participants_child'] == df['n_participants']\n",
    "mask2 = df['max_age_participants'] > 11\n",
    "final_mask = mask1 & mask2\n",
    "inconsistent_entry = df.loc[final_mask, ['n_participants_child', 'n_participants', 'max_age_participants']]\n",
    "print(len(inconsistent_entry.dropna()))\n",
    "print(inconsistent_entry)\n",
    "\n",
    "# n_participants_child = n_participants => avg_age_participants ≤ 11\n",
    "mask1 = df['n_participants_child'] == df['n_participants']\n",
    "mask2 = df['avg_age_participants'] > 11\n",
    "final_mask = mask1 & mask2\n",
    "inconsistent_entry = df.loc[final_mask, ['n_participants_child', 'n_participants', 'avg_age_participants']]\n",
    "print(len(inconsistent_entry.dropna()))\n",
    "print(inconsistent_entry)\n",
    "\n",
    "#La riga è una sola ed è la stessa per tutte le condizioni => viene posta a null\n",
    "df.loc[final_mask, ['n_participants_child', 'n_participants', 'avg_age_participants', 'max_age_participants', 'min_age_participants']] = np.nan"
   ]
  },
  {
   "cell_type": "code",
   "execution_count": 21,
   "metadata": {},
   "outputs": [
    {
     "name": "stdout",
     "output_type": "stream",
     "text": [
      "5\n",
      "        n_participants_teen  n_participants  min_age_participants\n",
      "56336                   1.0             1.0                  25.0\n",
      "97307                   1.0             1.0                  28.0\n",
      "163371                  1.0             1.0                  37.0\n",
      "200965                  2.0             2.0                  18.0\n",
      "208644                  1.0             1.0                  49.0\n"
     ]
    }
   ],
   "source": [
    "# n_participants_teen = n_participants => 12 <= min_age_participants ≤ 17\n",
    "mask1 = df['n_participants_teen'] == df['n_participants']\n",
    "mask2 = (df['min_age_participants'] < 12) | (df['min_age_participants'] > 17)\n",
    "final_mask = mask1 & mask2\n",
    "inconsistent_entry = df.loc[final_mask, ['n_participants_teen', 'n_participants', 'min_age_participants']]\n",
    "print(len(inconsistent_entry))\n",
    "print(inconsistent_entry)\n",
    "\n",
    "#Dato che i valori sono pochi ed è impossibile determinare quale dei due campi è sbagliato => poniamo a null tutti gli attributi interessati (molto probabilmente verrano eliminati nelle fasi successive)\n",
    "df.loc[final_mask, ['n_participants_teen', 'n_participants', 'min_age_participants']] = np.nan"
   ]
  },
  {
   "cell_type": "code",
   "execution_count": 22,
   "metadata": {},
   "outputs": [
    {
     "name": "stdout",
     "output_type": "stream",
     "text": [
      "0\n"
     ]
    }
   ],
   "source": [
    "# n_participants_teen = n_participants => 12 <= max_age_participants ≤ 17\n",
    "mask1 = df['n_participants_teen'] == df['n_participants']\n",
    "mask2 = (df['max_age_participants'] < 12) | (df['max_age_participants'] > 17)\n",
    "final_mask = mask1 & mask2\n",
    "inconsistent_entry = df.loc[final_mask, ['n_participants_teen', 'n_participants', 'max_age_participants']]\n",
    "print(len(inconsistent_entry))"
   ]
  },
  {
   "cell_type": "code",
   "execution_count": 23,
   "metadata": {},
   "outputs": [
    {
     "name": "stdout",
     "output_type": "stream",
     "text": [
      "0\n"
     ]
    }
   ],
   "source": [
    "# n_participants_teen = n_participants = 1 => 12 <= avg_age_participants ≤ 17\n",
    "mask1 = df['n_participants_teen'] == df['n_participants']\n",
    "mask2 = df['n_participants'] == 1\n",
    "mask3 = (df['avg_age_participants'] < 12) | (df['avg_age_participants'] > 17)\n",
    "final_mask = mask1 & mask2 & mask3\n",
    "inconsistent_entry = df.loc[final_mask, ['n_participants_teen', 'n_participants', 'avg_age_participants']]\n",
    "print(len(inconsistent_entry))"
   ]
  },
  {
   "cell_type": "code",
   "execution_count": 24,
   "metadata": {},
   "outputs": [
    {
     "name": "stdout",
     "output_type": "stream",
     "text": [
      "21\n",
      "        n_participants_adult  n_participants  min_age_participants\n",
      "8362                     5.0             5.0                  17.0\n",
      "15708                    2.0             2.0                  17.0\n",
      "17695                    3.0             3.0                  13.0\n",
      "18873                    2.0             2.0                  15.0\n",
      "21194                    2.0             2.0                  13.0\n",
      "25359                    4.0             4.0                  17.0\n",
      "44492                    3.0             3.0                  17.0\n",
      "95972                    2.0             2.0                  15.0\n",
      "99834                    2.0             2.0                  15.0\n",
      "101831                   7.0             7.0                  17.0\n",
      "119532                   3.0             3.0                  17.0\n",
      "123235                   4.0             4.0                  15.0\n",
      "127012                   2.0             2.0                  17.0\n",
      "131496                   3.0             3.0                  15.0\n",
      "140700                   3.0             3.0                  17.0\n",
      "143360                   4.0             4.0                  16.0\n",
      "195820                   2.0             2.0                  17.0\n",
      "205957                   3.0             3.0                  17.0\n",
      "208319                   2.0             2.0                  17.0\n",
      "219513                   4.0             4.0                  16.0\n",
      "238131                   2.0             2.0                  14.0\n"
     ]
    }
   ],
   "source": [
    "# n_participants_adult = n_participants_adult => min_age_participants >= 18\n",
    "mask1 = df['n_participants_adult'] == df['n_participants']\n",
    "mask2 = df['min_age_participants'] < 18\n",
    "final_mask = mask1 & mask2\n",
    "inconsistent_entry = df.loc[final_mask, ['n_participants_adult', 'n_participants', 'min_age_participants']]\n",
    "print(len(inconsistent_entry))\n",
    "print(inconsistent_entry)\n",
    "\n",
    "# Dato che i valori sono pochi ed è impossibile determinare quale dei due campi è sbagliato => poniamo a null tutti gli attributi interessati (molto probabilmente verrano eliminati nelle fasi successive)\n",
    "df.loc[final_mask, ['n_participants_adult', 'n_participants', 'min_age_participants']] = np.nan"
   ]
  },
  {
   "cell_type": "code",
   "execution_count": 25,
   "metadata": {},
   "outputs": [
    {
     "name": "stdout",
     "output_type": "stream",
     "text": [
      "0\n"
     ]
    }
   ],
   "source": [
    "# n_participants_adult = n_participants_adult => max_age_participants >= 18\n",
    "mask1 = df['n_participants_adult'] == df['n_participants']\n",
    "mask2 = df['max_age_participants'] >= 18\n",
    "final_mask = mask1 & ~mask2\n",
    "inconsistent_entry = df.loc[final_mask, ['n_participants_adult', 'n_participants', 'max_age_participants']]\n",
    "print(len(inconsistent_entry.dropna()))"
   ]
  },
  {
   "cell_type": "code",
   "execution_count": 26,
   "metadata": {},
   "outputs": [
    {
     "name": "stdout",
     "output_type": "stream",
     "text": [
      "0\n"
     ]
    }
   ],
   "source": [
    "# n_participants_adult = n_participants_adult = 1 => avg_age_participants >= 18\n",
    "mask1 = df['n_participants_adult'] == df['n_participants']\n",
    "mask2 = df['n_participants'] == 1\n",
    "mask3 = df['avg_age_participants'] >= 18\n",
    "final_mask = mask1 & mask2 & ~mask3\n",
    "inconsistent_entry = df.loc[final_mask, ['n_participants_adult', 'n_participants', 'avg_age_participants']]\n",
    "print(len(inconsistent_entry.dropna()))"
   ]
  },
  {
   "cell_type": "code",
   "execution_count": 27,
   "metadata": {},
   "outputs": [
    {
     "name": "stdout",
     "output_type": "stream",
     "text": [
      "0\n"
     ]
    }
   ],
   "source": [
    "# df.n_participants == df.n_participants_child ⇒ participant_age1 ≤ 12\n",
    "mask1 = df['n_participants'] == df['n_participants_child']\n",
    "mask2 = df['participant_age1'] > 12\n",
    "final_mask = mask1 & mask2\n",
    "inconsistent_entry = df.loc[final_mask, ['n_participants', 'n_participants_child', 'participant_age1']]\n",
    "print(len(inconsistent_entry.dropna()))"
   ]
  },
  {
   "cell_type": "code",
   "execution_count": 28,
   "metadata": {},
   "outputs": [
    {
     "name": "stdout",
     "output_type": "stream",
     "text": [
      "1\n",
      "        n_participants  n_participants_teen  participant_age1\n",
      "213919             2.0                  2.0                23\n"
     ]
    }
   ],
   "source": [
    "# df.n_participants == df.n_participants_teen ⇒ 12 < participant_age1 ≤ 17\n",
    "mask1 = df['n_participants'] == df['n_participants_teen']\n",
    "mask2 = (df['participant_age1'] < 12) | (df['participant_age1'] > 17)\n",
    "final_mask = mask1 & mask2\n",
    "inconsistent_entry = df.loc[final_mask, ['n_participants', 'n_participants_teen', 'participant_age1']]\n",
    "print(len(inconsistent_entry))\n",
    "print(inconsistent_entry)\n",
    "\n",
    "#Dato che i valori sono pochi ed è impossibile determinare quale dei due campi è sbagliato => poniamo a null tutti gli attributi interessati (molto probabilmente verrano eliminati nelle fasi successive)\n",
    "df.loc[final_mask, ['n_participants', 'n_participants_teen', 'participant_age1']] = np.nan"
   ]
  },
  {
   "cell_type": "code",
   "execution_count": 29,
   "metadata": {},
   "outputs": [
    {
     "name": "stdout",
     "output_type": "stream",
     "text": [
      "1\n"
     ]
    }
   ],
   "source": [
    "# df.n_participants == df.n_participants_adult ⇒ participant_age1 >= 18\n",
    "mask1 = df['n_participants'] == df['n_participants_adult']\n",
    "mask2 = df['participant_age1'] < 18\n",
    "final_mask = mask1 & mask2\n",
    "inconsistent_entry = df.loc[final_mask, ['n_participants', 'n_participants_adult', 'participant_age1']]\n",
    "print(len(inconsistent_entry))\n",
    "\n",
    "df.loc[final_mask, ['n_participants', 'n_participants_adult', 'participant_age1']] = np.nan"
   ]
  },
  {
   "cell_type": "code",
   "execution_count": 30,
   "metadata": {},
   "outputs": [
    {
     "name": "stdout",
     "output_type": "stream",
     "text": [
      "19384\n",
      "    n_participants_teen  n_participants_adult  n_participants_child  \\\n",
      "3                   0.0                   1.0                   0.0   \n",
      "4                   0.0                   1.0                   0.0   \n",
      "25                  0.0                   1.0                   0.0   \n",
      "35                  0.0                   1.0                   0.0   \n",
      "37                  0.0                   1.0                   0.0   \n",
      "\n",
      "    n_participants  \n",
      "3              2.0  \n",
      "4              2.0  \n",
      "25             2.0  \n",
      "35             2.0  \n",
      "37             4.0  \n"
     ]
    }
   ],
   "source": [
    "# n_participants_teen + n_participants_adult + n_participants_child = df.n_participants\n",
    "mask0 = df['n_participants_teen'].notnull() & df['n_participants_adult'].notnull() & df['n_participants_child'].notnull() & df['n_participants'].notnull()\n",
    "mask1 = df['n_participants_teen'] + df['n_participants_adult'] + df['n_participants_child'] != df['n_participants']\n",
    "final_mask = mask0 & mask1\n",
    "inconsistent_entry = df.loc[final_mask, ['n_participants_teen', 'n_participants_adult', 'n_participants_child', 'n_participants']]\n",
    "print(len(inconsistent_entry))\n",
    "print(inconsistent_entry.head())\n",
    "\n",
    "df.loc[final_mask, ['n_participants_teen', 'n_participants_adult', 'n_participants_child', 'n_participants']] = np.nan"
   ]
  },
  {
   "cell_type": "code",
   "execution_count": 31,
   "metadata": {},
   "outputs": [
    {
     "name": "stdout",
     "output_type": "stream",
     "text": [
      "0\n"
     ]
    }
   ],
   "source": [
    "# participant_age1 < 12 & n_participants1 = 1 ⇒ participant_age_group1==child\n",
    "mask1 = df['participant_age1'] < 12\n",
    "mask2 = df['n_participants'] == 1\n",
    "mask3 = df['participant_age_group1'] != 'Child 0-11'\n",
    "final_mask = mask1 & mask2 & mask3\n",
    "inconsistent_entry = df.loc[final_mask, ['participant_age1', 'participant_age_group1']]\n",
    "print(len(inconsistent_entry))"
   ]
  },
  {
   "cell_type": "code",
   "execution_count": 32,
   "metadata": {},
   "outputs": [
    {
     "name": "stdout",
     "output_type": "stream",
     "text": [
      "34\n",
      "       participant_age1 participant_age_group1\n",
      "8003                 17              Adult 18+\n",
      "11627                17              Adult 18+\n",
      "28028                17              Adult 18+\n",
      "37336                13              Adult 18+\n",
      "40581                16              Adult 18+\n"
     ]
    }
   ],
   "source": [
    "#  12 ≤ participant_age1 < 18  & n_participants1 = 1 ⇒ participant_age_group1==teen\n",
    "mask1 = (df['participant_age1'] >= 12) & (df['participant_age1'] < 18)\n",
    "mask2 = df['n_participants'] == 1\n",
    "mask3 = df['participant_age_group1'] != 'Teen 12-17'\n",
    "final_mask = mask1 & mask2 & mask3\n",
    "inconsistent_entry = df.loc[final_mask, ['participant_age1', 'participant_age_group1']]\n",
    "print(len(inconsistent_entry))\n",
    "print(inconsistent_entry.head())\n",
    "\n",
    "#Dato che i valori sono pochi ed è impossibile determinare quale dei due campi è sbagliato => poniamo a null tutti gli attributi interessati (molto probabilmente verrano eliminati nelle fasi successive)\n",
    "df.loc[final_mask, ['participant_age1', 'participant_age_group1']] = np.nan"
   ]
  },
  {
   "cell_type": "code",
   "execution_count": 33,
   "metadata": {},
   "outputs": [
    {
     "name": "stdout",
     "output_type": "stream",
     "text": [
      "0\n"
     ]
    }
   ],
   "source": [
    "# participant_age1 > 17 & n_participants1 = 1 ⇒ participant_age_group1==audult\n",
    "mask1 = df['participant_age1'] > 17\n",
    "mask2 = df['n_participants'] == 1\n",
    "mask3 = df['participant_age_group1'] != 'Adult 18+'\n",
    "final_mask = mask1 & mask2 & mask3\n",
    "inconsistent_entry = df.loc[final_mask, ['participant_age1', 'participant_age_group1']]\n",
    "print(len(inconsistent_entry))"
   ]
  },
  {
   "cell_type": "code",
   "execution_count": 34,
   "metadata": {},
   "outputs": [
    {
     "name": "stdout",
     "output_type": "stream",
     "text": [
      "0\n"
     ]
    }
   ],
   "source": [
    "# participant_age_group1 == Child <=> n_participants_child > 0\n",
    "mask1 = df['participant_age_group1'] == 'Child 0-11'\n",
    "mask2 = df['n_participants_child'] == 0\n",
    "final_mask = mask1 & mask2\n",
    "inconsistent_entry = df.loc[final_mask, ['participant_age_group1', 'n_participants_child']]\n",
    "print(len(inconsistent_entry))"
   ]
  },
  {
   "cell_type": "code",
   "execution_count": 35,
   "metadata": {},
   "outputs": [
    {
     "name": "stdout",
     "output_type": "stream",
     "text": [
      "0\n"
     ]
    }
   ],
   "source": [
    "# participant_age_group1 == Teen<=> n_participants_teen > 0\n",
    "mask1 = df['participant_age_group1'] == 'Teen 12-17'\n",
    "mask2 = df['n_participants_teen'] == 0\n",
    "final_mask = mask1 & mask2\n",
    "inconsistent_entry = df.loc[final_mask, ['participant_age_group1', 'n_participants_teen']]\n",
    "print(len(inconsistent_entry))"
   ]
  },
  {
   "cell_type": "code",
   "execution_count": 36,
   "metadata": {},
   "outputs": [
    {
     "name": "stdout",
     "output_type": "stream",
     "text": [
      "0\n"
     ]
    }
   ],
   "source": [
    "# participant_age_group1 == Adult<=> n_participants_adult > 0\n",
    "mask1 = df['participant_age_group1'] == 'Adult 18+'\n",
    "mask2 = df['n_participants_adult'] == 0\n",
    "final_mask = mask1 & mask2\n",
    "inconsistent_entry = df.loc[final_mask, ['participant_age_group1', 'n_participants_adult']]\n",
    "print(len(inconsistent_entry))"
   ]
  },
  {
   "cell_type": "code",
   "execution_count": 37,
   "metadata": {},
   "outputs": [
    {
     "name": "stdout",
     "output_type": "stream",
     "text": [
      "0\n"
     ]
    }
   ],
   "source": [
    "# participant_gender1 == Male => n_males > 0\n",
    "mask1 = df['participant_gender1'] == 'Male'\n",
    "mask2 = df['n_males'] <= 0\n",
    "final_mask = mask1 & mask2\n",
    "inconsistent_entry = df.loc[final_mask, ['participant_gender1', 'n_males']]\n",
    "print(len(inconsistent_entry))"
   ]
  },
  {
   "cell_type": "code",
   "execution_count": 38,
   "metadata": {},
   "outputs": [
    {
     "name": "stdout",
     "output_type": "stream",
     "text": [
      "0\n"
     ]
    }
   ],
   "source": [
    "# participant_gender1 == Female => n_females > 0\n",
    "mask1 = df['participant_gender1'] == 'Female'\n",
    "mask2 = df['n_females'] <= 0\n",
    "final_mask = mask1 & mask2\n",
    "inconsistent_entry = df.loc[final_mask, ['participant_gender1', 'n_females']]\n",
    "print(len(inconsistent_entry))"
   ]
  },
  {
   "cell_type": "code",
   "execution_count": 39,
   "metadata": {},
   "outputs": [
    {
     "name": "stdout",
     "output_type": "stream",
     "text": [
      "7171\n",
      "    n_males  n_females  n_participants\n",
      "20      1.0        0.0             2.0\n",
      "28      1.0        0.0             2.0\n",
      "53      1.0        0.0             4.0\n",
      "58      2.0        0.0             3.0\n",
      "99      1.0        0.0             3.0\n"
     ]
    }
   ],
   "source": [
    "# n_males + n_females = n_participants\n",
    "mask0 = df['n_participants'].notnull() & df['n_males'].notnull() & df['n_females'].notnull()\n",
    "mask1 = df['n_males'] + df['n_females'] != df['n_participants']\n",
    "final_mask = mask0 & mask1\n",
    "inconsistent_entry = df.loc[final_mask, ['n_males', 'n_females', 'n_participants']]\n",
    "print(len(inconsistent_entry))\n",
    "print(inconsistent_entry.head())\n",
    "\n",
    "#TODO Per ora ho deciso di porre a NULL i valori inconsistenti\n",
    "df.loc[final_mask, ['n_males', 'n_females', 'n_participants']] = np.nan"
   ]
  },
  {
   "cell_type": "code",
   "execution_count": 40,
   "metadata": {},
   "outputs": [
    {
     "name": "stdout",
     "output_type": "stream",
     "text": [
      "0\n"
     ]
    }
   ],
   "source": [
    "# n_males == n_participants ⇒ participant_gender1 == \"Male”\n",
    "mask1 = df['n_males'] == df['n_participants']\n",
    "mask2 = df['participant_gender1'] != \"Male\"\n",
    "final_mask = mask1 & mask2\n",
    "inconsistent_entry = df.loc[final_mask, ['n_males', 'n_participants', 'participant_gender1']]\n",
    "print(len(inconsistent_entry))"
   ]
  },
  {
   "cell_type": "code",
   "execution_count": 41,
   "metadata": {},
   "outputs": [
    {
     "name": "stdout",
     "output_type": "stream",
     "text": [
      "0\n"
     ]
    }
   ],
   "source": [
    "# n_females == n_participants ⇒ participant_gender1 == \"Female”\n",
    "mask1 = df['n_females'] == df['n_participants']\n",
    "mask2 = df['participant_gender1'] != \"Female\"\n",
    "final_mask = mask1 & mask2\n",
    "inconsistent_entry = df.loc[final_mask, ['n_females', 'n_participants', 'participant_gender1']]\n",
    "print(len(inconsistent_entry))"
   ]
  },
  {
   "cell_type": "code",
   "execution_count": 42,
   "metadata": {},
   "outputs": [
    {
     "name": "stdout",
     "output_type": "stream",
     "text": [
      "0\n"
     ]
    }
   ],
   "source": [
    "# n_killed + n_injured <= n_participants\n",
    "df2 = df[['n_killed', 'n_injured', 'n_participants']].dropna()\n",
    "mask1 = df2['n_killed'] + df2['n_injured'] > df2['n_participants']\n",
    "inconsistent_entry = df2.loc[mask1, ['n_killed', 'n_injured', 'n_participants']]\n",
    "print(len(inconsistent_entry))"
   ]
  },
  {
   "cell_type": "code",
   "execution_count": 43,
   "metadata": {},
   "outputs": [
    {
     "name": "stdout",
     "output_type": "stream",
     "text": [
      "0\n"
     ]
    }
   ],
   "source": [
    "# n_arrested <= n_participants\n",
    "mask1 = df['n_arrested'] > df['n_participants']\n",
    "inconsistent_entry = df.loc[mask1, ['n_arrested', 'n_participants']]\n",
    "print(len(inconsistent_entry))"
   ]
  },
  {
   "cell_type": "code",
   "execution_count": 44,
   "metadata": {},
   "outputs": [
    {
     "name": "stdout",
     "output_type": "stream",
     "text": [
      "0\n"
     ]
    }
   ],
   "source": [
    "# n_unharmed <= n_participants\n",
    "mask1 = df['n_unharmed'] > df['n_participants']\n",
    "inconsistent_entry = df.loc[mask1, ['n_unharmed', 'n_participants']]\n",
    "print(len(inconsistent_entry))"
   ]
  },
  {
   "cell_type": "code",
   "execution_count": 45,
   "metadata": {},
   "outputs": [
    {
     "name": "stdout",
     "output_type": "stream",
     "text": [
      "0\n"
     ]
    }
   ],
   "source": [
    "# n_killed > 0 => n_participants > 0\n",
    "mask1 = df['n_killed'] > 0\n",
    "mask2 = df['n_participants'] == 0\n",
    "final_mask = mask1 & mask2\n",
    "inconsistent_entry = df.loc[final_mask, ['n_killed', 'n_participants']]\n",
    "print(len(inconsistent_entry))"
   ]
  },
  {
   "cell_type": "code",
   "execution_count": 46,
   "metadata": {},
   "outputs": [
    {
     "name": "stdout",
     "output_type": "stream",
     "text": [
      "0\n"
     ]
    }
   ],
   "source": [
    "# n_arrested > 0 => n_participants > 0\n",
    "mask1 = df['n_arrested'] > 0\n",
    "mask2 = df['n_participants'] == 0\n",
    "final_mask = mask1 & mask2\n",
    "inconsistent_entry = df.loc[final_mask, ['n_arrested', 'n_participants']]\n",
    "print(len(inconsistent_entry))"
   ]
  },
  {
   "cell_type": "code",
   "execution_count": 47,
   "metadata": {},
   "outputs": [
    {
     "name": "stdout",
     "output_type": "stream",
     "text": [
      "0\n"
     ]
    }
   ],
   "source": [
    "# n_injured > 0 => n_participants > 0\n",
    "mask1 = df['n_injured'] > 0\n",
    "mask2 = df['n_participants'] == 0\n",
    "final_mask = mask1 & mask2\n",
    "inconsistent_entry = df.loc[final_mask, ['n_injured', 'n_participants']]\n",
    "print(len(inconsistent_entry))"
   ]
  },
  {
   "cell_type": "code",
   "execution_count": 48,
   "metadata": {},
   "outputs": [
    {
     "name": "stdout",
     "output_type": "stream",
     "text": [
      "0\n"
     ]
    }
   ],
   "source": [
    "# n_unharmed > 0 => n_participants > 0\n",
    "mask1 = df['n_unharmed'] > 0\n",
    "mask2 = df['n_participants'] == 0\n",
    "final_mask = mask1 & mask2\n",
    "inconsistent_entry = df.loc[final_mask, ['n_unharmed', 'n_participants']]\n",
    "print(len(inconsistent_entry))"
   ]
  },
  {
   "cell_type": "code",
   "execution_count": 49,
   "metadata": {},
   "outputs": [
    {
     "name": "stdout",
     "output_type": "stream",
     "text": [
      "Number of inconsistent entries for n_killed: 0\n",
      "Number of inconsistent entries for n_injured: 0\n",
      "Number of inconsistent entries for n_arrested: 0\n",
      "Number of inconsistent entries for n_unharmed: 0\n",
      "Number of inconsistent entries for n_males: 0\n",
      "Number of inconsistent entries for n_females: 0\n",
      "Number of inconsistent entries for n_participants_child: 0\n",
      "Number of inconsistent entries for n_participants_teen: 0\n",
      "Number of inconsistent entries for n_participants_adult: 0\n"
     ]
    }
   ],
   "source": [
    "# Crea una lista con i nomi delle colonne da controllare\n",
    "cols = ['n_killed', 'n_injured', 'n_arrested', 'n_unharmed', 'n_males', 'n_females', 'n_participants_child', 'n_participants_teen', 'n_participants_adult']\n",
    "\n",
    "# Per ciascuna colonna nella lista\n",
    "for col in cols:\n",
    "    mask = df['n_participants'] < df[col]\n",
    "    inconsistent_entry = df.loc[mask, ['n_participants', col]]\n",
    "    print(f\"Number of inconsistent entries for {col}: {len(inconsistent_entry)}\")\n"
   ]
  },
  {
   "cell_type": "code",
   "execution_count": 50,
   "metadata": {},
   "outputs": [
    {
     "name": "stdout",
     "output_type": "stream",
     "text": [
      "0\n"
     ]
    }
   ],
   "source": [
    "# n_participants = 0 ⇒ n_killed = n_killed, n_injured, n_arrested, n_unharmed, n_males, n_females, n_participants_child, n_participants_teen,  n_participants_adult = 0\n",
    "mask1 = df['n_participants'] == 0\n",
    "mask2 = df['n_killed'] != 0\n",
    "final_mask = mask1 & mask2\n",
    "inconsistent_entry = df.loc[final_mask, ['n_participants', 'n_killed']]\n",
    "print(len(inconsistent_entry))"
   ]
  },
  {
   "cell_type": "code",
   "execution_count": 51,
   "metadata": {},
   "outputs": [
    {
     "name": "stdout",
     "output_type": "stream",
     "text": [
      "0\n"
     ]
    }
   ],
   "source": [
    "mask1 = df['n_participants'] == 0\n",
    "mask2 = df['n_injured'] != 0\n",
    "final_mask = mask1 & mask2\n",
    "inconsistent_entry = df.loc[final_mask, ['n_participants', 'n_injured']]\n",
    "print(len(inconsistent_entry))"
   ]
  },
  {
   "cell_type": "code",
   "execution_count": 52,
   "metadata": {},
   "outputs": [
    {
     "name": "stdout",
     "output_type": "stream",
     "text": [
      "0\n"
     ]
    }
   ],
   "source": [
    "# n_participants = 0 ⇒ n_killed = n_killed, n_injured, n_arrested, n_unharmed, n_males, n_females, n_participants_child, n_participants_teen,  n_participants_adult = 0\n",
    "\n",
    "mask1 = df['n_participants'] == 0\n",
    "mask2 = df['n_arrested'] != 0\n",
    "final_mask = mask1 & mask2\n",
    "inconsistent_entry = df.loc[final_mask, ['n_participants', 'n_arrested']]\n",
    "print(len(inconsistent_entry.dropna()))"
   ]
  },
  {
   "cell_type": "code",
   "execution_count": 53,
   "metadata": {},
   "outputs": [
    {
     "name": "stdout",
     "output_type": "stream",
     "text": [
      "0\n"
     ]
    }
   ],
   "source": [
    "# n_participants = 0 ⇒ n_killed, n_injured, n_arrested, n_unharmed, n_males, n_females, n_participants_child, n_participants_teen,  n_participants_adult = 0\n",
    "\n",
    "mask1 = df['n_participants'] == 0\n",
    "mask2 = df['n_unharmed'] != 0\n",
    "final_mask = mask1 & mask2\n",
    "inconsistent_entry = df.loc[final_mask, ['n_participants', 'n_unharmed']]\n",
    "print(len(inconsistent_entry.dropna()))"
   ]
  },
  {
   "cell_type": "code",
   "execution_count": 54,
   "metadata": {},
   "outputs": [
    {
     "name": "stdout",
     "output_type": "stream",
     "text": [
      "0\n"
     ]
    }
   ],
   "source": [
    "# n_participants = 0 ⇒ n_killed = n_killed, n_injured, n_arrested, n_unharmed, n_males, n_females, n_participants_child, n_participants_teen,  n_participants_adult = 0\n",
    "\n",
    "mask1 = df['n_participants'] == 0\n",
    "mask2 = df['n_males'] != 0\n",
    "final_mask = mask1 & mask2\n",
    "inconsistent_entry = df.loc[final_mask, ['n_participants', 'n_males']]\n",
    "print(len(inconsistent_entry.dropna()))"
   ]
  },
  {
   "cell_type": "code",
   "execution_count": 55,
   "metadata": {},
   "outputs": [
    {
     "name": "stdout",
     "output_type": "stream",
     "text": [
      "0\n"
     ]
    }
   ],
   "source": [
    "# n_participants = 0 ⇒ n_killed = n_killed, n_injured, n_arrested, n_unharmed, n_males, n_females, n_participants_child, n_participants_teen,  n_participants_adult = 0\n",
    "\n",
    "mask1 = df['n_participants'] == 0\n",
    "mask2 = df['n_females'] != 0\n",
    "final_mask = mask1 & mask2\n",
    "inconsistent_entry = df.loc[final_mask, ['n_participants', 'n_females']]\n",
    "print(len(inconsistent_entry.dropna()))"
   ]
  },
  {
   "cell_type": "code",
   "execution_count": 56,
   "metadata": {},
   "outputs": [
    {
     "name": "stdout",
     "output_type": "stream",
     "text": [
      "0\n"
     ]
    }
   ],
   "source": [
    "# n_participants = 0 ⇒ n_killed = n_killed, n_injured, n_arrested, n_unharmed, n_males, n_females, n_participants_child, n_participants_teen,  n_participants_adult = 0\n",
    "\n",
    "mask1 = df['n_participants'] == 0\n",
    "mask2 = df['n_participants_child'] != 0\n",
    "final_mask = mask1 & mask2\n",
    "inconsistent_entry = df.loc[final_mask, ['n_participants', 'n_participants_child']]\n",
    "print(len(inconsistent_entry.dropna()))"
   ]
  },
  {
   "cell_type": "code",
   "execution_count": 57,
   "metadata": {},
   "outputs": [
    {
     "name": "stdout",
     "output_type": "stream",
     "text": [
      "0\n"
     ]
    }
   ],
   "source": [
    "# n_participants = 0 ⇒ n_killed = n_killed, n_injured, n_arrested, n_unharmed, n_males, n_females, n_participants_child, n_participants_teen,  n_participants_adult = 0\n",
    "\n",
    "mask1 = df['n_participants'] == 0\n",
    "mask2 = df['n_participants_teen'] != 0\n",
    "final_mask = mask1 & mask2\n",
    "inconsistent_entry = df.loc[final_mask, ['n_participants', 'n_participants_teen']]\n",
    "print(len(inconsistent_entry.dropna()))"
   ]
  },
  {
   "cell_type": "code",
   "execution_count": 58,
   "metadata": {},
   "outputs": [
    {
     "name": "stdout",
     "output_type": "stream",
     "text": [
      "0\n"
     ]
    }
   ],
   "source": [
    "# n_participants = 0 ⇒ n_killed = n_killed, n_injured, n_arrested, n_unharmed, n_males, n_females, n_participants_child, n_participants_teen,  n_participants_adult = 0\n",
    "\n",
    "mask1 = df['n_participants'] == 0\n",
    "mask2 = df['n_participants_adult'] != 0\n",
    "final_mask = mask1 & mask2\n",
    "inconsistent_entry = df.loc[final_mask, ['n_participants', 'n_participants_adult']]\n",
    "print(len(inconsistent_entry.dropna()))"
   ]
  },
  {
   "cell_type": "markdown",
   "metadata": {},
   "source": [
    "### Distribuzione valori null non il pre-processing"
   ]
  },
  {
   "cell_type": "code",
   "execution_count": 59,
   "metadata": {},
   "outputs": [
    {
     "data": {
      "image/png": "[encoded data removed]",
      "text/plain": [
       "<Figure size 1440x720 with 1 Axes>"
      ]
     },
     "metadata": {
      "needs_background": "light"
     },
     "output_type": "display_data"
    }
   ],
   "source": [
    "plt.figure(figsize=(20,10))\n",
    "plt.bar(df.columns, df.isnull().sum(), label='Missing values after processing')\n",
    "plt.bar(df.columns, nullCount_beforeProcessing, label='Missing values before processing')\n",
    "plt.title('Missing values per column')\n",
    "plt.legend()\n",
    "plt.xticks(rotation=90)\n",
    "plt.show()"
   ]
  }
 ],
 "metadata": {
  "kernelspec": {
   "display_name": "Python 3",
   "language": "python",
   "name": "python3"
  },
  "language_info": {
   "codemirror_mode": {
    "name": "ipython",
    "version": 3
   },
   "file_extension": ".py",
   "mimetype": "text/x-python",
   "name": "python",
   "nbconvert_exporter": "python",
   "pygments_lexer": "ipython3",
   "version": "3.9.2"
  }
 },
 "nbformat": 4,
 "nbformat_minor": 2
}
