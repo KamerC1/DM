{
 "cells": [
  {
   "cell_type": "code",
   "execution_count": null,
   "metadata": {},
   "outputs": [],
   "source": [
    "import pandas as pd\n",
    "import seaborn as sn\n",
    "import matplotlib.pyplot as plt\n",
    "from data_type import get_converted_incidents_df"
   ]
  },
  {
   "cell_type": "code",
   "execution_count": null,
   "metadata": {},
   "outputs": [],
   "source": [
    "df = get_converted_incidents_df()\n",
    "\n",
    "numerical_attributes = [\"latitude\", \"longitude\", \"congressional_district\", \"state_house_district\", \"state_senate_district\", \n",
    "                        \"participant_age1\", \"participant_age_group1\", \"min_age_participants\", \"avg_age_participants\", \"max_age_participants\", \n",
    "                        \"n_participants_child\", \"n_participants_teen\", \"n_participants_adult\", \"n_males\", \"n_females\", \"n_killed\", \"n_injured\", \"n_arrested\", \"n_unharmed\", \"n_participants\"]\n",
    "\n",
    "corr_matrix = df[numerical_attributes].corr()\n",
    "plt.figure(figsize=(25,25))\n",
    "sn.heatmap(corr_matrix, annot=True)\n",
    "plt.show()"
   ]
  }
 ],
 "metadata": {
  "kernelspec": {
   "display_name": "Python 3",
   "language": "python",
   "name": "python3"
  },
  "language_info": {
   "codemirror_mode": {
    "name": "ipython",
    "version": 3
   },
   "file_extension": ".py",
   "mimetype": "text/x-python",
   "name": "python",
   "nbconvert_exporter": "python",
   "pygments_lexer": "ipython3",
   "version": "3.6.9"
  }
 },
 "nbformat": 4,
 "nbformat_minor": 2
}
