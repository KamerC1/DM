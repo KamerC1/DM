{
 "cells": [
  {
   "cell_type": "code",
   "execution_count": 1,
   "id": "90652718-5eab-4dbe-a26c-b526873e06fc",
   "metadata": {
    "tags": []
   },
   "outputs": [],
   "source": [
    "import pandas as pd"
   ]
  },
  {
   "cell_type": "code",
   "execution_count": 2,
   "id": "a8e0ac9b-3848-4f38-a7fc-07e08c1ebb9d",
   "metadata": {
    "tags": []
   },
   "outputs": [],
   "source": [
    "df = pd.read_csv(\"../../data/year_state_district_house.csv\", low_memory=False)"
   ]
  },
  {
   "cell_type": "code",
   "execution_count": 3,
   "id": "ab997d52-ec7b-4d79-863f-47339532b08a",
   "metadata": {
    "tags": []
   },
   "outputs": [
    {
     "name": "stdout",
     "output_type": "stream",
     "text": [
      "<class 'pandas.core.frame.DataFrame'>\n",
      "RangeIndex: 10441 entries, 0 to 10440\n",
      "Data columns (total 6 columns):\n",
      " #   Column                  Non-Null Count  Dtype \n",
      "---  ------                  --------------  ----- \n",
      " 0   year                    10441 non-null  int64 \n",
      " 1   state                   10441 non-null  object\n",
      " 2   congressional_district  10441 non-null  int64 \n",
      " 3   party                   10441 non-null  object\n",
      " 4   candidatevotes          10441 non-null  int64 \n",
      " 5   totalvotes              10441 non-null  int64 \n",
      "dtypes: int64(4), object(2)\n",
      "memory usage: 489.5+ KB\n"
     ]
    }
   ],
   "source": [
    "df.info()"
   ]
  },
  {
   "cell_type": "code",
   "execution_count": 4,
   "id": "c503a16b-7f83-4487-9319-de91c99578bc",
   "metadata": {
    "tags": []
   },
   "outputs": [
    {
     "data": {
      "text/plain": [
       "array(['ALABAMA', 'ALASKA', 'ARIZONA', 'ARKANSAS', 'CALIFORNIA',\n",
       "       'COLORADO', 'CONNECTICUT', 'DELAWARE', 'FLORIDA', 'GEORGIA',\n",
       "       'HAWAII', 'IDAHO', 'ILLINOIS', 'INDIANA', 'IOWA', 'KANSAS',\n",
       "       'KENTUCKY', 'LOUISIANA', 'MAINE', 'MARYLAND', 'MASSACHUSETTS',\n",
       "       'MICHIGAN', 'MINNESOTA', 'MISSISSIPPI', 'MISSOURI', 'MONTANA',\n",
       "       'NEBRASKA', 'NEVADA', 'NEW HAMPSHIRE', 'NEW JERSEY', 'NEW MEXICO',\n",
       "       'NEW YORK', 'NORTH CAROLINA', 'NORTH DAKOTA', 'OHIO', 'OKLAHOMA',\n",
       "       'OREGON', 'PENNSYLVANIA', 'RHODE ISLAND', 'SOUTH CAROLINA',\n",
       "       'SOUTH DAKOTA', 'TENNESSEE', 'TEXAS', 'UTAH', 'VERMONT',\n",
       "       'VIRGINIA', 'WASHINGTON', 'WEST VIRGINIA', 'WISCONSIN', 'WYOMING',\n",
       "       'DISTRICT OF COLUMBIA'], dtype=object)"
      ]
     },
     "execution_count": 4,
     "metadata": {},
     "output_type": "execute_result"
    }
   ],
   "source": [
    "df['state'].unique()"
   ]
  },
  {
   "cell_type": "code",
   "execution_count": 5,
   "id": "5b1bca38-8d3d-4cd5-8fc3-28424097de40",
   "metadata": {
    "tags": []
   },
   "outputs": [
    {
     "data": {
      "text/plain": [
       "51"
      ]
     },
     "execution_count": 5,
     "metadata": {},
     "output_type": "execute_result"
    }
   ],
   "source": [
    "len(df['state'].unique())   "
   ]
  },
  {
   "cell_type": "code",
   "execution_count": 6,
   "id": "d70a2951-83c4-43df-8509-c729ccb1290f",
   "metadata": {
    "tags": []
   },
   "outputs": [
    {
     "data": {
      "text/plain": [
       "0"
      ]
     },
     "execution_count": 6,
     "metadata": {},
     "output_type": "execute_result"
    }
   ],
   "source": [
    "df['state'].isnull().sum()"
   ]
  },
  {
   "cell_type": "code",
   "execution_count": 7,
   "id": "20c76021-9cb4-468d-b12c-d79288a0b2b9",
   "metadata": {
    "tags": []
   },
   "outputs": [
    {
     "data": {
      "text/plain": [
       "array([1976, 1978, 1980, 1982, 1984, 1986, 1988, 1990, 1992, 1994, 1996,\n",
       "       1998, 2000, 2002, 2004, 2006, 2008, 2010, 2012, 2014, 2016, 2018,\n",
       "       2020, 2022], dtype=int64)"
      ]
     },
     "execution_count": 7,
     "metadata": {},
     "output_type": "execute_result"
    }
   ],
   "source": [
    "df['year'].unique() "
   ]
  },
  {
   "cell_type": "code",
   "execution_count": 8,
   "id": "138b2ce3-af53-4aba-b64d-e6eb404b86c9",
   "metadata": {
    "tags": []
   },
   "outputs": [
    {
     "data": {
      "text/plain": [
       "24"
      ]
     },
     "execution_count": 8,
     "metadata": {},
     "output_type": "execute_result"
    }
   ],
   "source": [
    "len(df['year'].unique()) "
   ]
  },
  {
   "cell_type": "code",
   "execution_count": 9,
   "id": "a52dd0d3-aa5c-4ea9-84f7-b3bb676a3d6e",
   "metadata": {
    "tags": []
   },
   "outputs": [
    {
     "data": {
      "text/plain": [
       "0"
      ]
     },
     "execution_count": 9,
     "metadata": {},
     "output_type": "execute_result"
    }
   ],
   "source": [
    "df['year'].isnull().sum()"
   ]
  },
  {
   "cell_type": "code",
   "execution_count": 10,
   "id": "3956099b-c984-4aa8-837b-c45957ac3469",
   "metadata": {
    "tags": []
   },
   "outputs": [
    {
     "data": {
      "text/html": [
       "<div>\n",
       "<style scoped>\n",
       "    .dataframe tbody tr th:only-of-type {\n",
       "        vertical-align: middle;\n",
       "    }\n",
       "\n",
       "    .dataframe tbody tr th {\n",
       "        vertical-align: top;\n",
       "    }\n",
       "\n",
       "    .dataframe thead th {\n",
       "        text-align: right;\n",
       "    }\n",
       "</style>\n",
       "<table border=\"1\" class=\"dataframe\">\n",
       "  <thead>\n",
       "    <tr style=\"text-align: right;\">\n",
       "      <th></th>\n",
       "      <th>year</th>\n",
       "      <th>state</th>\n",
       "      <th>congressional_district</th>\n",
       "      <th>party</th>\n",
       "      <th>candidatevotes</th>\n",
       "      <th>totalvotes</th>\n",
       "    </tr>\n",
       "  </thead>\n",
       "  <tbody>\n",
       "    <tr>\n",
       "      <th>9657</th>\n",
       "      <td>2020</td>\n",
       "      <td>DISTRICT OF COLUMBIA</td>\n",
       "      <td>0</td>\n",
       "      <td>DEMOCRAT</td>\n",
       "      <td>281831</td>\n",
       "      <td>344177</td>\n",
       "    </tr>\n",
       "  </tbody>\n",
       "</table>\n",
       "</div>"
      ],
      "text/plain": [
       "      year                 state  congressional_district     party  \\\n",
       "9657  2020  DISTRICT OF COLUMBIA                       0  DEMOCRAT   \n",
       "\n",
       "      candidatevotes  totalvotes  \n",
       "9657          281831      344177  "
      ]
     },
     "execution_count": 10,
     "metadata": {},
     "output_type": "execute_result"
    }
   ],
   "source": [
    "df[df['state']=='DISTRICT OF COLUMBIA']"
   ]
  },
  {
   "cell_type": "code",
   "execution_count": 11,
   "id": "f1a2cbdd-7754-45ff-bc67-55e0dc629ef3",
   "metadata": {},
   "outputs": [
    {
     "data": {
      "text/html": [
       "<div>\n",
       "<style scoped>\n",
       "    .dataframe tbody tr th:only-of-type {\n",
       "        vertical-align: middle;\n",
       "    }\n",
       "\n",
       "    .dataframe tbody tr th {\n",
       "        vertical-align: top;\n",
       "    }\n",
       "\n",
       "    .dataframe thead th {\n",
       "        text-align: right;\n",
       "    }\n",
       "</style>\n",
       "<table border=\"1\" class=\"dataframe\">\n",
       "  <thead>\n",
       "    <tr style=\"text-align: right;\">\n",
       "      <th></th>\n",
       "      <th>year</th>\n",
       "      <th>state</th>\n",
       "      <th>congressional_district</th>\n",
       "      <th>party</th>\n",
       "      <th>candidatevotes</th>\n",
       "      <th>totalvotes</th>\n",
       "    </tr>\n",
       "  </thead>\n",
       "  <tbody>\n",
       "    <tr>\n",
       "      <th>9657</th>\n",
       "      <td>2020</td>\n",
       "      <td>DISTRICT OF COLUMBIA</td>\n",
       "      <td>0</td>\n",
       "      <td>DEMOCRAT</td>\n",
       "      <td>281831</td>\n",
       "      <td>344177</td>\n",
       "    </tr>\n",
       "  </tbody>\n",
       "</table>\n",
       "</div>"
      ],
      "text/plain": [
       "      year                 state  congressional_district     party  \\\n",
       "9657  2020  DISTRICT OF COLUMBIA                       0  DEMOCRAT   \n",
       "\n",
       "      candidatevotes  totalvotes  \n",
       "9657          281831      344177  "
      ]
     },
     "execution_count": 11,
     "metadata": {},
     "output_type": "execute_result"
    }
   ],
   "source": [
    "df[df['state']=='DISTRICT OF COLUMBIA']"
   ]
  },
  {
   "cell_type": "code",
   "execution_count": 12,
   "id": "5359e505-0af6-47db-a47f-c60690df2814",
   "metadata": {
    "tags": []
   },
   "outputs": [
    {
     "data": {
      "text/plain": [
       "state\n",
       "ALABAMA                 24\n",
       "ALASKA                  24\n",
       "ARIZONA                 24\n",
       "ARKANSAS                24\n",
       "CALIFORNIA              24\n",
       "COLORADO                24\n",
       "CONNECTICUT             24\n",
       "DELAWARE                24\n",
       "DISTRICT OF COLUMBIA     1\n",
       "FLORIDA                 24\n",
       "GEORGIA                 24\n",
       "HAWAII                  24\n",
       "IDAHO                   24\n",
       "ILLINOIS                24\n",
       "INDIANA                 24\n",
       "IOWA                    24\n",
       "KANSAS                  24\n",
       "KENTUCKY                24\n",
       "LOUISIANA               24\n",
       "MAINE                   24\n",
       "MARYLAND                24\n",
       "MASSACHUSETTS           24\n",
       "MICHIGAN                24\n",
       "MINNESOTA               24\n",
       "MISSISSIPPI             24\n",
       "MISSOURI                24\n",
       "MONTANA                 24\n",
       "NEBRASKA                24\n",
       "NEVADA                  24\n",
       "NEW HAMPSHIRE           24\n",
       "NEW JERSEY              24\n",
       "NEW MEXICO              24\n",
       "NEW YORK                24\n",
       "NORTH CAROLINA          24\n",
       "NORTH DAKOTA            24\n",
       "OHIO                    24\n",
       "OKLAHOMA                24\n",
       "OREGON                  24\n",
       "PENNSYLVANIA            24\n",
       "RHODE ISLAND            24\n",
       "SOUTH CAROLINA          24\n",
       "SOUTH DAKOTA            24\n",
       "TENNESSEE               24\n",
       "TEXAS                   24\n",
       "UTAH                    24\n",
       "VERMONT                 24\n",
       "VIRGINIA                24\n",
       "WASHINGTON              24\n",
       "WEST VIRGINIA           24\n",
       "WISCONSIN               24\n",
       "WYOMING                 24\n",
       "dtype: int64"
      ]
     },
     "execution_count": 12,
     "metadata": {},
     "output_type": "execute_result"
    }
   ],
   "source": [
    "df[['state','year']].drop_duplicates().groupby(['state']).size() #per ogni coppia stato anno c'è almeno un risultato"
   ]
  },
  {
   "cell_type": "code",
   "execution_count": 13,
   "id": "c11d5c28-81b3-413b-bf0d-ce751dc397bd",
   "metadata": {
    "tags": []
   },
   "outputs": [
    {
     "data": {
      "text/plain": [
       "array([ 1,  2,  3,  4,  5,  6,  7,  0,  8,  9, 10, 11, 12, 13, 14, 15, 16,\n",
       "       17, 18, 19, 20, 21, 22, 23, 24, 25, 26, 27, 28, 29, 30, 31, 32, 33,\n",
       "       34, 35, 36, 37, 38, 39, 40, 41, 42, 43, 44, 45, 46, 47, 48, 49, 50,\n",
       "       51, 52, 53], dtype=int64)"
      ]
     },
     "execution_count": 13,
     "metadata": {},
     "output_type": "execute_result"
    }
   ],
   "source": [
    "df['congressional_district'].unique()"
   ]
  },
  {
   "cell_type": "code",
   "execution_count": 14,
   "id": "1826bd86-c60b-486a-996a-0e027050033a",
   "metadata": {
    "tags": []
   },
   "outputs": [
    {
     "data": {
      "text/plain": [
       "state\n",
       "ALABAMA                  7.000000\n",
       "ALASKA                   1.000000\n",
       "ARIZONA                  6.708333\n",
       "ARKANSAS                 4.000000\n",
       "CALIFORNIA              49.833333\n",
       "COLORADO                 6.375000\n",
       "CONNECTICUT              5.541667\n",
       "DELAWARE                 1.000000\n",
       "DISTRICT OF COLUMBIA     0.041667\n",
       "FLORIDA                 22.625000\n",
       "GEORGIA                 11.833333\n",
       "HAWAII                   2.000000\n",
       "IDAHO                    2.000000\n",
       "ILLINOIS                20.166667\n",
       "INDIANA                  9.666667\n",
       "IOWA                     5.083333\n",
       "KANSAS                   4.333333\n",
       "KENTUCKY                 6.333333\n",
       "LOUISIANA                7.083333\n",
       "MAINE                    2.000000\n",
       "MARYLAND                 8.000000\n",
       "MASSACHUSETTS           10.208333\n",
       "MICHIGAN                16.041667\n",
       "MINNESOTA                8.000000\n",
       "MISSISSIPPI              4.541667\n",
       "MISSOURI                 8.875000\n",
       "MONTANA                  1.375000\n",
       "NEBRASKA                 3.000000\n",
       "NEVADA                   2.583333\n",
       "NEW HAMPSHIRE            2.000000\n",
       "NEW JERSEY              13.208333\n",
       "NEW MEXICO               2.875000\n",
       "NEW YORK                31.166667\n",
       "NORTH CAROLINA          12.166667\n",
       "NORTH DAKOTA             1.000000\n",
       "OHIO                    18.916667\n",
       "OKLAHOMA                 5.541667\n",
       "OREGON                   4.916667\n",
       "PENNSYLVANIA            20.708333\n",
       "RHODE ISLAND             2.000000\n",
       "SOUTH CAROLINA           6.250000\n",
       "SOUTH DAKOTA             1.125000\n",
       "TENNESSEE                8.875000\n",
       "TEXAS                   30.625000\n",
       "UTAH                     3.125000\n",
       "VERMONT                  1.000000\n",
       "VIRGINIA                10.666667\n",
       "WASHINGTON               8.791667\n",
       "WEST VIRGINIA            3.291667\n",
       "WISCONSIN                8.541667\n",
       "WYOMING                  1.000000\n",
       "dtype: float64"
      ]
     },
     "execution_count": 14,
     "metadata": {},
     "output_type": "execute_result"
    }
   ],
   "source": [
    "(df[['state','year', 'congressional_district']].drop_duplicates().groupby(['state']).size())/24\n",
    "# il risultato dovrebbe essere il numero di distretti presenti nello stato\n",
    "# (ma anche se è corretto, potrebbero esserci delle difformità nei dati)\n",
    "# anche se negli anni il numero di distretti potrebbe essere stato modificato.."
   ]
  },
  {
   "cell_type": "code",
   "execution_count": 15,
   "id": "626ba538-3179-4af8-889e-450b0a55e7a8",
   "metadata": {
    "tags": []
   },
   "outputs": [
    {
     "data": {
      "text/plain": [
       "array(['REPUBLICAN', 'DEMOCRAT', 'FOGLIETTA (DEMOCRAT)',\n",
       "       'DEMOCRATIC-FARMER-LABOR', 'INDEPENDENT', 'INDEPENDENT-REPUBLICAN'],\n",
       "      dtype=object)"
      ]
     },
     "execution_count": 15,
     "metadata": {},
     "output_type": "execute_result"
    }
   ],
   "source": [
    "df['party'].unique() #FOGLIETTA (DEMOCRAT) --> Thomas Michael Foglietta --> sbagliato perchè l'attributo rappresenta il winning party"
   ]
  },
  {
   "cell_type": "code",
   "execution_count": 16,
   "id": "d6b4e04d-11e6-4906-8840-dfdbfa57a4cd",
   "metadata": {
    "tags": []
   },
   "outputs": [
    {
     "data": {
      "text/html": [
       "<div>\n",
       "<style scoped>\n",
       "    .dataframe tbody tr th:only-of-type {\n",
       "        vertical-align: middle;\n",
       "    }\n",
       "\n",
       "    .dataframe tbody tr th {\n",
       "        vertical-align: top;\n",
       "    }\n",
       "\n",
       "    .dataframe thead th {\n",
       "        text-align: right;\n",
       "    }\n",
       "</style>\n",
       "<table border=\"1\" class=\"dataframe\">\n",
       "  <thead>\n",
       "    <tr style=\"text-align: right;\">\n",
       "      <th></th>\n",
       "      <th>year</th>\n",
       "      <th>state</th>\n",
       "      <th>congressional_district</th>\n",
       "      <th>party</th>\n",
       "      <th>candidatevotes</th>\n",
       "      <th>totalvotes</th>\n",
       "    </tr>\n",
       "  </thead>\n",
       "  <tbody>\n",
       "    <tr>\n",
       "      <th>1204</th>\n",
       "      <td>1980</td>\n",
       "      <td>PENNSYLVANIA</td>\n",
       "      <td>1</td>\n",
       "      <td>FOGLIETTA (DEMOCRAT)</td>\n",
       "      <td>58737</td>\n",
       "      <td>155451</td>\n",
       "    </tr>\n",
       "  </tbody>\n",
       "</table>\n",
       "</div>"
      ],
      "text/plain": [
       "      year         state  congressional_district                 party  \\\n",
       "1204  1980  PENNSYLVANIA                       1  FOGLIETTA (DEMOCRAT)   \n",
       "\n",
       "      candidatevotes  totalvotes  \n",
       "1204           58737      155451  "
      ]
     },
     "execution_count": 16,
     "metadata": {},
     "output_type": "execute_result"
    }
   ],
   "source": [
    "df[df['party']=='FOGLIETTA (DEMOCRAT)']"
   ]
  },
  {
   "cell_type": "code",
   "execution_count": 17,
   "id": "670a6a59-5760-42ac-bbc2-2ee8429c91c2",
   "metadata": {
    "tags": []
   },
   "outputs": [
    {
     "data": {
      "text/plain": [
       "-1"
      ]
     },
     "execution_count": 17,
     "metadata": {},
     "output_type": "execute_result"
    }
   ],
   "source": [
    "df['candidatevotes'].min()"
   ]
  },
  {
   "cell_type": "code",
   "execution_count": 18,
   "id": "9ab3a6ed-592f-4b6e-bc1c-5f8c037684f9",
   "metadata": {
    "tags": []
   },
   "outputs": [
    {
     "data": {
      "text/plain": [
       "1"
      ]
     },
     "execution_count": 18,
     "metadata": {},
     "output_type": "execute_result"
    }
   ],
   "source": [
    "len(df[df['candidatevotes']==-1])"
   ]
  },
  {
   "cell_type": "code",
   "execution_count": 19,
   "id": "285c3d4e-f476-4322-b5d8-9224288a65d4",
   "metadata": {
    "tags": []
   },
   "outputs": [
    {
     "data": {
      "text/html": [
       "<div>\n",
       "<style scoped>\n",
       "    .dataframe tbody tr th:only-of-type {\n",
       "        vertical-align: middle;\n",
       "    }\n",
       "\n",
       "    .dataframe tbody tr th {\n",
       "        vertical-align: top;\n",
       "    }\n",
       "\n",
       "    .dataframe thead th {\n",
       "        text-align: right;\n",
       "    }\n",
       "</style>\n",
       "<table border=\"1\" class=\"dataframe\">\n",
       "  <thead>\n",
       "    <tr style=\"text-align: right;\">\n",
       "      <th></th>\n",
       "      <th>year</th>\n",
       "      <th>state</th>\n",
       "      <th>congressional_district</th>\n",
       "      <th>party</th>\n",
       "      <th>candidatevotes</th>\n",
       "      <th>totalvotes</th>\n",
       "    </tr>\n",
       "  </thead>\n",
       "  <tbody>\n",
       "    <tr>\n",
       "      <th>9682</th>\n",
       "      <td>2020</td>\n",
       "      <td>FLORIDA</td>\n",
       "      <td>25</td>\n",
       "      <td>REPUBLICAN</td>\n",
       "      <td>-1</td>\n",
       "      <td>-1</td>\n",
       "    </tr>\n",
       "  </tbody>\n",
       "</table>\n",
       "</div>"
      ],
      "text/plain": [
       "      year    state  congressional_district       party  candidatevotes  \\\n",
       "9682  2020  FLORIDA                      25  REPUBLICAN              -1   \n",
       "\n",
       "      totalvotes  \n",
       "9682          -1  "
      ]
     },
     "execution_count": 19,
     "metadata": {},
     "output_type": "execute_result"
    }
   ],
   "source": [
    "df[df['candidatevotes']==-1]"
   ]
  },
  {
   "cell_type": "code",
   "execution_count": 20,
   "id": "dd456de3-02eb-418b-9769-536ad2da3fb6",
   "metadata": {
    "tags": []
   },
   "outputs": [
    {
     "data": {
      "text/plain": [
       "1165136"
      ]
     },
     "execution_count": 20,
     "metadata": {},
     "output_type": "execute_result"
    }
   ],
   "source": [
    "df['candidatevotes'].max()"
   ]
  },
  {
   "cell_type": "code",
   "execution_count": 21,
   "id": "2e6b5e1d-313f-4f7c-a467-bbc81cef0f8e",
   "metadata": {
    "tags": []
   },
   "outputs": [
    {
     "data": {
      "text/html": [
       "<div>\n",
       "<style scoped>\n",
       "    .dataframe tbody tr th:only-of-type {\n",
       "        vertical-align: middle;\n",
       "    }\n",
       "\n",
       "    .dataframe tbody tr th {\n",
       "        vertical-align: top;\n",
       "    }\n",
       "\n",
       "    .dataframe thead th {\n",
       "        text-align: right;\n",
       "    }\n",
       "</style>\n",
       "<table border=\"1\" class=\"dataframe\">\n",
       "  <thead>\n",
       "    <tr style=\"text-align: right;\">\n",
       "      <th></th>\n",
       "      <th>year</th>\n",
       "      <th>state</th>\n",
       "      <th>congressional_district</th>\n",
       "      <th>party</th>\n",
       "      <th>candidatevotes</th>\n",
       "      <th>totalvotes</th>\n",
       "    </tr>\n",
       "  </thead>\n",
       "  <tbody>\n",
       "    <tr>\n",
       "      <th>10186</th>\n",
       "      <td>2022</td>\n",
       "      <td>MAINE</td>\n",
       "      <td>2</td>\n",
       "      <td>DEMOCRAT</td>\n",
       "      <td>1165136</td>\n",
       "      <td>2656104</td>\n",
       "    </tr>\n",
       "  </tbody>\n",
       "</table>\n",
       "</div>"
      ],
      "text/plain": [
       "       year  state  congressional_district     party  candidatevotes  \\\n",
       "10186  2022  MAINE                       2  DEMOCRAT         1165136   \n",
       "\n",
       "       totalvotes  \n",
       "10186     2656104  "
      ]
     },
     "execution_count": 21,
     "metadata": {},
     "output_type": "execute_result"
    }
   ],
   "source": [
    "df[df['candidatevotes']==1165136]"
   ]
  },
  {
   "cell_type": "code",
   "execution_count": 22,
   "id": "bd0264c2-93f6-41d1-9048-0136e2f5ba12",
   "metadata": {
    "tags": []
   },
   "outputs": [
    {
     "data": {
      "text/plain": [
       "-1"
      ]
     },
     "execution_count": 22,
     "metadata": {},
     "output_type": "execute_result"
    }
   ],
   "source": [
    "df['totalvotes'].min()"
   ]
  },
  {
   "cell_type": "code",
   "execution_count": 23,
   "id": "2bc3110c-8304-4ddd-9172-3e1c58334d28",
   "metadata": {
    "tags": []
   },
   "outputs": [
    {
     "data": {
      "text/plain": [
       "1"
      ]
     },
     "execution_count": 23,
     "metadata": {},
     "output_type": "execute_result"
    }
   ],
   "source": [
    "len(df[df['totalvotes']==-1])"
   ]
  },
  {
   "cell_type": "code",
   "execution_count": 24,
   "id": "6d18aece-2c71-4946-93c1-7163ae432121",
   "metadata": {
    "tags": []
   },
   "outputs": [
    {
     "data": {
      "text/html": [
       "<div>\n",
       "<style scoped>\n",
       "    .dataframe tbody tr th:only-of-type {\n",
       "        vertical-align: middle;\n",
       "    }\n",
       "\n",
       "    .dataframe tbody tr th {\n",
       "        vertical-align: top;\n",
       "    }\n",
       "\n",
       "    .dataframe thead th {\n",
       "        text-align: right;\n",
       "    }\n",
       "</style>\n",
       "<table border=\"1\" class=\"dataframe\">\n",
       "  <thead>\n",
       "    <tr style=\"text-align: right;\">\n",
       "      <th></th>\n",
       "      <th>year</th>\n",
       "      <th>state</th>\n",
       "      <th>congressional_district</th>\n",
       "      <th>party</th>\n",
       "      <th>candidatevotes</th>\n",
       "      <th>totalvotes</th>\n",
       "    </tr>\n",
       "  </thead>\n",
       "  <tbody>\n",
       "    <tr>\n",
       "      <th>9682</th>\n",
       "      <td>2020</td>\n",
       "      <td>FLORIDA</td>\n",
       "      <td>25</td>\n",
       "      <td>REPUBLICAN</td>\n",
       "      <td>-1</td>\n",
       "      <td>-1</td>\n",
       "    </tr>\n",
       "  </tbody>\n",
       "</table>\n",
       "</div>"
      ],
      "text/plain": [
       "      year    state  congressional_district       party  candidatevotes  \\\n",
       "9682  2020  FLORIDA                      25  REPUBLICAN              -1   \n",
       "\n",
       "      totalvotes  \n",
       "9682          -1  "
      ]
     },
     "execution_count": 24,
     "metadata": {},
     "output_type": "execute_result"
    }
   ],
   "source": [
    "df[df['totalvotes']==-1]"
   ]
  },
  {
   "cell_type": "code",
   "execution_count": 25,
   "id": "cd92e283-c701-48c9-8c3b-7f882daa40bd",
   "metadata": {
    "tags": []
   },
   "outputs": [
    {
     "data": {
      "text/html": [
       "<div>\n",
       "<style scoped>\n",
       "    .dataframe tbody tr th:only-of-type {\n",
       "        vertical-align: middle;\n",
       "    }\n",
       "\n",
       "    .dataframe tbody tr th {\n",
       "        vertical-align: top;\n",
       "    }\n",
       "\n",
       "    .dataframe thead th {\n",
       "        text-align: right;\n",
       "    }\n",
       "</style>\n",
       "<table border=\"1\" class=\"dataframe\">\n",
       "  <thead>\n",
       "    <tr style=\"text-align: right;\">\n",
       "      <th></th>\n",
       "      <th>year</th>\n",
       "      <th>state</th>\n",
       "      <th>congressional_district</th>\n",
       "      <th>party</th>\n",
       "      <th>candidatevotes</th>\n",
       "      <th>totalvotes</th>\n",
       "    </tr>\n",
       "  </thead>\n",
       "  <tbody>\n",
       "    <tr>\n",
       "      <th>7</th>\n",
       "      <td>1976</td>\n",
       "      <td>ALASKA</td>\n",
       "      <td>0</td>\n",
       "      <td>REPUBLICAN</td>\n",
       "      <td>83722</td>\n",
       "      <td>118208</td>\n",
       "    </tr>\n",
       "    <tr>\n",
       "      <th>5227</th>\n",
       "      <td>2000</td>\n",
       "      <td>ALASKA</td>\n",
       "      <td>0</td>\n",
       "      <td>REPUBLICAN</td>\n",
       "      <td>190862</td>\n",
       "      <td>274393</td>\n",
       "    </tr>\n",
       "    <tr>\n",
       "      <th>2182</th>\n",
       "      <td>1986</td>\n",
       "      <td>ALASKA</td>\n",
       "      <td>0</td>\n",
       "      <td>REPUBLICAN</td>\n",
       "      <td>101799</td>\n",
       "      <td>180277</td>\n",
       "    </tr>\n",
       "    <tr>\n",
       "      <th>7837</th>\n",
       "      <td>2012</td>\n",
       "      <td>ALASKA</td>\n",
       "      <td>0</td>\n",
       "      <td>REPUBLICAN</td>\n",
       "      <td>185296</td>\n",
       "      <td>289804</td>\n",
       "    </tr>\n",
       "    <tr>\n",
       "      <th>8707</th>\n",
       "      <td>2016</td>\n",
       "      <td>ALASKA</td>\n",
       "      <td>0</td>\n",
       "      <td>REPUBLICAN</td>\n",
       "      <td>155088</td>\n",
       "      <td>308198</td>\n",
       "    </tr>\n",
       "    <tr>\n",
       "      <th>...</th>\n",
       "      <td>...</td>\n",
       "      <td>...</td>\n",
       "      <td>...</td>\n",
       "      <td>...</td>\n",
       "      <td>...</td>\n",
       "      <td>...</td>\n",
       "    </tr>\n",
       "    <tr>\n",
       "      <th>2174</th>\n",
       "      <td>1984</td>\n",
       "      <td>WYOMING</td>\n",
       "      <td>0</td>\n",
       "      <td>REPUBLICAN</td>\n",
       "      <td>138234</td>\n",
       "      <td>187904</td>\n",
       "    </tr>\n",
       "    <tr>\n",
       "      <th>7829</th>\n",
       "      <td>2010</td>\n",
       "      <td>WYOMING</td>\n",
       "      <td>0</td>\n",
       "      <td>REPUBLICAN</td>\n",
       "      <td>131661</td>\n",
       "      <td>190822</td>\n",
       "    </tr>\n",
       "    <tr>\n",
       "      <th>5219</th>\n",
       "      <td>1998</td>\n",
       "      <td>WYOMING</td>\n",
       "      <td>0</td>\n",
       "      <td>REPUBLICAN</td>\n",
       "      <td>100687</td>\n",
       "      <td>174219</td>\n",
       "    </tr>\n",
       "    <tr>\n",
       "      <th>6524</th>\n",
       "      <td>2004</td>\n",
       "      <td>WYOMING</td>\n",
       "      <td>0</td>\n",
       "      <td>REPUBLICAN</td>\n",
       "      <td>132107</td>\n",
       "      <td>239163</td>\n",
       "    </tr>\n",
       "    <tr>\n",
       "      <th>10440</th>\n",
       "      <td>2022</td>\n",
       "      <td>WYOMING</td>\n",
       "      <td>0</td>\n",
       "      <td>REPUBLICAN</td>\n",
       "      <td>132206</td>\n",
       "      <td>198198</td>\n",
       "    </tr>\n",
       "  </tbody>\n",
       "</table>\n",
       "<p>160 rows × 6 columns</p>\n",
       "</div>"
      ],
      "text/plain": [
       "       year    state  congressional_district       party  candidatevotes  \\\n",
       "7      1976   ALASKA                       0  REPUBLICAN           83722   \n",
       "5227   2000   ALASKA                       0  REPUBLICAN          190862   \n",
       "2182   1986   ALASKA                       0  REPUBLICAN          101799   \n",
       "7837   2012   ALASKA                       0  REPUBLICAN          185296   \n",
       "8707   2016   ALASKA                       0  REPUBLICAN          155088   \n",
       "...     ...      ...                     ...         ...             ...   \n",
       "2174   1984  WYOMING                       0  REPUBLICAN          138234   \n",
       "7829   2010  WYOMING                       0  REPUBLICAN          131661   \n",
       "5219   1998  WYOMING                       0  REPUBLICAN          100687   \n",
       "6524   2004  WYOMING                       0  REPUBLICAN          132107   \n",
       "10440  2022  WYOMING                       0  REPUBLICAN          132206   \n",
       "\n",
       "       totalvotes  \n",
       "7          118208  \n",
       "5227       274393  \n",
       "2182       180277  \n",
       "7837       289804  \n",
       "8707       308198  \n",
       "...           ...  \n",
       "2174       187904  \n",
       "7829       190822  \n",
       "5219       174219  \n",
       "6524       239163  \n",
       "10440      198198  \n",
       "\n",
       "[160 rows x 6 columns]"
      ]
     },
     "execution_count": 25,
     "metadata": {},
     "output_type": "execute_result"
    }
   ],
   "source": [
    "df[df['congressional_district']==0].sort_values('state')"
   ]
  },
  {
   "cell_type": "code",
   "execution_count": 28,
   "id": "d061eac3-e3d0-4609-8700-e2f04e6c680c",
   "metadata": {
    "tags": []
   },
   "outputs": [
    {
     "data": {
      "text/plain": [
       "Text(0.5, 0, 'attributes')"
      ]
     },
     "execution_count": 28,
     "metadata": {},
     "output_type": "execute_result"
    },
    {
     "data": {
      "image/png": "[encoded data removed]",
      "text/plain": [
       "<Figure size 640x480 with 1 Axes>"
      ]
     },
     "metadata": {},
     "output_type": "display_data"
    }
   ],
   "source": [
    "ax= df.pivot_table(index = 'year', columns = 'party', values = 'state', aggfunc = 'count').plot()\n",
    "ax.set_title(\"congressional_district led by each party over the years\",fontsize=13)\n",
    "ax.set_ylabel(\"number of congressional_district\",fontsize=12)\n",
    "ax.set_xlabel(\"attributes\",fontsize=12)"
   ]
  },
  {
   "cell_type": "code",
   "execution_count": 27,
   "id": "66e417a1-8526-4969-b612-640f15b8f3ae",
   "metadata": {
    "tags": []
   },
   "outputs": [
    {
     "data": {
      "text/plain": [
       "<Axes: xlabel='year'>"
      ]
     },
     "execution_count": 27,
     "metadata": {},
     "output_type": "execute_result"
    },
    {
     "data": {
      "image/png": "[encoded data removed]",
      "text/plain": [
       "<Figure size 640x480 with 1 Axes>"
      ]
     },
     "metadata": {},
     "output_type": "display_data"
    }
   ],
   "source": [
    "df.pivot_table(index = 'year', columns = 'party', values = 'candidatevotes', aggfunc = 'sum').plot()"
   ]
  },
  {
   "cell_type": "code",
   "execution_count": 28,
   "id": "5dbf1128-8e14-4807-b8a3-542a38d54c94",
   "metadata": {},
   "outputs": [
    {
     "data": {
      "text/plain": [
       "0"
      ]
     },
     "execution_count": 28,
     "metadata": {},
     "output_type": "execute_result"
    }
   ],
   "source": [
    "df.duplicated().sum()"
   ]
  },
  {
   "cell_type": "code",
   "execution_count": 29,
   "id": "aa39ce9d-6fd6-4331-958c-4064822ae46d",
   "metadata": {
    "tags": []
   },
   "outputs": [],
   "source": [
    "import pandas as pd\n",
    "import numpy as np\n",
    "\n",
    "def get_converted_year_state_district_house__df(path = 'year_state_district_house.csv') -> pd.DataFrame:\n",
    "   \n",
    "    dtype={\n",
    "        'year': 'Int64',\n",
    "        'state': 'string',\n",
    "        'congressional_district': 'Int64',\n",
    "        'party': 'string',\n",
    "        'candidatevotes': 'Int64',\n",
    "        'totalvotes': 'Int64'\n",
    "    }\n",
    "\n",
    "    df = pd.read_csv(path, sep=',', low_memory=False, dtype=dtype)\n",
    "    \n",
    "    return df"
   ]
  },
  {
   "cell_type": "code",
   "execution_count": 30,
   "id": "bcda2bc1-8cde-4317-95b0-c8c225de1fa6",
   "metadata": {
    "tags": []
   },
   "outputs": [
    {
     "name": "stdout",
     "output_type": "stream",
     "text": [
      "<class 'pandas.core.frame.DataFrame'>\n",
      "RangeIndex: 10441 entries, 0 to 10440\n",
      "Data columns (total 6 columns):\n",
      " #   Column                  Non-Null Count  Dtype \n",
      "---  ------                  --------------  ----- \n",
      " 0   year                    10441 non-null  Int64 \n",
      " 1   state                   10441 non-null  string\n",
      " 2   congressional_district  10441 non-null  Int64 \n",
      " 3   party                   10441 non-null  string\n",
      " 4   candidatevotes          10441 non-null  Int64 \n",
      " 5   totalvotes              10441 non-null  Int64 \n",
      "dtypes: Int64(4), string(2)\n",
      "memory usage: 530.3 KB\n"
     ]
    }
   ],
   "source": [
    "df = get_converted_year_state_district_house__df()\n",
    "df.info()"
   ]
  },
  {
   "cell_type": "raw",
   "id": "0e1d2eaf-994a-4515-a579-6088551f24cb",
   "metadata": {
    "tags": []
   },
   "source": [
    "import matplotlib.pyplot as plt\n",
    "import pandas as pd\n",
    "import seaborn as sn\n",
    "import matplotlib.pyplot as plt\n",
    "import matplotlib.ticker as mtick\n",
    "\n",
    "df = df.sort_values(by='year')\n",
    "\n",
    "# Crea un grafico per ogni anno\n",
    "for year in df['year'].unique():\n",
    "    plt.figure(figsize=(3,3))\n",
    "    df[df['year'] == year].groupby(df['party'])['candidatevotes'].sum().plot(kind='bar')\n",
    "    plt.title(f'Numero di voti per partito nel {year}')\n",
    "    plt.xlabel('Party')\n",
    "    plt.ylabel('Voti')\n",
    "    plt.ticklabel_format(style='plain', axis='y', useOffset=False)\n",
    "    # Formattare l'asse y con i separatori delle migliaia\n",
    "    plt.gca().yaxis.set_major_formatter(mtick.StrMethodFormatter('{x:,.0f}'))\n",
    "    plt.show()"
   ]
  },
  {
   "cell_type": "code",
   "execution_count": 31,
   "id": "fff903fc-e45e-48a9-ab9b-9330b63807f8",
   "metadata": {
    "tags": []
   },
   "outputs": [
    {
     "data": {
      "text/html": [
       "<div>\n",
       "<style scoped>\n",
       "    .dataframe tbody tr th:only-of-type {\n",
       "        vertical-align: middle;\n",
       "    }\n",
       "\n",
       "    .dataframe tbody tr th {\n",
       "        vertical-align: top;\n",
       "    }\n",
       "\n",
       "    .dataframe thead th {\n",
       "        text-align: right;\n",
       "    }\n",
       "</style>\n",
       "<table border=\"1\" class=\"dataframe\">\n",
       "  <thead>\n",
       "    <tr style=\"text-align: right;\">\n",
       "      <th></th>\n",
       "      <th>year</th>\n",
       "      <th>state</th>\n",
       "      <th>congressional_district</th>\n",
       "      <th>party</th>\n",
       "      <th>candidatevotes</th>\n",
       "      <th>totalvotes</th>\n",
       "    </tr>\n",
       "  </thead>\n",
       "  <tbody>\n",
       "    <tr>\n",
       "      <th>1204</th>\n",
       "      <td>1980</td>\n",
       "      <td>PENNSYLVANIA</td>\n",
       "      <td>1</td>\n",
       "      <td>FOGLIETTA (DEMOCRAT)</td>\n",
       "      <td>58737</td>\n",
       "      <td>155451</td>\n",
       "    </tr>\n",
       "  </tbody>\n",
       "</table>\n",
       "</div>"
      ],
      "text/plain": [
       "      year         state  congressional_district                 party  \\\n",
       "1204  1980  PENNSYLVANIA                       1  FOGLIETTA (DEMOCRAT)   \n",
       "\n",
       "      candidatevotes  totalvotes  \n",
       "1204           58737      155451  "
      ]
     },
     "execution_count": 31,
     "metadata": {},
     "output_type": "execute_result"
    }
   ],
   "source": [
    "df[df['party']=='FOGLIETTA (DEMOCRAT)']"
   ]
  },
  {
   "cell_type": "code",
   "execution_count": 32,
   "id": "b810fd37-b3ec-4031-91d8-0cccf7a55b3f",
   "metadata": {
    "tags": []
   },
   "outputs": [
    {
     "data": {
      "text/plain": [
       "1204    FOGLIETTA (DEMOCRAT)\n",
       "Name: party, dtype: string"
      ]
     },
     "execution_count": 32,
     "metadata": {},
     "output_type": "execute_result"
    }
   ],
   "source": [
    "df[df['party']=='FOGLIETTA (DEMOCRAT)']['party']"
   ]
  },
  {
   "cell_type": "code",
   "execution_count": 33,
   "id": "044ac668-274b-449d-9e3f-72dfff6de847",
   "metadata": {
    "tags": []
   },
   "outputs": [
    {
     "data": {
      "text/plain": [
       "10"
      ]
     },
     "execution_count": 33,
     "metadata": {},
     "output_type": "execute_result"
    }
   ],
   "source": [
    "df[df['party']=='INDEPENDENT']['party'].count()"
   ]
  },
  {
   "cell_type": "code",
   "execution_count": 34,
   "id": "0dbfd5dc-7ef8-48f1-98c0-092c68fe3ad4",
   "metadata": {
    "tags": []
   },
   "outputs": [],
   "source": [
    "df=df.replace('FOGLIETTA (DEMOCRAT)', 'INDEPENDENT')"
   ]
  },
  {
   "cell_type": "code",
   "execution_count": 35,
   "id": "b3e38561-c021-4b61-bca9-61d842e650af",
   "metadata": {
    "tags": []
   },
   "outputs": [
    {
     "data": {
      "text/plain": [
       "Series([], Name: party, dtype: string)"
      ]
     },
     "execution_count": 35,
     "metadata": {},
     "output_type": "execute_result"
    }
   ],
   "source": [
    "df[df['party']=='FOGLIETTA (DEMOCRAT)']['party']"
   ]
  },
  {
   "cell_type": "code",
   "execution_count": 36,
   "id": "52ca6061-a510-4f5e-834f-c6f248dcffb4",
   "metadata": {},
   "outputs": [
    {
     "data": {
      "text/plain": [
       "11"
      ]
     },
     "execution_count": 36,
     "metadata": {},
     "output_type": "execute_result"
    }
   ],
   "source": [
    "df[df['party']=='INDEPENDENT']['party'].count()"
   ]
  },
  {
   "cell_type": "code",
   "execution_count": 37,
   "id": "c2f8bb89-5c21-4d71-acf4-160c9b6490af",
   "metadata": {
    "tags": []
   },
   "outputs": [
    {
     "data": {
      "text/html": [
       "<div>\n",
       "<style scoped>\n",
       "    .dataframe tbody tr th:only-of-type {\n",
       "        vertical-align: middle;\n",
       "    }\n",
       "\n",
       "    .dataframe tbody tr th {\n",
       "        vertical-align: top;\n",
       "    }\n",
       "\n",
       "    .dataframe thead th {\n",
       "        text-align: right;\n",
       "    }\n",
       "</style>\n",
       "<table border=\"1\" class=\"dataframe\">\n",
       "  <thead>\n",
       "    <tr style=\"text-align: right;\">\n",
       "      <th></th>\n",
       "      <th>year</th>\n",
       "      <th>state</th>\n",
       "      <th>congressional_district</th>\n",
       "      <th>party</th>\n",
       "      <th>candidatevotes</th>\n",
       "      <th>totalvotes</th>\n",
       "    </tr>\n",
       "  </thead>\n",
       "  <tbody>\n",
       "    <tr>\n",
       "      <th>9682</th>\n",
       "      <td>2020</td>\n",
       "      <td>FLORIDA</td>\n",
       "      <td>25</td>\n",
       "      <td>REPUBLICAN</td>\n",
       "      <td>-1</td>\n",
       "      <td>-1</td>\n",
       "    </tr>\n",
       "  </tbody>\n",
       "</table>\n",
       "</div>"
      ],
      "text/plain": [
       "      year    state  congressional_district       party  candidatevotes  \\\n",
       "9682  2020  FLORIDA                      25  REPUBLICAN              -1   \n",
       "\n",
       "      totalvotes  \n",
       "9682          -1  "
      ]
     },
     "execution_count": 37,
     "metadata": {},
     "output_type": "execute_result"
    }
   ],
   "source": [
    "df[df['candidatevotes']==-1] "
   ]
  },
  {
   "cell_type": "code",
   "execution_count": 38,
   "id": "7e22b7aa-a207-4433-b802-50f862aca8bc",
   "metadata": {
    "tags": []
   },
   "outputs": [
    {
     "data": {
      "text/html": [
       "<div>\n",
       "<style scoped>\n",
       "    .dataframe tbody tr th:only-of-type {\n",
       "        vertical-align: middle;\n",
       "    }\n",
       "\n",
       "    .dataframe tbody tr th {\n",
       "        vertical-align: top;\n",
       "    }\n",
       "\n",
       "    .dataframe thead th {\n",
       "        text-align: right;\n",
       "    }\n",
       "</style>\n",
       "<table border=\"1\" class=\"dataframe\">\n",
       "  <thead>\n",
       "    <tr style=\"text-align: right;\">\n",
       "      <th></th>\n",
       "      <th>year</th>\n",
       "      <th>state</th>\n",
       "      <th>congressional_district</th>\n",
       "      <th>party</th>\n",
       "      <th>candidatevotes</th>\n",
       "      <th>totalvotes</th>\n",
       "    </tr>\n",
       "  </thead>\n",
       "  <tbody>\n",
       "    <tr>\n",
       "      <th>9682</th>\n",
       "      <td>2020</td>\n",
       "      <td>FLORIDA</td>\n",
       "      <td>25</td>\n",
       "      <td>REPUBLICAN</td>\n",
       "      <td>-1</td>\n",
       "      <td>-1</td>\n",
       "    </tr>\n",
       "  </tbody>\n",
       "</table>\n",
       "</div>"
      ],
      "text/plain": [
       "      year    state  congressional_district       party  candidatevotes  \\\n",
       "9682  2020  FLORIDA                      25  REPUBLICAN              -1   \n",
       "\n",
       "      totalvotes  \n",
       "9682          -1  "
      ]
     },
     "execution_count": 38,
     "metadata": {},
     "output_type": "execute_result"
    }
   ],
   "source": [
    "df[df['totalvotes']==-1]"
   ]
  },
  {
   "cell_type": "code",
   "execution_count": 39,
   "id": "0bd81d9d-f7b9-458f-a5f5-21c9607d7d32",
   "metadata": {
    "tags": []
   },
   "outputs": [
    {
     "data": {
      "text/html": [
       "<div>\n",
       "<style scoped>\n",
       "    .dataframe tbody tr th:only-of-type {\n",
       "        vertical-align: middle;\n",
       "    }\n",
       "\n",
       "    .dataframe tbody tr th {\n",
       "        vertical-align: top;\n",
       "    }\n",
       "\n",
       "    .dataframe thead th {\n",
       "        text-align: right;\n",
       "    }\n",
       "</style>\n",
       "<table border=\"1\" class=\"dataframe\">\n",
       "  <thead>\n",
       "    <tr style=\"text-align: right;\">\n",
       "      <th></th>\n",
       "      <th>year</th>\n",
       "      <th>state</th>\n",
       "      <th>congressional_district</th>\n",
       "      <th>party</th>\n",
       "      <th>candidatevotes</th>\n",
       "      <th>totalvotes</th>\n",
       "    </tr>\n",
       "  </thead>\n",
       "  <tbody>\n",
       "    <tr>\n",
       "      <th>8810</th>\n",
       "      <td>2016</td>\n",
       "      <td>FLORIDA</td>\n",
       "      <td>24</td>\n",
       "      <td>DEMOCRAT</td>\n",
       "      <td>0</td>\n",
       "      <td>0</td>\n",
       "    </tr>\n",
       "    <tr>\n",
       "      <th>9682</th>\n",
       "      <td>2020</td>\n",
       "      <td>FLORIDA</td>\n",
       "      <td>25</td>\n",
       "      <td>REPUBLICAN</td>\n",
       "      <td>-1</td>\n",
       "      <td>-1</td>\n",
       "    </tr>\n",
       "  </tbody>\n",
       "</table>\n",
       "</div>"
      ],
      "text/plain": [
       "      year    state  congressional_district       party  candidatevotes  \\\n",
       "8810  2016  FLORIDA                      24    DEMOCRAT               0   \n",
       "9682  2020  FLORIDA                      25  REPUBLICAN              -1   \n",
       "\n",
       "      totalvotes  \n",
       "8810           0  \n",
       "9682          -1  "
      ]
     },
     "execution_count": 39,
     "metadata": {},
     "output_type": "execute_result"
    }
   ],
   "source": [
    "df[df['totalvotes']<=0]"
   ]
  },
  {
   "cell_type": "code",
   "execution_count": 40,
   "id": "b2dae9b0-d27d-48b3-8e88-be4251e8c102",
   "metadata": {
    "tags": []
   },
   "outputs": [
    {
     "data": {
      "text/html": [
       "<div>\n",
       "<style scoped>\n",
       "    .dataframe tbody tr th:only-of-type {\n",
       "        vertical-align: middle;\n",
       "    }\n",
       "\n",
       "    .dataframe tbody tr th {\n",
       "        vertical-align: top;\n",
       "    }\n",
       "\n",
       "    .dataframe thead th {\n",
       "        text-align: right;\n",
       "    }\n",
       "</style>\n",
       "<table border=\"1\" class=\"dataframe\">\n",
       "  <thead>\n",
       "    <tr style=\"text-align: right;\">\n",
       "      <th></th>\n",
       "      <th>year</th>\n",
       "      <th>state</th>\n",
       "      <th>congressional_district</th>\n",
       "      <th>party</th>\n",
       "      <th>candidatevotes</th>\n",
       "      <th>totalvotes</th>\n",
       "    </tr>\n",
       "  </thead>\n",
       "  <tbody>\n",
       "    <tr>\n",
       "      <th>8810</th>\n",
       "      <td>2016</td>\n",
       "      <td>FLORIDA</td>\n",
       "      <td>24</td>\n",
       "      <td>DEMOCRAT</td>\n",
       "      <td>0</td>\n",
       "      <td>0</td>\n",
       "    </tr>\n",
       "    <tr>\n",
       "      <th>9682</th>\n",
       "      <td>2020</td>\n",
       "      <td>FLORIDA</td>\n",
       "      <td>25</td>\n",
       "      <td>REPUBLICAN</td>\n",
       "      <td>-1</td>\n",
       "      <td>-1</td>\n",
       "    </tr>\n",
       "  </tbody>\n",
       "</table>\n",
       "</div>"
      ],
      "text/plain": [
       "      year    state  congressional_district       party  candidatevotes  \\\n",
       "8810  2016  FLORIDA                      24    DEMOCRAT               0   \n",
       "9682  2020  FLORIDA                      25  REPUBLICAN              -1   \n",
       "\n",
       "      totalvotes  \n",
       "8810           0  \n",
       "9682          -1  "
      ]
     },
     "execution_count": 40,
     "metadata": {},
     "output_type": "execute_result"
    }
   ],
   "source": [
    "df[df['candidatevotes']<=0]"
   ]
  },
  {
   "cell_type": "code",
   "execution_count": 41,
   "id": "036233b4-6423-47f4-acb6-087a895adb6e",
   "metadata": {},
   "outputs": [
    {
     "data": {
      "text/html": [
       "<div>\n",
       "<style scoped>\n",
       "    .dataframe tbody tr th:only-of-type {\n",
       "        vertical-align: middle;\n",
       "    }\n",
       "\n",
       "    .dataframe tbody tr th {\n",
       "        vertical-align: top;\n",
       "    }\n",
       "\n",
       "    .dataframe thead th {\n",
       "        text-align: right;\n",
       "    }\n",
       "</style>\n",
       "<table border=\"1\" class=\"dataframe\">\n",
       "  <thead>\n",
       "    <tr style=\"text-align: right;\">\n",
       "      <th></th>\n",
       "      <th>year</th>\n",
       "      <th>state</th>\n",
       "      <th>congressional_district</th>\n",
       "      <th>party</th>\n",
       "      <th>candidatevotes</th>\n",
       "      <th>totalvotes</th>\n",
       "    </tr>\n",
       "  </thead>\n",
       "  <tbody>\n",
       "    <tr>\n",
       "      <th>8810</th>\n",
       "      <td>2016</td>\n",
       "      <td>FLORIDA</td>\n",
       "      <td>24</td>\n",
       "      <td>DEMOCRAT</td>\n",
       "      <td>0</td>\n",
       "      <td>0</td>\n",
       "    </tr>\n",
       "    <tr>\n",
       "      <th>9682</th>\n",
       "      <td>2020</td>\n",
       "      <td>FLORIDA</td>\n",
       "      <td>25</td>\n",
       "      <td>REPUBLICAN</td>\n",
       "      <td>-1</td>\n",
       "      <td>-1</td>\n",
       "    </tr>\n",
       "  </tbody>\n",
       "</table>\n",
       "</div>"
      ],
      "text/plain": [
       "      year    state  congressional_district       party  candidatevotes  \\\n",
       "8810  2016  FLORIDA                      24    DEMOCRAT               0   \n",
       "9682  2020  FLORIDA                      25  REPUBLICAN              -1   \n",
       "\n",
       "      totalvotes  \n",
       "8810           0  \n",
       "9682          -1  "
      ]
     },
     "execution_count": 41,
     "metadata": {},
     "output_type": "execute_result"
    }
   ],
   "source": [
    "df[df['candidatevotes']<=0]"
   ]
  }
 ],
 "metadata": {
  "kernelspec": {
   "display_name": "Python 3 (ipykernel)",
   "language": "python",
   "name": "python3"
  },
  "language_info": {
   "codemirror_mode": {
    "name": "ipython",
    "version": 3
   },
   "file_extension": ".py",
   "mimetype": "text/x-python",
   "name": "python",
   "nbconvert_exporter": "python",
   "pygments_lexer": "ipython3",
   "version": "3.10.9"
  }
 },
 "nbformat": 4,
 "nbformat_minor": 5
}
