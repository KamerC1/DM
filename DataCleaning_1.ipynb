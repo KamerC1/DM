{
 "cells": [
  {
   "cell_type": "markdown",
   "id": "579ab21b",
   "metadata": {},
   "source": [
    "### Questo file ha il compito di generare una tabella contenente tutti gli attributi utili dei tre file, vanno inoltre settatati a missing value tutti gli attributi semanticamente scorretti (eccezzione fatta per i campi notes e incident characteristic1), infine vanno tolti i record sopra una percentuale di valori null."
   ]
  },
  {
   "cell_type": "code",
   "execution_count": 59,
   "id": "7b1d6ca5",
   "metadata": {},
   "outputs": [],
   "source": [
    "import pandas as pd\n",
    "import matplotlib.pyplot as plt\n",
    "import numpy as np\n",
    "tab1= pd.read_csv(\"data/incidents.csv\",low_memory=False).drop(columns= [\"city_or_county\",\"address\",\"state_house_district\",\"state_senate_district\",\"participant_age_group1\",\"incident_characteristics2\"])\n",
    "tab2= pd.read_csv(\"data/povertyByStateYear.csv\",low_memory=False)\n",
    "tab3 = pd.read_csv(\"data/year_state_district_house.csv\",low_memory = False)\n"
   ]
  },
  {
   "cell_type": "markdown",
   "id": "bfb88e04",
   "metadata": {},
   "source": [
    "Filliamo tutti i campi null di incidents_characteristic1 e notes con stringhe \"NULL\""
   ]
  },
  {
   "cell_type": "code",
   "execution_count": 53,
   "id": "39334765",
   "metadata": {},
   "outputs": [],
   "source": [
    "tab1[\"notes\"]=tab1[\"notes\"].replace(to_replace=np.nan,value=\"NULL\")\n",
    "tab1[\"incident_characteristics1\"]=tab1[\"incident_characteristics1\"].replace(to_replace=np.nan,value=\"NULL\")"
   ]
  },
  {
   "cell_type": "code",
   "execution_count": 54,
   "id": "9c3226fa",
   "metadata": {},
   "outputs": [
    {
     "name": "stdout",
     "output_type": "stream",
     "text": [
      "<class 'pandas.core.frame.DataFrame'>\n",
      "RangeIndex: 239677 entries, 0 to 239676\n",
      "Data columns (total 28 columns):\n",
      " #   Column                     Non-Null Count   Dtype  \n",
      "---  ------                     --------------   -----  \n",
      " 0   date                       239677 non-null  object \n",
      " 1   state                      239677 non-null  object \n",
      " 2   city_or_county             239677 non-null  object \n",
      " 3   address                    223180 non-null  object \n",
      " 4   latitude                   231754 non-null  float64\n",
      " 5   longitude                  231754 non-null  float64\n",
      " 6   congressional_district     227733 non-null  float64\n",
      " 7   state_house_district       200905 non-null  float64\n",
      " 8   state_senate_district      207342 non-null  float64\n",
      " 9   participant_age1           147379 non-null  float64\n",
      " 10  participant_age_group1     197558 non-null  object \n",
      " 11  participant_gender1        203315 non-null  object \n",
      " 12  min_age_participants       164879 non-null  object \n",
      " 13  avg_age_participants       165057 non-null  object \n",
      " 14  max_age_participants       164969 non-null  object \n",
      " 15  n_participants_child       197573 non-null  object \n",
      " 16  n_participants_teen        197578 non-null  object \n",
      " 17  n_participants_adult       197575 non-null  object \n",
      " 18  n_males                    203315 non-null  float64\n",
      " 19  n_females                  203315 non-null  float64\n",
      " 20  n_killed                   239677 non-null  int64  \n",
      " 21  n_injured                  239677 non-null  int64  \n",
      " 22  n_arrested                 212051 non-null  float64\n",
      " 23  n_unharmed                 212051 non-null  float64\n",
      " 24  n_participants             239677 non-null  float64\n",
      " 25  notes                      239677 non-null  object \n",
      " 26  incident_characteristics1  239677 non-null  object \n",
      " 27  incident_characteristics2  141931 non-null  object \n",
      "dtypes: float64(11), int64(2), object(15)\n",
      "memory usage: 51.2+ MB\n"
     ]
    }
   ],
   "source": [
    "tab1.info()"
   ]
  },
  {
   "cell_type": "markdown",
   "id": "a86885d6",
   "metadata": {},
   "source": [
    "left join dei file yearState e poverty su incidents. In questo mod si perdono i record con attributo year superiore al 2018"
   ]
  },
  {
   "cell_type": "code",
   "execution_count": 91,
   "id": "576a3a75",
   "metadata": {},
   "outputs": [],
   "source": [
    "#creo la colonna year anche per la tabella incidents, così da poter fare la join\n",
    "def toYear(date):\n",
    "    if date == None:\n",
    "        return np.nan\n",
    "    return pd.to_datetime(date).year\n",
    "tab3[\"state\"]=tab3[\"state\"].apply(lambda x: x.title())\n",
    "tab1[\"year\"]=tab1[\"date\"].apply(toYear)\n",
    "tab = pd.merge(tab1,tab2,on=[\"state\",\"year\"],how=\"left\")\n",
    "tab = pd.merge(tab,tab3, on=[\"year\",\"state\",\"congressional_district\"],how=\"left\").drop(columns=[\"year\"])"
   ]
  },
  {
   "cell_type": "markdown",
   "id": "316fad20",
   "metadata": {},
   "source": [
    "puliamo i campi della tabella **incidents** dei valori semanticamente scorretti nei diversi attributi.<br>"
   ]
  },
  {
   "cell_type": "code",
   "execution_count": null,
   "id": "be444be2",
   "metadata": {},
   "outputs": [],
   "source": []
  },
  {
   "cell_type": "markdown",
   "id": "566361d8",
   "metadata": {},
   "source": [
    "puliamo i campi della tabella **poverty** dei valori semanticamente scorretti nei diversi attributi."
   ]
  },
  {
   "cell_type": "code",
   "execution_count": null,
   "id": "2550d874",
   "metadata": {},
   "outputs": [],
   "source": []
  },
  {
   "cell_type": "markdown",
   "id": "910a1f42",
   "metadata": {},
   "source": [
    "puliamo i campi della tabella **yearState** dei valori semanticamente scorretti nei diversi attributi."
   ]
  },
  {
   "cell_type": "code",
   "execution_count": 102,
   "id": "db4e8081",
   "metadata": {},
   "outputs": [
    {
     "data": {
      "text/plain": [
       "239677"
      ]
     },
     "execution_count": 102,
     "metadata": {},
     "output_type": "execute_result"
    }
   ],
   "source": [
    "len(tab)"
   ]
  },
  {
   "cell_type": "markdown",
   "id": "c0e56258",
   "metadata": {},
   "source": [
    "### Rimozione delle entry con troppi valori null"
   ]
  },
  {
   "cell_type": "code",
   "execution_count": 98,
   "id": "187255c6",
   "metadata": {},
   "outputs": [
    {
     "data": {
      "text/plain": [
       "3"
      ]
     },
     "execution_count": 98,
     "metadata": {},
     "output_type": "execute_result"
    }
   ],
   "source": [
    "indexToDelete=[]\n",
    "#il valore threshold è solo di esempio, si faranno prove con più valori\n",
    "threshold= 10\n",
    "for i=0 to len(tab):\n",
    "    #controllo gli index delle entry che hanno più missing value di quelli consentiti da threshold\n",
    "    if tab.loc[i:i].isnull().sum().sum() > threshold: \n",
    "        indexToDelete.add(i)"
   ]
  },
  {
   "cell_type": "code",
   "execution_count": null,
   "id": "d4d2c85a",
   "metadata": {},
   "outputs": [],
   "source": []
  }
 ],
 "metadata": {
  "kernelspec": {
   "display_name": "Python 3 (ipykernel)",
   "language": "python",
   "name": "python3"
  },
  "language_info": {
   "codemirror_mode": {
    "name": "ipython",
    "version": 3
   },
   "file_extension": ".py",
   "mimetype": "text/x-python",
   "name": "python",
   "nbconvert_exporter": "python",
   "pygments_lexer": "ipython3",
   "version": "3.10.9"
  }
 },
 "nbformat": 4,
 "nbformat_minor": 5
}
